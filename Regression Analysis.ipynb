{
 "cells": [
  {
   "cell_type": "markdown",
   "metadata": {
    "slideshow": {
     "slide_type": "slide"
    }
   },
   "source": [
    "# Regression Analysis\n",
    "\n",
    "<br/>\n",
    "\n",
    "- Regression problem\n",
    "\n",
    "- Analytical solution\n",
    "\n",
    "- Regression results\n",
    "\n",
    "- Application to capital markets"
   ]
  },
  {
   "cell_type": "code",
   "execution_count": 1,
   "metadata": {
    "collapsed": false,
    "slideshow": {
     "slide_type": "skip"
    }
   },
   "outputs": [],
   "source": [
    "import numpy  as np\n",
    "import pandas as pd\n",
    "import seaborn as sns\n",
    "import statsmodels.api as sm\n",
    "sns.set_style('whitegrid')\n",
    "sns.set_context('poster', rc={\"lines.linewidth\": 2} )\n",
    "\n",
    "%matplotlib inline"
   ]
  },
  {
   "cell_type": "code",
   "execution_count": 254,
   "metadata": {
    "collapsed": false,
    "slideshow": {
     "slide_type": "skip"
    }
   },
   "outputs": [],
   "source": [
    "def gen_regression_problem(N=30, Vx=4, Ve=1.5, alpha=1, beta=0.5, mu=0, positive=False ):\n",
    "\n",
    "    X = np.random.uniform(-Vx + mu, Vx + mu, N )\n",
    "    E = np.random.normal(0, Ve, N )\n",
    "    \n",
    "    Y  = [ alpha + beta*x + e for x,e in zip(X,E) ]\n",
    "    if positive: Y = np.maximum(Y,0)\n",
    "        \n",
    "    df = pd.DataFrame({ 'X':X, 'Y':Y, 'E':E }).sort_values('X')  \n",
    "\n",
    "    return df\n",
    "\n",
    "def reg_table(y,x):\n",
    "    from IPython.core.display import HTML\n",
    "    from IPython.core.display import display\n",
    "    reg = sm.OLS(y,x).fit()\n",
    "    s   = reg.summary2().tables[0].ix[[0,1,3,6]].to_html(index=False, header=False)\n",
    "    display( HTML(s) )\n",
    "    display( reg.summary().tables[1] )\n",
    "    \n",
    "\n",
    "def plot_reg(df, alpha=None, beta=None, w=[-6,6], h=[-6,6], prt=True, fs=(10,4)):\n",
    "    \n",
    "    fig, (ax1) = plt.subplots(1,1, figsize=fs)\n",
    "            \n",
    "    _ = ax1.scatter(y=df['Y'], x=df['X'], marker='o', s=50, zorder=2 )\n",
    "    _ = ax1.set_xlim(w)\n",
    "    _ = ax1.set_ylim(h)\n",
    "        \n",
    "    if beta is not None: \n",
    "        \n",
    "        df['Y1' ] = df['X'].apply( lambda x : alpha + beta * x )\n",
    "        df['err'] = df['Y'] - df['Y1']\n",
    "        SS_res    = (df['err']**2).sum()\n",
    "        if prt:    \n",
    "            print( 'alpha = {0:1.1f}, beta = {1:1.1f}' .format(alpha, beta) )\n",
    "            print('Sum of Squared Residuals : {0:1.2f}'.format(SS_res)  )\n",
    "\n",
    "        plot_fitted_line(alpha, beta, ax1, w)\n",
    "                \n",
    "        for i in range(0,len(df)):\n",
    "            P1 = [ df['X' ].iloc[i], df['X'].iloc[i] ]\n",
    "            P2 = [ df['Y1'].iloc[i], df['Y'].iloc[i] ]\n",
    "            ax1.plot(P1, P2, color='cyan', alpha=0.5, zorder=1)\n",
    "\n",
    "            \n",
    "def reg_plot_table(df, alpha=None, beta=None):\n",
    "    if alpha is None: \n",
    "        reg = sm.OLS(df['Y'], sm.add_constant(df['X'])).fit()\n",
    "        alpha = reg.params['const']\n",
    "        beta  = reg.params['X']\n",
    "    plot_reg(df, alpha, beta, prt=False)\n",
    "    reg_table(df['Y'], sm.add_constant(df['X']))\n",
    "\n",
    "def plot_fitted_line(alpha, beta, ax, w=[-6,6]):\n",
    "    f   = lambda x : alpha + beta * x\n",
    "    dom = np.linspace(*w)\n",
    "    img = list( map( f, dom ) )\n",
    "    ax.plot(dom, img, color='k', linestyle='--')\n",
    "\n",
    "def show_dataset():\n",
    "    df = gen_regression_problem(50, 10, 75, 0, 25, mu=10, positive=True )\n",
    "    plot_reg(df, w=[0, 20], h=[0,600], fs=(16,8))\n",
    "    return df\n",
    "    \n",
    "def fit_dataset(df, prt=True):\n",
    "    X1  = sm.add_constant(df[['X']]) \n",
    "    reg = sm.OLS( df['Y'], X1 ).fit()\n",
    "    plot_reg(df, reg.params['const'], reg.params['X'], w=[0, 20], h=[0,600], prt=prt)\n",
    "    return reg"
   ]
  },
  {
   "cell_type": "markdown",
   "metadata": {
    "slideshow": {
     "slide_type": "slide"
    }
   },
   "source": [
    "# Introduction\n",
    "\n",
    "Imagine you bought a car and the seller told you that it can run for $35$ kilometer per liter of gasoline."
   ]
  },
  {
   "cell_type": "markdown",
   "metadata": {
    "slideshow": {
     "slide_type": "fragment"
    }
   },
   "source": [
    "This seems too good to be true, so you decide to investigate the matter."
   ]
  },
  {
   "cell_type": "markdown",
   "metadata": {
    "slideshow": {
     "slide_type": "fragment"
    }
   },
   "source": [
    "You start using your new car and every time you drive from a place to another you keep track of"
   ]
  },
  {
   "cell_type": "markdown",
   "metadata": {
    "slideshow": {
     "slide_type": "fragment"
    }
   },
   "source": [
    "$$ x_i = \\text{ liters of gasoline consumed during trip } i $$"
   ]
  },
  {
   "cell_type": "markdown",
   "metadata": {
    "slideshow": {
     "slide_type": "fragment"
    }
   },
   "source": [
    "$$ y_i = \\text{ length in kilometers of trip } i $$"
   ]
  },
  {
   "cell_type": "markdown",
   "metadata": {
    "slideshow": {
     "slide_type": "slide"
    }
   },
   "source": [
    "After some months you made $N=50$ trips and you have a dataset with $N$ observations in the form\n",
    "\n",
    "$$ (x_i, y_i) \\quad \\text{ for } \\quad i=1,\\dots N $$"
   ]
  },
  {
   "cell_type": "markdown",
   "metadata": {
    "slideshow": {
     "slide_type": "fragment"
    }
   },
   "source": [
    "How can you use this data to check if you can *actually* drive for $35$ km with one liter of gasoline?"
   ]
  },
  {
   "cell_type": "markdown",
   "metadata": {
    "slideshow": {
     "slide_type": "fragment"
    }
   },
   "source": [
    "## Use linear regression!"
   ]
  },
  {
   "cell_type": "markdown",
   "metadata": {
    "slideshow": {
     "slide_type": "slide"
    }
   },
   "source": [
    "It makes sense to conjecture a linear relation between liters and kilometers"
   ]
  },
  {
   "cell_type": "markdown",
   "metadata": {
    "slideshow": {
     "slide_type": "fragment"
    }
   },
   "source": [
    "Hence you assume a linear model of the form\n",
    "\n",
    "$$ y_i = \\alpha + \\beta x_i + \\varepsilon_i $$"
   ]
  },
  {
   "cell_type": "markdown",
   "metadata": {
    "slideshow": {
     "slide_type": "fragment"
    }
   },
   "source": [
    "Of course, you expect $\\alpha = 0$ and $\\beta>0$ (why?)"
   ]
  },
  {
   "cell_type": "markdown",
   "metadata": {
    "slideshow": {
     "slide_type": "fragment"
    }
   },
   "source": [
    "But the precise value of $\\beta$ is an *empirical question*. "
   ]
  },
  {
   "cell_type": "markdown",
   "metadata": {
    "slideshow": {
     "slide_type": "fragment"
    }
   },
   "source": [
    "Will it be close to $35$, as promised, or not?"
   ]
  },
  {
   "cell_type": "markdown",
   "metadata": {
    "slideshow": {
     "slide_type": "slide"
    }
   },
   "source": [
    "This is how your dataset looks like on your notebook:\n",
    "\n",
    "![Notebook](Notebook.png \"Notebook\")"
   ]
  },
  {
   "cell_type": "markdown",
   "metadata": {
    "slideshow": {
     "slide_type": "slide"
    }
   },
   "source": [
    "You can also plot it on the (x,y) plane:"
   ]
  },
  {
   "cell_type": "code",
   "execution_count": 213,
   "metadata": {
    "collapsed": false,
    "slideshow": {
     "slide_type": "fragment"
    }
   },
   "outputs": [
    {
     "data": {
      "image/png": "[encoded data removed]",
      "text/plain": [
       "<matplotlib.figure.Figure at 0x109194198>"
      ]
     },
     "metadata": {},
     "output_type": "display_data"
    }
   ],
   "source": [
    "car_data = show_dataset()"
   ]
  },
  {
   "cell_type": "markdown",
   "metadata": {
    "slideshow": {
     "slide_type": "slide"
    }
   },
   "source": [
    "You fit a linear regression to estimate the coefficients"
   ]
  },
  {
   "cell_type": "code",
   "execution_count": 255,
   "metadata": {
    "collapsed": false,
    "scrolled": false,
    "slideshow": {
     "slide_type": "fragment"
    }
   },
   "outputs": [
    {
     "data": {
      "text/html": [
       "<table class=\"simpletable\">\n",
       "<tr>\n",
       "    <td></td>       <th>coef</th>     <th>std err</th>      <th>t</th>      <th>P>|t|</th> <th>[95.0% Conf. Int.]</th> \n",
       "</tr>\n",
       "<tr>\n",
       "  <th>const</th> <td>   23.2423</td> <td>   14.999</td> <td>    1.550</td> <td> 0.128</td> <td>   -6.914    53.399</td>\n",
       "</tr>\n",
       "<tr>\n",
       "  <th>X</th>     <td>   22.2526</td> <td>    1.295</td> <td>   17.187</td> <td> 0.000</td> <td>   19.649    24.856</td>\n",
       "</tr>\n",
       "</table>"
      ],
      "text/plain": [
       "<class 'statsmodels.iolib.table.SimpleTable'>"
      ]
     },
     "execution_count": 255,
     "metadata": {},
     "output_type": "execute_result"
    },
    {
     "data": {
      "image/png": "[encoded data removed]",
      "text/plain": [
       "<matplotlib.figure.Figure at 0x119a7c710>"
      ]
     },
     "metadata": {},
     "output_type": "display_data"
    }
   ],
   "source": [
    "reg = fit_dataset(car_data, prt=False); reg.summary().tables[1]"
   ]
  },
  {
   "cell_type": "markdown",
   "metadata": {
    "slideshow": {
     "slide_type": "fragment"
    }
   },
   "source": [
    "According to the estimate, the car runs for less than 25 km per liter of gasoline.\n",
    "The seller was lying!"
   ]
  },
  {
   "cell_type": "markdown",
   "metadata": {
    "slideshow": {
     "slide_type": "skip"
    }
   },
   "source": [
    "<br/><br/><br/><br/>"
   ]
  },
  {
   "cell_type": "markdown",
   "metadata": {
    "slideshow": {
     "slide_type": "slide"
    }
   },
   "source": [
    "# Regression Problem\n",
    "\n",
    "We are given $N$ points $(x_i, y_i)$ with $i=1,\\dots N$.\n",
    "\n",
    "We can think of those as sample draws from the the joint distribution of two random variables $X$ and $Y$."
   ]
  },
  {
   "cell_type": "markdown",
   "metadata": {
    "slideshow": {
     "slide_type": "fragment"
    }
   },
   "source": [
    "We want to check if there is a linear relation between $X$ and $Y$."
   ]
  },
  {
   "cell_type": "markdown",
   "metadata": {
    "slideshow": {
     "slide_type": "fragment"
    }
   },
   "source": [
    "If that is the case, we should find a non-zero $\\beta$ when estimating the linear model\n",
    "\n",
    "$$ y_i = \\alpha + \\beta x_i + \\varepsilon_i $$"
   ]
  },
  {
   "cell_type": "markdown",
   "metadata": {
    "slideshow": {
     "slide_type": "slide"
    }
   },
   "source": [
    "# Geometric Interpretation\n",
    "\n",
    "We can scatter-plot the datapoints on the (x,y) plane\n",
    "\n",
    "![Regression Problem](problem.png \"Regression Problem\")"
   ]
  },
  {
   "cell_type": "markdown",
   "metadata": {
    "slideshow": {
     "slide_type": "fragment"
    }
   },
   "source": [
    "We want the line that fits the points in the best possible way."
   ]
  },
  {
   "cell_type": "markdown",
   "metadata": {
    "slideshow": {
     "slide_type": "fragment"
    }
   },
   "source": [
    "Then the **slope** of the line will be the estimated $\\beta$, while its **intercept** will be the estimated $\\alpha$."
   ]
  },
  {
   "cell_type": "markdown",
   "metadata": {
    "slideshow": {
     "slide_type": "slide"
    }
   },
   "source": [
    "The best fitting line is the one that is closer to most of the points.\n",
    "![Fitted Line](fitted.png \"Fitted Line\")"
   ]
  },
  {
   "cell_type": "markdown",
   "metadata": {
    "slideshow": {
     "slide_type": "fragment"
    }
   },
   "source": [
    "More precisely, it is the line with intercept $\\alpha$ and slope $\\beta$ which minimizes the **sum of squared residuals**\n",
    "\n",
    "$$ SS_{res} = \\sum_{i=1}^N \\varepsilon_i^2 =  \\sum_{i=1}^N ( y_i - \\alpha - \\beta x_i )^2 $$"
   ]
  },
  {
   "cell_type": "markdown",
   "metadata": {
    "slideshow": {
     "slide_type": "skip"
    }
   },
   "source": [
    "<br/><br/><br/><br/>"
   ]
  },
  {
   "cell_type": "markdown",
   "metadata": {
    "slideshow": {
     "slide_type": "slide"
    }
   },
   "source": [
    "# Example\n",
    "\n",
    "<br/>"
   ]
  },
  {
   "cell_type": "code",
   "execution_count": 281,
   "metadata": {
    "collapsed": false,
    "scrolled": false,
    "slideshow": {
     "slide_type": "fragment"
    }
   },
   "outputs": [
    {
     "data": {
      "image/png": "[encoded data removed]",
      "text/plain": [
       "<matplotlib.figure.Figure at 0x11b807dd8>"
      ]
     },
     "metadata": {},
     "output_type": "display_data"
    }
   ],
   "source": [
    "df  = gen_regression_problem(); plot_reg(df)"
   ]
  },
  {
   "cell_type": "markdown",
   "metadata": {
    "slideshow": {
     "slide_type": "slide"
    }
   },
   "source": [
    "# First guess"
   ]
  },
  {
   "cell_type": "code",
   "execution_count": 284,
   "metadata": {
    "collapsed": true,
    "slideshow": {
     "slide_type": "fragment"
    }
   },
   "outputs": [],
   "source": [
    "alpha = 2.5\n",
    "beta  = -0.5"
   ]
  },
  {
   "cell_type": "code",
   "execution_count": 285,
   "metadata": {
    "collapsed": false,
    "scrolled": true,
    "slideshow": {
     "slide_type": "fragment"
    }
   },
   "outputs": [
    {
     "name": "stdout",
     "output_type": "stream",
     "text": [
      "alpha = 2.5, beta = -0.5\n",
      "Sum of Squared Residuals : 214.54\n"
     ]
    },
    {
     "data": {
      "image/png": "[encoded data removed]",
      "text/plain": [
       "<matplotlib.figure.Figure at 0x10916f9e8>"
      ]
     },
     "metadata": {},
     "output_type": "display_data"
    }
   ],
   "source": [
    "plot_reg(df, alpha, beta)"
   ]
  },
  {
   "cell_type": "markdown",
   "metadata": {
    "slideshow": {
     "slide_type": "fragment"
    }
   },
   "source": [
    "Not good at all! The slope of the line $\\beta$ should be positive"
   ]
  },
  {
   "cell_type": "markdown",
   "metadata": {
    "slideshow": {
     "slide_type": "slide"
    }
   },
   "source": [
    "# Second guess"
   ]
  },
  {
   "cell_type": "code",
   "execution_count": 287,
   "metadata": {
    "collapsed": true,
    "slideshow": {
     "slide_type": "fragment"
    }
   },
   "outputs": [],
   "source": [
    "alpha = 2.5\n",
    "beta  = 0.8"
   ]
  },
  {
   "cell_type": "code",
   "execution_count": 288,
   "metadata": {
    "collapsed": false,
    "scrolled": true,
    "slideshow": {
     "slide_type": "fragment"
    }
   },
   "outputs": [
    {
     "name": "stdout",
     "output_type": "stream",
     "text": [
      "alpha = 2.5, beta = 0.8\n",
      "Sum of Squared Residuals : 202.30\n"
     ]
    },
    {
     "data": {
      "image/png": "[encoded data removed]",
      "text/plain": [
       "<matplotlib.figure.Figure at 0x11b21d828>"
      ]
     },
     "metadata": {},
     "output_type": "display_data"
    }
   ],
   "source": [
    "plot_reg(df, alpha, beta)"
   ]
  },
  {
   "cell_type": "markdown",
   "metadata": {
    "slideshow": {
     "slide_type": "fragment"
    }
   },
   "source": [
    "Better, but the $\\alpha$ is too high"
   ]
  },
  {
   "cell_type": "markdown",
   "metadata": {
    "slideshow": {
     "slide_type": "slide"
    }
   },
   "source": [
    "# Third guess"
   ]
  },
  {
   "cell_type": "code",
   "execution_count": 289,
   "metadata": {
    "collapsed": true,
    "slideshow": {
     "slide_type": "fragment"
    }
   },
   "outputs": [],
   "source": [
    "alpha =  1\n",
    "beta  =  0.8"
   ]
  },
  {
   "cell_type": "code",
   "execution_count": 290,
   "metadata": {
    "collapsed": false,
    "scrolled": true,
    "slideshow": {
     "slide_type": "fragment"
    }
   },
   "outputs": [
    {
     "name": "stdout",
     "output_type": "stream",
     "text": [
      "alpha = 1.0, beta = 0.8\n",
      "Sum of Squared Residuals : 104.19\n"
     ]
    },
    {
     "data": {
      "image/png": "[encoded data removed]",
      "text/plain": [
       "<matplotlib.figure.Figure at 0x11b646cc0>"
      ]
     },
     "metadata": {},
     "output_type": "display_data"
    }
   ],
   "source": [
    "plot_reg(df, alpha, beta)"
   ]
  },
  {
   "cell_type": "markdown",
   "metadata": {
    "slideshow": {
     "slide_type": "fragment"
    }
   },
   "source": [
    "Not bad! But can we do better?"
   ]
  },
  {
   "cell_type": "markdown",
   "metadata": {
    "slideshow": {
     "slide_type": "skip"
    }
   },
   "source": [
    "<br/><br/><br/><br/>"
   ]
  },
  {
   "cell_type": "markdown",
   "metadata": {
    "slideshow": {
     "slide_type": "slide"
    }
   },
   "source": [
    "# Analytical Solution\n",
    "\n",
    "We want to minimize the sum of squared resuduals, $SS_{res}$ , as a funcion of $\\alpha$ and $\\beta$. How?"
   ]
  },
  {
   "cell_type": "markdown",
   "metadata": {
    "slideshow": {
     "slide_type": "fragment"
    }
   },
   "source": [
    "#### Let's take derivatives!"
   ]
  },
  {
   "cell_type": "markdown",
   "metadata": {
    "slideshow": {
     "slide_type": "fragment"
    }
   },
   "source": [
    "First, we impose the FOC with respect to $\\alpha$ and we get\n",
    "\n",
    "$$ \n",
    "0 = \\frac{\\partial}{\\partial \\alpha}SS_{res} \n",
    "\\implies \n",
    "\\alpha = \\frac{1}{N} \\sum_{i=1}^N y_i - \\frac{\\beta}{N} \\sum_{i=1}^N x_i \n",
    "= \\bar{y} - \\beta \\bar{x}\n",
    "$$"
   ]
  },
  {
   "cell_type": "markdown",
   "metadata": {
    "slideshow": {
     "slide_type": "slide"
    }
   },
   "source": [
    "Thus we can re-write $SS_{res}$ as \n",
    "\n",
    "$$ SS_{res} = \\sum_{i=1}^N \\left( y_i - \\bar{y} - \\beta (x_i-\\bar{x}) \\right)^2 $$"
   ]
  },
  {
   "cell_type": "markdown",
   "metadata": {
    "slideshow": {
     "slide_type": "fragment"
    }
   },
   "source": [
    "and imposing the FOC wrt $\\beta$ we find\n",
    "\n",
    "$$ \n",
    "\\beta = \\frac{ \\frac{1}{N} \\sum_i (y_i - \\bar{y})(x_i -\\bar{x}) } { \\frac{1}{N} \\sum_i (x_i -\\bar{x})^2 }\n",
    "= \\frac{ \\hat{Cov}(X,Y) } { \\hat{V}(X) }\n",
    "$$"
   ]
  },
  {
   "cell_type": "markdown",
   "metadata": {
    "slideshow": {
     "slide_type": "fragment"
    }
   },
   "source": [
    "Hence we see that the optimal $\\beta$ is the sample covariance of $X$ and $Y$ divided by the sample variance of the explanatory variable $X$."
   ]
  },
  {
   "cell_type": "markdown",
   "metadata": {
    "slideshow": {
     "slide_type": "slide"
    }
   },
   "source": [
    "### Optimal $\\alpha$ and $\\beta$"
   ]
  },
  {
   "cell_type": "code",
   "execution_count": 278,
   "metadata": {
    "collapsed": false,
    "slideshow": {
     "slide_type": "fragment"
    }
   },
   "outputs": [
    {
     "name": "stdout",
     "output_type": "stream",
     "text": [
      "alpha = 1.0, beta = 0.6\n",
      "Sum of Squared Residuals : 81.68\n"
     ]
    },
    {
     "data": {
      "image/png": "[encoded data removed]",
      "text/plain": [
       "<matplotlib.figure.Figure at 0x104172f98>"
      ]
     },
     "metadata": {},
     "output_type": "display_data"
    }
   ],
   "source": [
    "X1    = sm.add_constant(df[['X']])  # Define the explanatory variable\n",
    "reg   = sm.OLS( df['Y'], X1 ).fit() # Fit the regression\n",
    "alpha = reg.params['const']         # Estimated alpha\n",
    "beta  = reg.params['X']             # Estimated beta\n",
    "plot_reg(df, alpha, beta)"
   ]
  },
  {
   "cell_type": "markdown",
   "metadata": {
    "slideshow": {
     "slide_type": "skip"
    }
   },
   "source": [
    "<br/><br/><br/><br/>"
   ]
  },
  {
   "cell_type": "markdown",
   "metadata": {
    "slideshow": {
     "slide_type": "slide"
    }
   },
   "source": [
    "# $R^2$\n",
    "\n",
    "The $R^2$ or **coefficient of determination** is the proportion of the variance of $Y$ that is predictable from $X$.\n",
    "\n",
    "In other words it measures how well $X$ can explain $Y$."
   ]
  },
  {
   "cell_type": "markdown",
   "metadata": {
    "slideshow": {
     "slide_type": "fragment"
    }
   },
   "source": [
    "To define the $R^2$ we first need to introduce two objects:\n",
    "\n",
    "1. The total sum of squares $SS_{tot}$\n",
    "<br/><br/>\n",
    "2. The regression sum of squares $SS_{reg}$"
   ]
  },
  {
   "cell_type": "markdown",
   "metadata": {
    "slideshow": {
     "slide_type": "slide"
    }
   },
   "source": [
    "# Total Sum of Squares\n",
    "\n",
    "The total sum of squares $SS_{tot}$ is proportional to the sample variance of $Y$\n",
    "\n",
    "$$ SS_{tot} = \\frac{1}{N-1} \\sum_{i=1}^N (y_i - \\bar{y})^2 = \\hat{V}(Y) $$ "
   ]
  },
  {
   "cell_type": "markdown",
   "metadata": {
    "slideshow": {
     "slide_type": "fragment"
    }
   },
   "source": [
    "This is the variation we would like to explain using the explanatory variable $X$."
   ]
  },
  {
   "cell_type": "markdown",
   "metadata": {
    "slideshow": {
     "slide_type": "slide"
    }
   },
   "source": [
    "# Regression Sum of Squares\n",
    "\n",
    "<br/>\n",
    "The *regression sum of squares* or *explained sum of squares* $SS_{tot}$ is proportional to the sample variance of $\\beta X$\n",
    "\n",
    "$$ SS_{reg} = \\frac{1}{N-1} \\sum_{i=1}^N (\\beta x_i - \\beta \\bar{x})^2 = \\hat{V}(\\beta X) $$"
   ]
  },
  {
   "cell_type": "markdown",
   "metadata": {
    "slideshow": {
     "slide_type": "fragment"
    }
   },
   "source": [
    "This is the variation we can explain using the explanatory variable $X$."
   ]
  },
  {
   "cell_type": "markdown",
   "metadata": {
    "slideshow": {
     "slide_type": "slide"
    }
   },
   "source": [
    "# $R^2$ Definition\n",
    "\n",
    "<br/>\n",
    "The coefficient of determination or $R^2$ is defined as \n",
    "\n",
    "$$ R^2 = \\frac{SS_{reg}}{SS_{tot}} $$"
   ]
  },
  {
   "cell_type": "markdown",
   "metadata": {
    "slideshow": {
     "slide_type": "fragment"
    }
   },
   "source": [
    "It measures the fraction of variance that can be explained by $X$"
   ]
  },
  {
   "cell_type": "markdown",
   "metadata": {
    "slideshow": {
     "slide_type": "slide"
    }
   },
   "source": [
    "### Example : Low $R^2$"
   ]
  },
  {
   "cell_type": "code",
   "execution_count": 279,
   "metadata": {
    "collapsed": false,
    "slideshow": {
     "slide_type": "fragment"
    }
   },
   "outputs": [
    {
     "data": {
      "text/html": [
       "<table border=\"1\" class=\"dataframe\">\n",
       "  <tbody>\n",
       "    <tr>\n",
       "      <td>Model:</td>\n",
       "      <td>OLS</td>\n",
       "      <td>Adj. R-squared:</td>\n",
       "      <td>0.202</td>\n",
       "    </tr>\n",
       "    <tr>\n",
       "      <td>Dependent Variable:</td>\n",
       "      <td>Y</td>\n",
       "      <td>AIC:</td>\n",
       "      <td>504.1063</td>\n",
       "    </tr>\n",
       "    <tr>\n",
       "      <td>No. Observations:</td>\n",
       "      <td>100</td>\n",
       "      <td>Log-Likelihood:</td>\n",
       "      <td>-250.05</td>\n",
       "    </tr>\n",
       "    <tr>\n",
       "      <td>R-squared:</td>\n",
       "      <td>0.210</td>\n",
       "      <td>Scale:</td>\n",
       "      <td>8.8763</td>\n",
       "    </tr>\n",
       "  </tbody>\n",
       "</table>"
      ],
      "text/plain": [
       "<IPython.core.display.HTML object>"
      ]
     },
     "metadata": {},
     "output_type": "display_data"
    },
    {
     "data": {
      "text/html": [
       "<table class=\"simpletable\">\n",
       "<tr>\n",
       "    <td></td>       <th>coef</th>     <th>std err</th>      <th>t</th>      <th>P>|t|</th> <th>[95.0% Conf. Int.]</th> \n",
       "</tr>\n",
       "<tr>\n",
       "  <th>const</th> <td>    0.6221</td> <td>    0.298</td> <td>    2.085</td> <td> 0.040</td> <td>    0.030     1.214</td>\n",
       "</tr>\n",
       "<tr>\n",
       "  <th>X</th>     <td>    0.6493</td> <td>    0.127</td> <td>    5.101</td> <td> 0.000</td> <td>    0.397     0.902</td>\n",
       "</tr>\n",
       "</table>"
      ],
      "text/plain": [
       "<class 'statsmodels.iolib.table.SimpleTable'>"
      ]
     },
     "metadata": {},
     "output_type": "display_data"
    },
    {
     "data": {
      "image/png": "[encoded data removed]",
      "text/plain": [
       "<matplotlib.figure.Figure at 0x119f6f6d8>"
      ]
     },
     "metadata": {},
     "output_type": "display_data"
    }
   ],
   "source": [
    "df = gen_regression_problem(100, 4, 3, 0.2, 0.5 ); reg_plot_table(df)"
   ]
  },
  {
   "cell_type": "markdown",
   "metadata": {
    "slideshow": {
     "slide_type": "slide"
    }
   },
   "source": [
    "### Example :  High $R^2$"
   ]
  },
  {
   "cell_type": "code",
   "execution_count": 280,
   "metadata": {
    "collapsed": false,
    "scrolled": false,
    "slideshow": {
     "slide_type": "fragment"
    }
   },
   "outputs": [
    {
     "data": {
      "text/html": [
       "<table border=\"1\" class=\"dataframe\">\n",
       "  <tbody>\n",
       "    <tr>\n",
       "      <td>Model:</td>\n",
       "      <td>OLS</td>\n",
       "      <td>Adj. R-squared:</td>\n",
       "      <td>0.854</td>\n",
       "    </tr>\n",
       "    <tr>\n",
       "      <td>Dependent Variable:</td>\n",
       "      <td>Y</td>\n",
       "      <td>AIC:</td>\n",
       "      <td>145.2269</td>\n",
       "    </tr>\n",
       "    <tr>\n",
       "      <td>No. Observations:</td>\n",
       "      <td>100</td>\n",
       "      <td>Log-Likelihood:</td>\n",
       "      <td>-70.613</td>\n",
       "    </tr>\n",
       "    <tr>\n",
       "      <td>R-squared:</td>\n",
       "      <td>0.856</td>\n",
       "      <td>Scale:</td>\n",
       "      <td>0.24527</td>\n",
       "    </tr>\n",
       "  </tbody>\n",
       "</table>"
      ],
      "text/plain": [
       "<IPython.core.display.HTML object>"
      ]
     },
     "metadata": {},
     "output_type": "display_data"
    },
    {
     "data": {
      "text/html": [
       "<table class=\"simpletable\">\n",
       "<tr>\n",
       "    <td></td>       <th>coef</th>     <th>std err</th>      <th>t</th>      <th>P>|t|</th> <th>[95.0% Conf. Int.]</th> \n",
       "</tr>\n",
       "<tr>\n",
       "  <th>const</th> <td>    0.2722</td> <td>    0.050</td> <td>    5.464</td> <td> 0.000</td> <td>    0.173     0.371</td>\n",
       "</tr>\n",
       "<tr>\n",
       "  <th>X</th>     <td>    0.5162</td> <td>    0.021</td> <td>   24.090</td> <td> 0.000</td> <td>    0.474     0.559</td>\n",
       "</tr>\n",
       "</table>"
      ],
      "text/plain": [
       "<class 'statsmodels.iolib.table.SimpleTable'>"
      ]
     },
     "metadata": {},
     "output_type": "display_data"
    },
    {
     "data": {
      "image/png": "[encoded data removed]",
      "text/plain": [
       "<matplotlib.figure.Figure at 0x11999b198>"
      ]
     },
     "metadata": {},
     "output_type": "display_data"
    }
   ],
   "source": [
    "df = gen_regression_problem(100, 4, 0.5, 0.2, 0.5 ); reg_plot_table(df)"
   ]
  },
  {
   "cell_type": "markdown",
   "metadata": {
    "slideshow": {
     "slide_type": "slide"
    }
   },
   "source": [
    "# Significance of $\\beta$\n",
    "\n",
    "When we estimate a model on the data, we want to measure the statistical significance of the estimated parameters."
   ]
  },
  {
   "cell_type": "markdown",
   "metadata": {
    "slideshow": {
     "slide_type": "fragment"
    }
   },
   "source": [
    "To asses the significance of the estimated $\\beta$, for instance, we first need to compute the *volatility* of the estimated parameter."
   ]
  },
  {
   "cell_type": "markdown",
   "metadata": {
    "slideshow": {
     "slide_type": "fragment"
    }
   },
   "source": [
    "Then we compare the magnitude of the estimated $\\beta$ with its volatility."
   ]
  },
  {
   "cell_type": "markdown",
   "metadata": {
    "slideshow": {
     "slide_type": "fragment"
    }
   },
   "source": [
    "If $\\beta$ is large enough wrt its volatility, we conclude that it is **significantly** different from zero."
   ]
  },
  {
   "cell_type": "markdown",
   "metadata": {
    "slideshow": {
     "slide_type": "slide"
    }
   },
   "source": [
    "# Standard Error\n",
    "The *standard error* of $\\beta$ is the volatility of the estimated $\\beta$, given $X$. "
   ]
  },
  {
   "cell_type": "markdown",
   "metadata": {
    "slideshow": {
     "slide_type": "fragment"
    }
   },
   "source": [
    "Since $V(y_i \\mid X) = V(\\alpha + \\beta x_i + \\varepsilon_i \\mid X) =  V(\\varepsilon)$,"
   ]
  },
  {
   "cell_type": "markdown",
   "metadata": {
    "slideshow": {
     "slide_type": "fragment"
    }
   },
   "source": [
    "$$ V(\\beta \\mid X) \n",
    "= V\\left( \\frac{ \\sum_i (y_i - \\bar{y})(x_i -\\bar{x}) } { \\sum_i (x_i -\\bar{x})^2 } \\mid X \\right)\n",
    "= \\frac{ V(\\varepsilon) } { \\sum_i (x_i -\\bar{x})^2 }\n",
    "$$\n",
    "\n",
    "$$\n",
    "= \\frac{1}{(N-1)} \\frac{ V(\\varepsilon) } { \\hat{V}(X) }\n",
    "$$"
   ]
  },
  {
   "cell_type": "markdown",
   "metadata": {
    "slideshow": {
     "slide_type": "slide"
    }
   },
   "source": [
    "Therefore an empirical estimate of the standard error of $\\beta$ is\n",
    "\n",
    "$$ SE(\\beta) = \\sqrt{ \\frac{\\hat{V}(\\varepsilon)}{ (N-1) \\hat{V}(X)} } $$"
   ]
  },
  {
   "cell_type": "markdown",
   "metadata": {
    "slideshow": {
     "slide_type": "fragment"
    }
   },
   "source": [
    "The intuition is the following:\n",
    "\n",
    "- The standard error of $\\beta$ is the ratio between the sample volatility of $\\varepsilon$ and the sample volatility of $X$\n",
    "- When this ratio is large, it means that *points are stacked together* (see example later)\n",
    "- Thus, if the $SE(\\beta)$ is too large, our estimate of $\\beta$ is *unstable*"
   ]
  },
  {
   "cell_type": "markdown",
   "metadata": {
    "slideshow": {
     "slide_type": "slide"
    }
   },
   "source": [
    "# t-statistics\n",
    "\n",
    "The *t-statistics* is defined as the ratio\n",
    "\n",
    "$$ \\frac{\\beta}{SE(\\beta)} $$ \n",
    "\n",
    "If the t-stat is far enough from zero, then we say that the estimated $\\beta$ is significantly different from zero.\n",
    "\n",
    "The threshold for significance depends on the number of explanatory variables in our linear model."
   ]
  },
  {
   "cell_type": "markdown",
   "metadata": {
    "slideshow": {
     "slide_type": "slide"
    }
   },
   "source": [
    "# p-value\n",
    "\n",
    "A more practical way to check if an estimated coefficient is significantly different from zero is to look at the p-value."
   ]
  },
  {
   "cell_type": "markdown",
   "metadata": {
    "slideshow": {
     "slide_type": "fragment"
    }
   },
   "source": [
    "It is computed from the t-stat and it (roughly) gives the probability that the estimated coefficient is non-zero even if the real coefficient is zero (false positive)."
   ]
  },
  {
   "cell_type": "markdown",
   "metadata": {
    "slideshow": {
     "slide_type": "fragment"
    }
   },
   "source": [
    "The thresholds are fixed by convention as:\n",
    "- p-value $\\geq 5  \\% \\quad \\implies \\quad $ not significant\n",
    "- p-value $ <   5  \\% \\quad \\implies \\quad $ weakly significant\n",
    "- p-value $ <   1  \\% \\quad \\implies \\quad $ significant\n",
    "- p-value $ <   0.1\\% \\,\\,  \\implies \\quad $ highly significant"
   ]
  },
  {
   "cell_type": "markdown",
   "metadata": {
    "slideshow": {
     "slide_type": "skip"
    }
   },
   "source": [
    "<br/><br/><br/><br/>"
   ]
  },
  {
   "cell_type": "markdown",
   "metadata": {
    "slideshow": {
     "slide_type": "slide"
    }
   },
   "source": [
    "##  Example :  Highly Significant $\\beta$"
   ]
  },
  {
   "cell_type": "code",
   "execution_count": 291,
   "metadata": {
    "collapsed": false,
    "slideshow": {
     "slide_type": "fragment"
    }
   },
   "outputs": [
    {
     "data": {
      "text/html": [
       "<table border=\"1\" class=\"dataframe\">\n",
       "  <tbody>\n",
       "    <tr>\n",
       "      <td>Model:</td>\n",
       "      <td>OLS</td>\n",
       "      <td>Adj. R-squared:</td>\n",
       "      <td>0.564</td>\n",
       "    </tr>\n",
       "    <tr>\n",
       "      <td>Dependent Variable:</td>\n",
       "      <td>Y</td>\n",
       "      <td>AIC:</td>\n",
       "      <td>422.1055</td>\n",
       "    </tr>\n",
       "    <tr>\n",
       "      <td>No. Observations:</td>\n",
       "      <td>150</td>\n",
       "      <td>Log-Likelihood:</td>\n",
       "      <td>-209.05</td>\n",
       "    </tr>\n",
       "    <tr>\n",
       "      <td>R-squared:</td>\n",
       "      <td>0.567</td>\n",
       "      <td>Scale:</td>\n",
       "      <td>0.96360</td>\n",
       "    </tr>\n",
       "  </tbody>\n",
       "</table>"
      ],
      "text/plain": [
       "<IPython.core.display.HTML object>"
      ]
     },
     "metadata": {},
     "output_type": "display_data"
    },
    {
     "data": {
      "text/html": [
       "<table class=\"simpletable\">\n",
       "<tr>\n",
       "    <td></td>       <th>coef</th>     <th>std err</th>      <th>t</th>      <th>P>|t|</th> <th>[95.0% Conf. Int.]</th> \n",
       "</tr>\n",
       "<tr>\n",
       "  <th>const</th> <td>    0.3161</td> <td>    0.081</td> <td>    3.896</td> <td> 0.000</td> <td>    0.156     0.476</td>\n",
       "</tr>\n",
       "<tr>\n",
       "  <th>X</th>     <td>    0.4947</td> <td>    0.036</td> <td>   13.928</td> <td> 0.000</td> <td>    0.424     0.565</td>\n",
       "</tr>\n",
       "</table>"
      ],
      "text/plain": [
       "<class 'statsmodels.iolib.table.SimpleTable'>"
      ]
     },
     "metadata": {},
     "output_type": "display_data"
    },
    {
     "data": {
      "image/png": "[encoded data removed]",
      "text/plain": [
       "<matplotlib.figure.Figure at 0x11b247be0>"
      ]
     },
     "metadata": {},
     "output_type": "display_data"
    }
   ],
   "source": [
    "df  = gen_regression_problem(150, 4, 1, 0.2, 0.5 ); reg_plot_table(df)"
   ]
  },
  {
   "cell_type": "markdown",
   "metadata": {
    "slideshow": {
     "slide_type": "slide"
    }
   },
   "source": [
    "##  Example :  Not Significant $\\beta$"
   ]
  },
  {
   "cell_type": "code",
   "execution_count": 292,
   "metadata": {
    "collapsed": false,
    "slideshow": {
     "slide_type": "fragment"
    }
   },
   "outputs": [
    {
     "data": {
      "text/html": [
       "<table border=\"1\" class=\"dataframe\">\n",
       "  <tbody>\n",
       "    <tr>\n",
       "      <td>Model:</td>\n",
       "      <td>OLS</td>\n",
       "      <td>Adj. R-squared:</td>\n",
       "      <td>-0.020</td>\n",
       "    </tr>\n",
       "    <tr>\n",
       "      <td>Dependent Variable:</td>\n",
       "      <td>Y</td>\n",
       "      <td>AIC:</td>\n",
       "      <td>212.0924</td>\n",
       "    </tr>\n",
       "    <tr>\n",
       "      <td>No. Observations:</td>\n",
       "      <td>50</td>\n",
       "      <td>Log-Likelihood:</td>\n",
       "      <td>-104.05</td>\n",
       "    </tr>\n",
       "    <tr>\n",
       "      <td>R-squared:</td>\n",
       "      <td>0.001</td>\n",
       "      <td>Scale:</td>\n",
       "      <td>3.9149</td>\n",
       "    </tr>\n",
       "  </tbody>\n",
       "</table>"
      ],
      "text/plain": [
       "<IPython.core.display.HTML object>"
      ]
     },
     "metadata": {},
     "output_type": "display_data"
    },
    {
     "data": {
      "text/html": [
       "<table class=\"simpletable\">\n",
       "<tr>\n",
       "    <td></td>       <th>coef</th>     <th>std err</th>      <th>t</th>      <th>P>|t|</th> <th>[95.0% Conf. Int.]</th> \n",
       "</tr>\n",
       "<tr>\n",
       "  <th>const</th> <td>    0.0074</td> <td>    0.282</td> <td>    0.026</td> <td> 0.979</td> <td>   -0.559     0.574</td>\n",
       "</tr>\n",
       "<tr>\n",
       "  <th>X</th>     <td>    0.3385</td> <td>    1.521</td> <td>    0.223</td> <td> 0.825</td> <td>   -2.719     3.396</td>\n",
       "</tr>\n",
       "</table>"
      ],
      "text/plain": [
       "<class 'statsmodels.iolib.table.SimpleTable'>"
      ]
     },
     "metadata": {},
     "output_type": "display_data"
    },
    {
     "data": {
      "image/png": "[encoded data removed]",
      "text/plain": [
       "<matplotlib.figure.Figure at 0x104165b00>"
      ]
     },
     "metadata": {},
     "output_type": "display_data"
    }
   ],
   "source": [
    "df  = gen_regression_problem(50, 0.3, 2, 0.2, 0.5 ); reg_plot_table(df)"
   ]
  },
  {
   "cell_type": "markdown",
   "metadata": {
    "slideshow": {
     "slide_type": "skip"
    }
   },
   "source": [
    "<br/><br/><br/><br/>"
   ]
  },
  {
   "cell_type": "markdown",
   "metadata": {
    "slideshow": {
     "slide_type": "slide"
    }
   },
   "source": [
    "# Capital Markets"
   ]
  },
  {
   "cell_type": "code",
   "execution_count": 320,
   "metadata": {
    "collapsed": false,
    "slideshow": {
     "slide_type": "skip"
    }
   },
   "outputs": [],
   "source": [
    "data = pd.read_csv('CRSP.csv',\n",
    "                   parse_dates=['date'], \n",
    "                   infer_datetime_format=True,\n",
    "                   na_values='C'\n",
    "                  )\n",
    "data.columns = list( map( lambda x : x.lower(), data.columns) )\n",
    "data.rename_axis({'comnam':'asset', 'sprtrn':'market'}, inplace=1, axis=1)\n",
    "data = data.set_index('date')\n",
    "data = data[ ~ data['permno'].isin([93436, 92602, 51131])]\n",
    "\n",
    "class Stock:\n",
    "    def __init__( self, permno, color, data=data ):\n",
    "        self.permno = permno\n",
    "        self.color  = color\n",
    "        self.mask   = (data['permno']==permno)\n",
    "        self.name   = data[self.mask]['asset'].iloc[0]\n",
    "        \n",
    "\n",
    "CocaCola     = Stock( 11308, sns.xkcd_rgb['red']  )\n",
    "Apple        = Stock( 14593, sns.xkcd_rgb['denim blue'] )\n",
    "Google       = Stock( 90319, sns.xkcd_rgb['teal'] )\n",
    "Microsoft    = Stock( 10107, sns.xkcd_rgb['teal'] )\n",
    "Amazon       = Stock( 84788, sns.xkcd_rgb['teal'] )\n",
    "#Sony         = Stock( 51131, sns.xkcd_rgb['teal'] )\n",
    "\n",
    "def CAPM_reg(stock, period=None):\n",
    "    df = data[stock.mask].dropna()\n",
    "    if period is not None: \n",
    "        df = df[df.index.isin(period)]\n",
    "    y  = df['ret'] \n",
    "    x  = sm.add_constant(df['market'] )\n",
    "    return reg_table(y,x)\n",
    "\n",
    "pd.set_option('display.float_format', lambda x:'%1.4f'%x)"
   ]
  },
  {
   "cell_type": "markdown",
   "metadata": {
    "slideshow": {
     "slide_type": "slide"
    }
   },
   "source": [
    "We have daily return data on a bunch of stocks"
   ]
  },
  {
   "cell_type": "code",
   "execution_count": 332,
   "metadata": {
    "collapsed": false,
    "scrolled": false,
    "slideshow": {
     "slide_type": "fragment"
    }
   },
   "outputs": [
    {
     "data": {
      "text/html": [
       "<div>\n",
       "<table border=\"1\" class=\"dataframe\">\n",
       "  <thead>\n",
       "    <tr style=\"text-align: right;\">\n",
       "      <th></th>\n",
       "      <th>permno</th>\n",
       "      <th>asset</th>\n",
       "      <th>prc</th>\n",
       "      <th>vol</th>\n",
       "      <th>ret</th>\n",
       "      <th>shrout</th>\n",
       "      <th>market</th>\n",
       "    </tr>\n",
       "    <tr>\n",
       "      <th>date</th>\n",
       "      <th></th>\n",
       "      <th></th>\n",
       "      <th></th>\n",
       "      <th></th>\n",
       "      <th></th>\n",
       "      <th></th>\n",
       "      <th></th>\n",
       "    </tr>\n",
       "  </thead>\n",
       "  <tbody>\n",
       "    <tr>\n",
       "      <th>2007-01-03</th>\n",
       "      <td>10107</td>\n",
       "      <td>MICROSOFT CORP</td>\n",
       "      <td>29.8600</td>\n",
       "      <td>77630458</td>\n",
       "      <td>0.0000</td>\n",
       "      <td>9777000</td>\n",
       "      <td>-0.0012</td>\n",
       "    </tr>\n",
       "    <tr>\n",
       "      <th>2007-01-04</th>\n",
       "      <td>10107</td>\n",
       "      <td>MICROSOFT CORP</td>\n",
       "      <td>29.8100</td>\n",
       "      <td>46650955</td>\n",
       "      <td>-0.0017</td>\n",
       "      <td>9777000</td>\n",
       "      <td>0.0012</td>\n",
       "    </tr>\n",
       "    <tr>\n",
       "      <th>2007-01-05</th>\n",
       "      <td>10107</td>\n",
       "      <td>MICROSOFT CORP</td>\n",
       "      <td>29.6400</td>\n",
       "      <td>44681937</td>\n",
       "      <td>-0.0057</td>\n",
       "      <td>9777000</td>\n",
       "      <td>-0.0061</td>\n",
       "    </tr>\n",
       "    <tr>\n",
       "      <th>2007-01-03</th>\n",
       "      <td>11308</td>\n",
       "      <td>COCA COLA CO</td>\n",
       "      <td>48.5800</td>\n",
       "      <td>7877300</td>\n",
       "      <td>0.0068</td>\n",
       "      <td>2343796</td>\n",
       "      <td>-0.0012</td>\n",
       "    </tr>\n",
       "    <tr>\n",
       "      <th>2007-01-04</th>\n",
       "      <td>11308</td>\n",
       "      <td>COCA COLA CO</td>\n",
       "      <td>48.6000</td>\n",
       "      <td>5908400</td>\n",
       "      <td>0.0004</td>\n",
       "      <td>2343796</td>\n",
       "      <td>0.0012</td>\n",
       "    </tr>\n",
       "    <tr>\n",
       "      <th>2007-01-05</th>\n",
       "      <td>11308</td>\n",
       "      <td>COCA COLA CO</td>\n",
       "      <td>48.2600</td>\n",
       "      <td>5803900</td>\n",
       "      <td>-0.0070</td>\n",
       "      <td>2343796</td>\n",
       "      <td>-0.0061</td>\n",
       "    </tr>\n",
       "    <tr>\n",
       "      <th>2007-01-03</th>\n",
       "      <td>14593</td>\n",
       "      <td>APPLE COMPUTER INC</td>\n",
       "      <td>83.8000</td>\n",
       "      <td>44545733</td>\n",
       "      <td>-0.0123</td>\n",
       "      <td>860220</td>\n",
       "      <td>-0.0012</td>\n",
       "    </tr>\n",
       "    <tr>\n",
       "      <th>2007-01-04</th>\n",
       "      <td>14593</td>\n",
       "      <td>APPLE COMPUTER INC</td>\n",
       "      <td>85.6600</td>\n",
       "      <td>34097551</td>\n",
       "      <td>0.0222</td>\n",
       "      <td>860220</td>\n",
       "      <td>0.0012</td>\n",
       "    </tr>\n",
       "    <tr>\n",
       "      <th>2007-01-05</th>\n",
       "      <td>14593</td>\n",
       "      <td>APPLE COMPUTER INC</td>\n",
       "      <td>85.0500</td>\n",
       "      <td>29842335</td>\n",
       "      <td>-0.0071</td>\n",
       "      <td>860220</td>\n",
       "      <td>-0.0061</td>\n",
       "    </tr>\n",
       "    <tr>\n",
       "      <th>2007-01-03</th>\n",
       "      <td>84788</td>\n",
       "      <td>AMAZON COM INC</td>\n",
       "      <td>38.7000</td>\n",
       "      <td>12450246</td>\n",
       "      <td>-0.0193</td>\n",
       "      <td>414000</td>\n",
       "      <td>-0.0012</td>\n",
       "    </tr>\n",
       "    <tr>\n",
       "      <th>2007-01-04</th>\n",
       "      <td>84788</td>\n",
       "      <td>AMAZON COM INC</td>\n",
       "      <td>38.9000</td>\n",
       "      <td>6329815</td>\n",
       "      <td>0.0052</td>\n",
       "      <td>414000</td>\n",
       "      <td>0.0012</td>\n",
       "    </tr>\n",
       "    <tr>\n",
       "      <th>2007-01-05</th>\n",
       "      <td>84788</td>\n",
       "      <td>AMAZON COM INC</td>\n",
       "      <td>38.3700</td>\n",
       "      <td>6624080</td>\n",
       "      <td>-0.0136</td>\n",
       "      <td>414000</td>\n",
       "      <td>-0.0061</td>\n",
       "    </tr>\n",
       "    <tr>\n",
       "      <th>2007-01-03</th>\n",
       "      <td>90319</td>\n",
       "      <td>GOOGLE INC</td>\n",
       "      <td>467.5900</td>\n",
       "      <td>7725290</td>\n",
       "      <td>0.0154</td>\n",
       "      <td>227670</td>\n",
       "      <td>-0.0012</td>\n",
       "    </tr>\n",
       "    <tr>\n",
       "      <th>2007-01-04</th>\n",
       "      <td>90319</td>\n",
       "      <td>GOOGLE INC</td>\n",
       "      <td>483.2600</td>\n",
       "      <td>7944390</td>\n",
       "      <td>0.0335</td>\n",
       "      <td>227670</td>\n",
       "      <td>0.0012</td>\n",
       "    </tr>\n",
       "    <tr>\n",
       "      <th>2007-01-05</th>\n",
       "      <td>90319</td>\n",
       "      <td>GOOGLE INC</td>\n",
       "      <td>487.1900</td>\n",
       "      <td>6880018</td>\n",
       "      <td>0.0081</td>\n",
       "      <td>227670</td>\n",
       "      <td>-0.0061</td>\n",
       "    </tr>\n",
       "  </tbody>\n",
       "</table>\n",
       "</div>"
      ],
      "text/plain": [
       "            permno               asset      prc       vol     ret   shrout  \\\n",
       "date                                                                         \n",
       "2007-01-03   10107      MICROSOFT CORP  29.8600  77630458  0.0000  9777000   \n",
       "2007-01-04   10107      MICROSOFT CORP  29.8100  46650955 -0.0017  9777000   \n",
       "2007-01-05   10107      MICROSOFT CORP  29.6400  44681937 -0.0057  9777000   \n",
       "2007-01-03   11308        COCA COLA CO  48.5800   7877300  0.0068  2343796   \n",
       "2007-01-04   11308        COCA COLA CO  48.6000   5908400  0.0004  2343796   \n",
       "2007-01-05   11308        COCA COLA CO  48.2600   5803900 -0.0070  2343796   \n",
       "2007-01-03   14593  APPLE COMPUTER INC  83.8000  44545733 -0.0123   860220   \n",
       "2007-01-04   14593  APPLE COMPUTER INC  85.6600  34097551  0.0222   860220   \n",
       "2007-01-05   14593  APPLE COMPUTER INC  85.0500  29842335 -0.0071   860220   \n",
       "2007-01-03   84788      AMAZON COM INC  38.7000  12450246 -0.0193   414000   \n",
       "2007-01-04   84788      AMAZON COM INC  38.9000   6329815  0.0052   414000   \n",
       "2007-01-05   84788      AMAZON COM INC  38.3700   6624080 -0.0136   414000   \n",
       "2007-01-03   90319          GOOGLE INC 467.5900   7725290  0.0154   227670   \n",
       "2007-01-04   90319          GOOGLE INC 483.2600   7944390  0.0335   227670   \n",
       "2007-01-05   90319          GOOGLE INC 487.1900   6880018  0.0081   227670   \n",
       "\n",
       "            market  \n",
       "date                \n",
       "2007-01-03 -0.0012  \n",
       "2007-01-04  0.0012  \n",
       "2007-01-05 -0.0061  \n",
       "2007-01-03 -0.0012  \n",
       "2007-01-04  0.0012  \n",
       "2007-01-05 -0.0061  \n",
       "2007-01-03 -0.0012  \n",
       "2007-01-04  0.0012  \n",
       "2007-01-05 -0.0061  \n",
       "2007-01-03 -0.0012  \n",
       "2007-01-04  0.0012  \n",
       "2007-01-05 -0.0061  \n",
       "2007-01-03 -0.0012  \n",
       "2007-01-04  0.0012  \n",
       "2007-01-05 -0.0061  "
      ]
     },
     "execution_count": 332,
     "metadata": {},
     "output_type": "execute_result"
    }
   ],
   "source": [
    "data.groupby(['permno']).head(3)"
   ]
  },
  {
   "cell_type": "markdown",
   "metadata": {
    "slideshow": {
     "slide_type": "slide"
    }
   },
   "source": [
    "# Market Model"
   ]
  },
  {
   "cell_type": "markdown",
   "metadata": {
    "slideshow": {
     "slide_type": "fragment"
    }
   },
   "source": [
    "To estimate the market $\\beta^i$ of company $i$, we regress its returns on the market returns\n",
    "\n",
    "$$ R^{i}_{t} = \\alpha^i + \\beta^{i} R^{M}_t + \\varepsilon^i_t $$"
   ]
  },
  {
   "cell_type": "markdown",
   "metadata": {
    "slideshow": {
     "slide_type": "fragment"
    }
   },
   "source": [
    "Notice that here $i$ identifies the company (so it is fixed), while the sample points are indexed by $t$"
   ]
  },
  {
   "cell_type": "markdown",
   "metadata": {
    "slideshow": {
     "slide_type": "fragment"
    }
   },
   "source": [
    "The higher the estimated $\\beta^i$, the more company $i$ is exposed to the market risk factor"
   ]
  },
  {
   "cell_type": "markdown",
   "metadata": {
    "slideshow": {
     "slide_type": "slide"
    }
   },
   "source": [
    "For example, let's estimate the $\\beta$ of Coca-Cola"
   ]
  },
  {
   "cell_type": "code",
   "execution_count": 318,
   "metadata": {
    "collapsed": false,
    "scrolled": true,
    "slideshow": {
     "slide_type": "fragment"
    }
   },
   "outputs": [
    {
     "data": {
      "text/html": [
       "<table border=\"1\" class=\"dataframe\">\n",
       "  <tbody>\n",
       "    <tr>\n",
       "      <td>Model:</td>\n",
       "      <td>OLS</td>\n",
       "      <td>Adj. R-squared:</td>\n",
       "      <td>0.403</td>\n",
       "    </tr>\n",
       "    <tr>\n",
       "      <td>Dependent Variable:</td>\n",
       "      <td>ret</td>\n",
       "      <td>AIC:</td>\n",
       "      <td>-14719.1211</td>\n",
       "    </tr>\n",
       "    <tr>\n",
       "      <td>No. Observations:</td>\n",
       "      <td>2266</td>\n",
       "      <td>Log-Likelihood:</td>\n",
       "      <td>7361.6</td>\n",
       "    </tr>\n",
       "    <tr>\n",
       "      <td>R-squared:</td>\n",
       "      <td>0.403</td>\n",
       "      <td>Scale:</td>\n",
       "      <td>8.8333e-05</td>\n",
       "    </tr>\n",
       "  </tbody>\n",
       "</table>"
      ],
      "text/plain": [
       "<IPython.core.display.HTML object>"
      ]
     },
     "metadata": {},
     "output_type": "display_data"
    },
    {
     "data": {
      "text/html": [
       "<table class=\"simpletable\">\n",
       "<tr>\n",
       "     <td></td>       <th>coef</th>     <th>std err</th>      <th>t</th>      <th>P>|t|</th> <th>[95.0% Conf. Int.]</th> \n",
       "</tr>\n",
       "<tr>\n",
       "  <th>const</th>  <td>    0.0003</td> <td>    0.000</td> <td>    1.524</td> <td> 0.128</td> <td>-8.63e-05     0.001</td>\n",
       "</tr>\n",
       "<tr>\n",
       "  <th>market</th> <td>    0.5675</td> <td>    0.015</td> <td>   39.133</td> <td> 0.000</td> <td>    0.539     0.596</td>\n",
       "</tr>\n",
       "</table>"
      ],
      "text/plain": [
       "<class 'statsmodels.iolib.table.SimpleTable'>"
      ]
     },
     "metadata": {},
     "output_type": "display_data"
    }
   ],
   "source": [
    "CAPM_reg(CocaCola)"
   ]
  },
  {
   "cell_type": "markdown",
   "metadata": {
    "slideshow": {
     "slide_type": "fragment"
    }
   },
   "source": [
    "- The estimated $\\beta$ is $0.57$ and highly significant\n",
    "- The estimated $\\alpha$ is not significantly different from zero\n",
    "- The $R^2$ is about $40\\%$"
   ]
  },
  {
   "cell_type": "markdown",
   "metadata": {
    "slideshow": {
     "slide_type": "slide"
    }
   },
   "source": [
    "Now let's try with Amazon"
   ]
  },
  {
   "cell_type": "code",
   "execution_count": 322,
   "metadata": {
    "collapsed": false,
    "scrolled": true,
    "slideshow": {
     "slide_type": "fragment"
    }
   },
   "outputs": [
    {
     "data": {
      "text/html": [
       "<table border=\"1\" class=\"dataframe\">\n",
       "  <tbody>\n",
       "    <tr>\n",
       "      <td>Model:</td>\n",
       "      <td>OLS</td>\n",
       "      <td>Adj. R-squared:</td>\n",
       "      <td>0.318</td>\n",
       "    </tr>\n",
       "    <tr>\n",
       "      <td>Dependent Variable:</td>\n",
       "      <td>ret</td>\n",
       "      <td>AIC:</td>\n",
       "      <td>-10836.9389</td>\n",
       "    </tr>\n",
       "    <tr>\n",
       "      <td>No. Observations:</td>\n",
       "      <td>2266</td>\n",
       "      <td>Log-Likelihood:</td>\n",
       "      <td>5420.5</td>\n",
       "    </tr>\n",
       "    <tr>\n",
       "      <td>R-squared:</td>\n",
       "      <td>0.318</td>\n",
       "      <td>Scale:</td>\n",
       "      <td>0.00048997</td>\n",
       "    </tr>\n",
       "  </tbody>\n",
       "</table>"
      ],
      "text/plain": [
       "<IPython.core.display.HTML object>"
      ]
     },
     "metadata": {},
     "output_type": "display_data"
    },
    {
     "data": {
      "text/html": [
       "<table class=\"simpletable\">\n",
       "<tr>\n",
       "     <td></td>       <th>coef</th>     <th>std err</th>      <th>t</th>      <th>P>|t|</th> <th>[95.0% Conf. Int.]</th> \n",
       "</tr>\n",
       "<tr>\n",
       "  <th>const</th>  <td>    0.0013</td> <td>    0.000</td> <td>    2.844</td> <td> 0.004</td> <td>    0.000     0.002</td>\n",
       "</tr>\n",
       "<tr>\n",
       "  <th>market</th> <td>    1.1092</td> <td>    0.034</td> <td>   32.480</td> <td> 0.000</td> <td>    1.042     1.176</td>\n",
       "</tr>\n",
       "</table>"
      ],
      "text/plain": [
       "<class 'statsmodels.iolib.table.SimpleTable'>"
      ]
     },
     "metadata": {},
     "output_type": "display_data"
    }
   ],
   "source": [
    "CAPM_reg(Amazon)"
   ]
  },
  {
   "cell_type": "markdown",
   "metadata": {
    "slideshow": {
     "slide_type": "fragment"
    }
   },
   "source": [
    "- The beta is higher, larger than one\n",
    "- The alpha is positive and highly significant"
   ]
  },
  {
   "cell_type": "markdown",
   "metadata": {
    "slideshow": {
     "slide_type": "skip"
    }
   },
   "source": [
    "<br/><br/><br/><br/>"
   ]
  },
  {
   "cell_type": "markdown",
   "metadata": {
    "slideshow": {
     "slide_type": "slide"
    }
   },
   "source": [
    "# Neutralize the market risk"
   ]
  },
  {
   "cell_type": "markdown",
   "metadata": {
    "slideshow": {
     "slide_type": "fragment"
    }
   },
   "source": [
    "Amazon has a significant alpha over the sample.\n",
    "\n",
    "Imagine we invested in research and we were able to predict it."
   ]
  },
  {
   "cell_type": "markdown",
   "metadata": {
    "slideshow": {
     "slide_type": "fragment"
    }
   },
   "source": [
    "Can we pocket the alpha, without being exposed to the market risk?"
   ]
  },
  {
   "cell_type": "markdown",
   "metadata": {
    "slideshow": {
     "slide_type": "fragment"
    }
   },
   "source": [
    "We can form a portfolio which is long Amazon and short the market in the right proportions"
   ]
  },
  {
   "cell_type": "markdown",
   "metadata": {
    "slideshow": {
     "slide_type": "fragment"
    }
   },
   "source": [
    "Use the fact that the market beta of Amazon is $1.11$"
   ]
  },
  {
   "cell_type": "code",
   "execution_count": 327,
   "metadata": {
    "collapsed": true,
    "slideshow": {
     "slide_type": "skip"
    }
   },
   "outputs": [],
   "source": [
    "def form_portfolio(stock, factor, w_1, w_2):\n",
    "    pf_return    = w_1 * data[stock.mask]['ret']\n",
    "    pf_return   += w_2 * data.groupby(level=0).first()[factor]\n",
    "\n",
    "    pf = pd.DataFrame( {'ret':pf_return} )\n",
    "    pf[factor] = data.groupby(level=0).first()[factor]\n",
    "    return pf"
   ]
  },
  {
   "cell_type": "markdown",
   "metadata": {
    "slideshow": {
     "slide_type": "slide"
    }
   },
   "source": [
    "# Arbitrage Portfolio"
   ]
  },
  {
   "cell_type": "code",
   "execution_count": 333,
   "metadata": {
    "collapsed": true,
    "slideshow": {
     "slide_type": "fragment"
    }
   },
   "outputs": [],
   "source": [
    "mu_A = 1;  mu_M = -1.11\n",
    "pf = form_portfolio(Amazon, 'market', mu_A, mu_M)"
   ]
  },
  {
   "cell_type": "code",
   "execution_count": 334,
   "metadata": {
    "collapsed": false,
    "scrolled": false,
    "slideshow": {
     "slide_type": "fragment"
    }
   },
   "outputs": [
    {
     "data": {
      "text/html": [
       "<table border=\"1\" class=\"dataframe\">\n",
       "  <tbody>\n",
       "    <tr>\n",
       "      <td>Model:</td>\n",
       "      <td>OLS</td>\n",
       "      <td>Adj. R-squared:</td>\n",
       "      <td>-0.000</td>\n",
       "    </tr>\n",
       "    <tr>\n",
       "      <td>Dependent Variable:</td>\n",
       "      <td>ret</td>\n",
       "      <td>AIC:</td>\n",
       "      <td>-10836.9389</td>\n",
       "    </tr>\n",
       "    <tr>\n",
       "      <td>No. Observations:</td>\n",
       "      <td>2266</td>\n",
       "      <td>Log-Likelihood:</td>\n",
       "      <td>5420.5</td>\n",
       "    </tr>\n",
       "    <tr>\n",
       "      <td>R-squared:</td>\n",
       "      <td>0.000</td>\n",
       "      <td>Scale:</td>\n",
       "      <td>0.00048997</td>\n",
       "    </tr>\n",
       "  </tbody>\n",
       "</table>"
      ],
      "text/plain": [
       "<IPython.core.display.HTML object>"
      ]
     },
     "metadata": {},
     "output_type": "display_data"
    },
    {
     "data": {
      "text/html": [
       "<table class=\"simpletable\">\n",
       "<tr>\n",
       "     <td></td>       <th>coef</th>     <th>std err</th>      <th>t</th>      <th>P>|t|</th> <th>[95.0% Conf. Int.]</th> \n",
       "</tr>\n",
       "<tr>\n",
       "  <th>const</th>  <td>    0.0013</td> <td>    0.000</td> <td>    2.844</td> <td> 0.004</td> <td>    0.000     0.002</td>\n",
       "</tr>\n",
       "<tr>\n",
       "  <th>market</th> <td>   -0.0008</td> <td>    0.034</td> <td>   -0.022</td> <td> 0.982</td> <td>   -0.068     0.066</td>\n",
       "</tr>\n",
       "</table>"
      ],
      "text/plain": [
       "<class 'statsmodels.iolib.table.SimpleTable'>"
      ]
     },
     "metadata": {},
     "output_type": "display_data"
    }
   ],
   "source": [
    "reg_table( pf['ret'], sm.add_constant(pf['market']) )"
   ]
  },
  {
   "cell_type": "markdown",
   "metadata": {
    "slideshow": {
     "slide_type": "fragment"
    }
   },
   "source": [
    "The alpha is positive and significant, while the market beta is not significantly different from zero.\n",
    "\n",
    "With this strategy we are able to pocket the alpha, without being exposed to the market risk."
   ]
  },
  {
   "cell_type": "markdown",
   "metadata": {
    "slideshow": {
     "slide_type": "slide"
    }
   },
   "source": [
    "## More realistic : estimate market beta ex-ante\n",
    "Suppose we want to implement the strategy starting from 2009.\n",
    "\n",
    "We estimate the market beta in a backward-looking window, say during the previous quarter."
   ]
  },
  {
   "cell_type": "code",
   "execution_count": 337,
   "metadata": {
    "collapsed": true,
    "slideshow": {
     "slide_type": "fragment"
    }
   },
   "outputs": [],
   "source": [
    "est_win = pd.date_range( pd.datetime(2008,10,1), pd.datetime(2008,12,31) )\n",
    "inv_win = pd.date_range( pd.datetime(2009,1 ,1), pd.datetime(2015,12,31) )"
   ]
  },
  {
   "cell_type": "code",
   "execution_count": 338,
   "metadata": {
    "collapsed": false,
    "slideshow": {
     "slide_type": "fragment"
    }
   },
   "outputs": [
    {
     "data": {
      "text/html": [
       "<table border=\"1\" class=\"dataframe\">\n",
       "  <tbody>\n",
       "    <tr>\n",
       "      <td>Model:</td>\n",
       "      <td>OLS</td>\n",
       "      <td>Adj. R-squared:</td>\n",
       "      <td>0.657</td>\n",
       "    </tr>\n",
       "    <tr>\n",
       "      <td>Dependent Variable:</td>\n",
       "      <td>ret</td>\n",
       "      <td>AIC:</td>\n",
       "      <td>-251.8932</td>\n",
       "    </tr>\n",
       "    <tr>\n",
       "      <td>No. Observations:</td>\n",
       "      <td>64</td>\n",
       "      <td>Log-Likelihood:</td>\n",
       "      <td>127.95</td>\n",
       "    </tr>\n",
       "    <tr>\n",
       "      <td>R-squared:</td>\n",
       "      <td>0.663</td>\n",
       "      <td>Scale:</td>\n",
       "      <td>0.0011088</td>\n",
       "    </tr>\n",
       "  </tbody>\n",
       "</table>"
      ],
      "text/plain": [
       "<IPython.core.display.HTML object>"
      ]
     },
     "metadata": {},
     "output_type": "display_data"
    },
    {
     "data": {
      "text/html": [
       "<table class=\"simpletable\">\n",
       "<tr>\n",
       "     <td></td>       <th>coef</th>     <th>std err</th>      <th>t</th>      <th>P>|t|</th> <th>[95.0% Conf. Int.]</th> \n",
       "</tr>\n",
       "<tr>\n",
       "  <th>const</th>  <td>   -0.0005</td> <td>    0.004</td> <td>   -0.115</td> <td> 0.909</td> <td>   -0.009     0.008</td>\n",
       "</tr>\n",
       "<tr>\n",
       "  <th>market</th> <td>    1.0891</td> <td>    0.099</td> <td>   11.034</td> <td> 0.000</td> <td>    0.892     1.286</td>\n",
       "</tr>\n",
       "</table>"
      ],
      "text/plain": [
       "<class 'statsmodels.iolib.table.SimpleTable'>"
      ]
     },
     "metadata": {},
     "output_type": "display_data"
    }
   ],
   "source": [
    "reg = CAPM_reg(Amazon, est_win)"
   ]
  },
  {
   "cell_type": "markdown",
   "metadata": {
    "slideshow": {
     "slide_type": "slide"
    }
   },
   "source": [
    "# Realistic Arbitrage Portfolio"
   ]
  },
  {
   "cell_type": "code",
   "execution_count": 335,
   "metadata": {
    "collapsed": true,
    "slideshow": {
     "slide_type": "fragment"
    }
   },
   "outputs": [],
   "source": [
    "mu_A = 1;  mu_M = -1.0891\n",
    "pf = form_portfolio(Amazon, 'market', mu_A, mu_M)"
   ]
  },
  {
   "cell_type": "code",
   "execution_count": 336,
   "metadata": {
    "collapsed": false,
    "scrolled": true,
    "slideshow": {
     "slide_type": "fragment"
    }
   },
   "outputs": [
    {
     "data": {
      "text/html": [
       "<table border=\"1\" class=\"dataframe\">\n",
       "  <tbody>\n",
       "    <tr>\n",
       "      <td>Model:</td>\n",
       "      <td>OLS</td>\n",
       "      <td>Adj. R-squared:</td>\n",
       "      <td>-0.000</td>\n",
       "    </tr>\n",
       "    <tr>\n",
       "      <td>Dependent Variable:</td>\n",
       "      <td>ret</td>\n",
       "      <td>AIC:</td>\n",
       "      <td>-10836.9389</td>\n",
       "    </tr>\n",
       "    <tr>\n",
       "      <td>No. Observations:</td>\n",
       "      <td>2266</td>\n",
       "      <td>Log-Likelihood:</td>\n",
       "      <td>5420.5</td>\n",
       "    </tr>\n",
       "    <tr>\n",
       "      <td>R-squared:</td>\n",
       "      <td>0.000</td>\n",
       "      <td>Scale:</td>\n",
       "      <td>0.00048997</td>\n",
       "    </tr>\n",
       "  </tbody>\n",
       "</table>"
      ],
      "text/plain": [
       "<IPython.core.display.HTML object>"
      ]
     },
     "metadata": {},
     "output_type": "display_data"
    },
    {
     "data": {
      "text/html": [
       "<table class=\"simpletable\">\n",
       "<tr>\n",
       "     <td></td>       <th>coef</th>     <th>std err</th>      <th>t</th>      <th>P>|t|</th> <th>[95.0% Conf. Int.]</th> \n",
       "</tr>\n",
       "<tr>\n",
       "  <th>const</th>  <td>    0.0013</td> <td>    0.000</td> <td>    2.844</td> <td> 0.004</td> <td>    0.000     0.002</td>\n",
       "</tr>\n",
       "<tr>\n",
       "  <th>market</th> <td>    0.0201</td> <td>    0.034</td> <td>    0.590</td> <td> 0.555</td> <td>   -0.047     0.087</td>\n",
       "</tr>\n",
       "</table>"
      ],
      "text/plain": [
       "<class 'statsmodels.iolib.table.SimpleTable'>"
      ]
     },
     "metadata": {},
     "output_type": "display_data"
    }
   ],
   "source": [
    "reg_table( pf['ret'], sm.add_constant(pf['market']) )"
   ]
  },
  {
   "cell_type": "markdown",
   "metadata": {
    "slideshow": {
     "slide_type": "fragment"
    }
   },
   "source": [
    "Great! We still get the alpha and the market exposure is not significant."
   ]
  },
  {
   "cell_type": "markdown",
   "metadata": {
    "slideshow": {
     "slide_type": "skip"
    }
   },
   "source": [
    "<br/><br/><br/><br/>"
   ]
  },
  {
   "cell_type": "code",
   "execution_count": 340,
   "metadata": {
    "collapsed": false,
    "slideshow": {
     "slide_type": "skip"
    }
   },
   "outputs": [],
   "source": [
    "from sklearn import datasets\n",
    "boston = datasets.load_boston()\n",
    "\n",
    "bost = pd.DataFrame(boston.data, columns=boston.feature_names)\n",
    "bost['price'] = boston.target\n",
    "#boston.DESCR\n",
    "bost_x = sm.add_constant(bost[['RM','CRIM', 'AGE', 'INDUS']])"
   ]
  },
  {
   "cell_type": "markdown",
   "metadata": {
    "slideshow": {
     "slide_type": "slide"
    }
   },
   "source": [
    "## Multivariate Regression :  Boston house prices"
   ]
  },
  {
   "cell_type": "code",
   "execution_count": 341,
   "metadata": {
    "collapsed": false,
    "scrolled": false,
    "slideshow": {
     "slide_type": "fragment"
    }
   },
   "outputs": [
    {
     "data": {
      "text/html": [
       "<table border=\"1\" class=\"dataframe\">\n",
       "  <tbody>\n",
       "    <tr>\n",
       "      <td>Model:</td>\n",
       "      <td>OLS</td>\n",
       "      <td>Adj. R-squared:</td>\n",
       "      <td>0.567</td>\n",
       "    </tr>\n",
       "    <tr>\n",
       "      <td>Dependent Variable:</td>\n",
       "      <td>price</td>\n",
       "      <td>AIC:</td>\n",
       "      <td>3263.4529</td>\n",
       "    </tr>\n",
       "    <tr>\n",
       "      <td>No. Observations:</td>\n",
       "      <td>506</td>\n",
       "      <td>Log-Likelihood:</td>\n",
       "      <td>-1626.7</td>\n",
       "    </tr>\n",
       "    <tr>\n",
       "      <td>R-squared:</td>\n",
       "      <td>0.570</td>\n",
       "      <td>Scale:</td>\n",
       "      <td>36.664</td>\n",
       "    </tr>\n",
       "  </tbody>\n",
       "</table>"
      ],
      "text/plain": [
       "<IPython.core.display.HTML object>"
      ]
     },
     "metadata": {},
     "output_type": "display_data"
    },
    {
     "data": {
      "text/html": [
       "<table class=\"simpletable\">\n",
       "<tr>\n",
       "    <td></td>       <th>coef</th>     <th>std err</th>      <th>t</th>      <th>P>|t|</th> <th>[95.0% Conf. Int.]</th> \n",
       "</tr>\n",
       "<tr>\n",
       "  <th>const</th> <td>  -21.0523</td> <td>    2.887</td> <td>   -7.292</td> <td> 0.000</td> <td>  -26.725   -15.380</td>\n",
       "</tr>\n",
       "<tr>\n",
       "  <th>RM</th>    <td>    7.6751</td> <td>    0.418</td> <td>   18.359</td> <td> 0.000</td> <td>    6.854     8.496</td>\n",
       "</tr>\n",
       "<tr>\n",
       "  <th>CRIM</th>  <td>   -0.1860</td> <td>    0.035</td> <td>   -5.365</td> <td> 0.000</td> <td>   -0.254    -0.118</td>\n",
       "</tr>\n",
       "<tr>\n",
       "  <th>AGE</th>   <td>   -0.0317</td> <td>    0.013</td> <td>   -2.506</td> <td> 0.013</td> <td>   -0.056    -0.007</td>\n",
       "</tr>\n",
       "<tr>\n",
       "  <th>INDUS</th> <td>   -0.1626</td> <td>    0.056</td> <td>   -2.929</td> <td> 0.004</td> <td>   -0.272    -0.054</td>\n",
       "</tr>\n",
       "</table>"
      ],
      "text/plain": [
       "<class 'statsmodels.iolib.table.SimpleTable'>"
      ]
     },
     "metadata": {},
     "output_type": "display_data"
    }
   ],
   "source": [
    "reg_table(bost['price'],bost_x)"
   ]
  },
  {
   "cell_type": "markdown",
   "metadata": {
    "slideshow": {
     "slide_type": "skip"
    }
   },
   "source": [
    "<br/><br/><br/><br/>"
   ]
  }
 ],
 "metadata": {
  "celltoolbar": "Slideshow",
  "kernelspec": {
   "display_name": "Python 3",
   "language": "python",
   "name": "python3"
  },
  "language_info": {
   "codemirror_mode": {
    "name": "ipython",
    "version": 3
   },
   "file_extension": ".py",
   "mimetype": "text/x-python",
   "name": "python",
   "nbconvert_exporter": "python",
   "pygments_lexer": "ipython3",
   "version": "3.5.1"
  }
 },
 "nbformat": 4,
 "nbformat_minor": 0
}
