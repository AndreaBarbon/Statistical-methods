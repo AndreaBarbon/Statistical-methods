{
 "cells": [
  {
   "cell_type": "markdown",
   "metadata": {},
   "source": [
    "# Regression Analysis"
   ]
  },
  {
   "cell_type": "code",
   "execution_count": 469,
   "metadata": {
    "collapsed": false
   },
   "outputs": [],
   "source": [
    "import numpy  as np\n",
    "import pandas as pd\n",
    "import seaborn as sns\n",
    "import statsmodels.api as sm\n",
    "sns.set_style('whitegrid')\n",
    "sns.set_context('poster', rc={\"lines.linewidth\": 2} )\n",
    "\n",
    "%matplotlib inline"
   ]
  },
  {
   "cell_type": "code",
   "execution_count": 664,
   "metadata": {
    "collapsed": false
   },
   "outputs": [],
   "source": [
    "def gen_regression_problem(N, Vx, Ve, alpha, beta, mu=0, positive=False ):\n",
    "\n",
    "    X = np.random.uniform(-Vx + mu, Vx + mu, N )\n",
    "    E = np.random.normal(0, Ve, N )\n",
    "    \n",
    "    Y  = [ alpha + beta*x + e for x,e in zip(X,E) ]\n",
    "    if positive: Y = np.abs(Y)\n",
    "        \n",
    "    df = pd.DataFrame({ 'X':X, 'Y':Y, 'E':E }).sort_values('X')  \n",
    "\n",
    "    return df\n",
    "\n",
    "\n",
    "def plot_reg(df, alpha=None, beta=None, w=[-5,5], h=[-5,5]):\n",
    "    \n",
    "    fig, (ax1) = plt.subplots(1,1, figsize=(10,4))\n",
    "            \n",
    "    _ = ax1.scatter(y=df['Y'], x=df['X'], marker='o', s=50, zorder=2 )\n",
    "    _ = ax1.set_xlim(w)\n",
    "    _ = ax1.set_ylim(h)\n",
    "    \n",
    "    if beta is not None: \n",
    "        \n",
    "        df['Y1' ] = df['X'].apply( lambda x : alpha + beta * x )\n",
    "        df['err'] = df['Y'] - df['Y1']\n",
    "        SS_res    = (df['err']**2).sum()\n",
    "            \n",
    "        print( 'alpha = {0:1.1f}, beta = {1:1.1f}'.format(alpha, beta) )\n",
    "        print('Sum of Squared Residuals : {0:1.2f}'.format(SS_res)  )\n",
    "\n",
    "        plot_fitted_line(alpha, beta, ax1, w)\n",
    "                \n",
    "        for i in range(0,N):\n",
    "            P1 = [ df['X' ].iloc[i], df['X'].iloc[i] ]\n",
    "            P2 = [ df['Y1'].iloc[i], df['Y'].iloc[i] ]\n",
    "            ax1.plot(P1, P2, color='r', alpha=0.5, zorder=1)\n",
    "       \n",
    "    \n",
    "\n",
    "def plot_fitted_line(alpha, beta, ax, w=[-5,5]):\n",
    "    f   = lambda x : alpha + beta * x\n",
    "    dom = np.linspace(*w)\n",
    "    img = list( map( f, dom ) )\n",
    "    ax.plot(dom, img, color='k', linestyle='--')"
   ]
  },
  {
   "cell_type": "markdown",
   "metadata": {},
   "source": [
    "# Introduction"
   ]
  },
  {
   "cell_type": "markdown",
   "metadata": {},
   "source": [
    "Imagine you bought a car and the seller told you that it can run for $35$ kilometer for every liter of gasoline.\n",
    "This seems to good to be true, so you decide to investigate the matter.\n",
    "You start using your new car and every time you drive from a place to another you keep track of\n",
    "\n",
    "$$ x_i = \\text{ liters of gasoline consumed during trip } i $$\n",
    "\n",
    "and\n",
    "\n",
    "$$ y_i = \\text{ length of trip } i \\text{ in kilometers } $$\n",
    "\n",
    "After some months you made $N=50$ trips and you have a dataset with $N$ observations in the form\n",
    "\n",
    "$$ (x_i, y_i) \\quad \\text{ for } \\quad i=1,\\dots N $$\n",
    "\n",
    "How can you use this data to check if you can actually drive for $35$ km with one liter of gasoline?\n",
    "\n",
    "Use linear regression!\n",
    "\n",
    "It makes sense to conjecture a linear relation between liters and kilometers, so you assume a linear model of the form\n",
    "\n",
    "$$ y_i = \\alpha + \\beta x_i + \\varepsilon_i $$\n",
    "\n",
    "Of course, you expect $\\alpha$ to be zero and $\\beta$ to be positive (why?).\n",
    "\n",
    "But the precise value of $\\beta$ is an empirical question. Will it be close to $35$ or not?"
   ]
  },
  {
   "cell_type": "markdown",
   "metadata": {},
   "source": [
    "This is how your dataset looks like:"
   ]
  },
  {
   "cell_type": "code",
   "execution_count": 666,
   "metadata": {
    "collapsed": false
   },
   "outputs": [
    {
     "data": {
      "image/png": "[encoded data removed]",
      "text/plain": [
       "<matplotlib.figure.Figure at 0x12275fd68>"
      ]
     },
     "metadata": {},
     "output_type": "display_data"
    }
   ],
   "source": [
    "df = gen_regression_problem(50, 10, 75, 0, 25, mu=10, positive=True )\n",
    "plot_reg(df, w=[0, 20], h=[0,600])"
   ]
  },
  {
   "cell_type": "code",
   "execution_count": 667,
   "metadata": {
    "collapsed": false,
    "scrolled": true
   },
   "outputs": [
    {
     "name": "stdout",
     "output_type": "stream",
     "text": [
      "alpha = -9.5, beta = 24.9\n",
      "Sum of Squared Residuals : 396144.87\n"
     ]
    },
    {
     "data": {
      "image/png": "[encoded data removed]",
      "text/plain": [
       "<matplotlib.figure.Figure at 0x123364588>"
      ]
     },
     "metadata": {},
     "output_type": "display_data"
    }
   ],
   "source": [
    "X1  = sm.add_constant(df[['X']]) \n",
    "reg = sm.OLS( df['Y'], X1 ).fit()\n",
    "plot_reg(df, reg.params['const'], reg.params['X'], w=[0, 20], h=[0,600])"
   ]
  },
  {
   "cell_type": "code",
   "execution_count": 676,
   "metadata": {
    "collapsed": false,
    "scrolled": true
   },
   "outputs": [
    {
     "data": {
      "text/html": [
       "<table class=\"simpletable\">\n",
       "<tr>\n",
       "    <td></td>       <th>coef</th>     <th>std err</th>      <th>t</th>      <th>P>|t|</th> <th>[95.0% Conf. Int.]</th> \n",
       "</tr>\n",
       "<tr>\n",
       "  <th>const</th> <td>   -9.5328</td> <td>   29.269</td> <td>   -0.326</td> <td> 0.746</td> <td>  -68.382    49.316</td>\n",
       "</tr>\n",
       "<tr>\n",
       "  <th>X</th>     <td>   24.8917</td> <td>    2.363</td> <td>   10.532</td> <td> 0.000</td> <td>   20.140    29.644</td>\n",
       "</tr>\n",
       "</table>"
      ],
      "text/plain": [
       "<class 'statsmodels.iolib.table.SimpleTable'>"
      ]
     },
     "execution_count": 676,
     "metadata": {},
     "output_type": "execute_result"
    }
   ],
   "source": [
    "reg.summary().tables[1]"
   ]
  },
  {
   "cell_type": "markdown",
   "metadata": {},
   "source": [
    "In fact, the results you get suggest that your car can run for only $24.9$ km with a liter of gasoline.\n",
    "The seller was lying!"
   ]
  },
  {
   "cell_type": "markdown",
   "metadata": {},
   "source": [
    "<br/><br/><br/><br/>"
   ]
  },
  {
   "cell_type": "markdown",
   "metadata": {},
   "source": [
    "## Regression Problem\n",
    "\n",
    "We are given $N$ points $(y_i, x_i)$ with $i=1,\\dots N$.\n",
    "\n",
    "We can think of those as sample draws from the the joint distribution of two random variables $X$ and $Y$.\n",
    "\n",
    "We want to check if there is a linear relation between $X$ and $Y$.\n",
    "\n",
    "If that is the case, we should find a non-zero $\\beta$ when estimating the linear model\n",
    "\n",
    "$$ y_i = \\alpha + \\beta x_i + \\varepsilon_i $$\n",
    "\n",
    "Geometrically, we can scatter our observations on the (x,y) plane. \n",
    "\n",
    "We can look for the line that fits the points in the best possible way. \n",
    "\n",
    "Then the *slope* of the line will be our estimted $\\beta$, while its *intercept* will be our estimated $\\alpha$.\n",
    "\n",
    "The *best* fitting line is the one that is closer to most of the points.\n",
    "\n",
    "More precisely, it is the line with intercept $\\alpha$ and slope $\\beta$ which minimizes the *sum of squared residuals*, also known as $SS_{res}$\n",
    "\n",
    "$$ SS_{res} = \\sum_{i=1}^N \\varepsilon_i^2 =  \\sum_{i=1}^N ( y_i - \\alpha - \\beta x_i )^2 $$"
   ]
  },
  {
   "cell_type": "markdown",
   "metadata": {},
   "source": [
    "<br/><br/><br/><br/>"
   ]
  },
  {
   "cell_type": "markdown",
   "metadata": {},
   "source": [
    "## Minimizing the sum of squared residuals"
   ]
  },
  {
   "cell_type": "markdown",
   "metadata": {},
   "source": [
    "We want to minimize the sum of squared resuduals, $SS_{res}$ , as a funcion of $\\alpha$ and $\\beta$.\n",
    "\n",
    "First, we impose the FOC withr respect to $\\alpha$ and we get\n",
    "\n",
    "$$ \n",
    "0 = \\frac{\\partial}{\\partial \\alpha}SS_{res} \n",
    "\\implies \n",
    "\\alpha = \\frac{1}{N} \\sum_{i=1}^N y_i - \\beta \\frac{1}{N} \\sum_{i=1}^N x_i \n",
    "= \\bar{y} - \\beta \\bar{x}\n",
    "$$\n",
    "\n",
    "Hence we can rewritve $SS_{res}$ as \n",
    "\n",
    "$$ SS_{res} = \\sum_{i=1}^N \\left( y_i - \\bar{y} - \\beta (x_i-\\bar{x}) \\right)^2 $$\n",
    "\n",
    "and imposing the FOC wrt $\\beta$ we find\n",
    "\n",
    "$$ \n",
    "0 = \\frac{\\partial}{\\partial \\beta}SS_{res} \n",
    "\\implies \n",
    "\\beta = \\frac{ \\frac{1}{N} \\sum_i (y_i - \\bar{y})(x_i -\\bar{x}) } { \\frac{1}{N} \\sum_i (x_i -\\bar{x})^2 }\n",
    "= \\frac{ \\hat{Cov}(X,Y) } { \\hat{V}(X) }\n",
    "$$\n",
    "\n",
    "Hence we see that the optimal $\\beta$ is the sample covariance of $X$ and $Y$ divided by the sample variance of the explanatory variable $X$."
   ]
  },
  {
   "cell_type": "markdown",
   "metadata": {},
   "source": [
    "<br/><br/><br/><br/>"
   ]
  },
  {
   "cell_type": "markdown",
   "metadata": {},
   "source": [
    "# $R^2$"
   ]
  },
  {
   "cell_type": "markdown",
   "metadata": {},
   "source": [
    "The $R^2$ or *coefficient of determination* is the proportion of the variance of $Y$ that is predictable from $X$.\n",
    "\n",
    "In other words it measures how well $X$ can explain $Y$.\n",
    "\n",
    "The total sum of squares $SS_{tot}$ is proportional to the sample variance of $Y$\n",
    "\n",
    "$$ SS_{tot} = \\frac{1}{N-1} \\sum_{i=1}^N (y_i - \\bar{y})^2 = \\hat{V}(Y) $$ \n",
    "\n",
    "This is the variation we would like to explain using the explanatory variable $X$.\n",
    "\n",
    "The *regression sum of squares* or *explained sum of squares* $SS_{tot}$ is proportional to the sample variance of $\\beta X$\n",
    "\n",
    "$$ SS_{reg} = \\frac{1}{N-1} \\sum_{i=1}^N (\\beta x_i - \\beta \\bar{x})^2 = \\hat{V}(\\beta X) $$\n",
    "\n",
    "This is the variation we can explain using the explanatory variable $X$.\n",
    "\n",
    "The $R^2$ is defined as \n",
    "$$ R^2 = \\frac{SS_{tot} - SS_{reg}}{SS_{tot}} $$"
   ]
  },
  {
   "cell_type": "markdown",
   "metadata": {},
   "source": [
    "# Significance of $\\beta$"
   ]
  },
  {
   "cell_type": "markdown",
   "metadata": {},
   "source": [
    "The *standard error* of $\\beta$ is the standard deviation of the fitted $\\beta$, given $X$. \n",
    "Since $V(y_i \\mid X) =  V(\\varepsilon)$, we find\n",
    "\n",
    "$$ V(\\beta \\mid X) \n",
    "= V\\left( \\frac{ \\sum_i (y_i - \\bar{y})(x_i -\\bar{x}) } { \\sum_i (x_i -\\bar{x})^2 } \\mid X \\right)\n",
    "= \\frac{ V(\\varepsilon) } { \\sum_i (x_i -\\bar{x})^2 }\n",
    "= \\frac{1}{(N-1)} \\frac{ V(\\varepsilon) } { \\hat{V}(X) }\n",
    "$$\n",
    "Therefore the standard error of $\\beta$ is given by\n",
    "$$ SE(\\beta) = \\sqrt{ \\frac{\\hat{V}(\\varepsilon)}{ (N-1) \\hat{V}(X)} } $$\n",
    "\n",
    "The intuition is the following:\n",
    "\n",
    "- The standard error of $\\beta$ is the ratio between the sample volatility of $\\varepsilon$ and the sample volatility of $X$\n",
    "- When this ratio is large, it means that *points are stacked together in a small space*\n",
    "- Thus, if the $SE(\\beta)$ is too large, it means that our estimate of $\\beta$ is *unstable*\n",
    "\n",
    "The *t-statistics* is defined as the ratio\n",
    "$$ \\frac{\\beta}{SE(\\beta)} $$ \n",
    "If the t-stat is far enough from zero, then we say that the estimated $\\beta$ is significantly different from zero.\n",
    "\n",
    "The threshold for significance depends on the number of explanatory variables in our linear model.\n",
    "\n",
    "A more practical way to asses is an estimated coefficient is significantly different from zero is to look at the p-value.\n",
    "\n",
    "It is computed from the t-stat and it (roughly) gives the probability that the estimated coefficient is non-zero even if the real coefficient is zero (false positive).\n",
    "\n",
    "The thresholds are fixed by convention as:\n",
    "- p-value $\\geq 5  \\% \\quad \\implies \\quad $ not significantly different from zero\n",
    "- p-value $ <   5  \\% \\quad \\implies \\quad $ weakly significant\n",
    "- p-value $ <   1  \\% \\quad \\implies \\quad $ significant\n",
    "- p-value $ <   0.1\\% \\,\\,  \\implies \\quad $ highly significant"
   ]
  },
  {
   "cell_type": "markdown",
   "metadata": {},
   "source": [
    "<br/><br/><br/><br/>"
   ]
  },
  {
   "cell_type": "markdown",
   "metadata": {},
   "source": [
    "<br/><br/><br/><br/>"
   ]
  },
  {
   "cell_type": "markdown",
   "metadata": {},
   "source": [
    "# Examples"
   ]
  },
  {
   "cell_type": "markdown",
   "metadata": {},
   "source": [
    "## Line Fitting"
   ]
  },
  {
   "cell_type": "code",
   "execution_count": 569,
   "metadata": {
    "collapsed": false,
    "scrolled": true
   },
   "outputs": [
    {
     "data": {
      "image/png": "[encoded data removed]",
      "text/plain": [
       "<matplotlib.figure.Figure at 0x120525dd8>"
      ]
     },
     "metadata": {},
     "output_type": "display_data"
    }
   ],
   "source": [
    "N  =  20\n",
    "al =  1\n",
    "be =  0.5\n",
    "Vx =  4\n",
    "Ve =  1\n",
    "\n",
    "df  = gen_regression_problem(N, Vx, Ve, al, be )\n",
    "plot_reg(df)"
   ]
  },
  {
   "cell_type": "markdown",
   "metadata": {},
   "source": [
    "### First guess"
   ]
  },
  {
   "cell_type": "code",
   "execution_count": 570,
   "metadata": {
    "collapsed": false,
    "scrolled": true
   },
   "outputs": [
    {
     "name": "stdout",
     "output_type": "stream",
     "text": [
      "alpha = 2.0, beta = -0.5\n",
      "Sum of Squared Residuals : 164.64\n"
     ]
    },
    {
     "data": {
      "image/png": "[encoded data removed]",
      "text/plain": [
       "<matplotlib.figure.Figure at 0x12055e828>"
      ]
     },
     "metadata": {},
     "output_type": "display_data"
    }
   ],
   "source": [
    "alpha = 2\n",
    "beta  = -0.5\n",
    "plot_reg(df, alpha, beta)"
   ]
  },
  {
   "cell_type": "markdown",
   "metadata": {},
   "source": [
    "Not good at all! The slope of the line $\\beta$ should be positive"
   ]
  },
  {
   "cell_type": "markdown",
   "metadata": {},
   "source": [
    "### Second guess"
   ]
  },
  {
   "cell_type": "code",
   "execution_count": 571,
   "metadata": {
    "collapsed": false,
    "scrolled": true
   },
   "outputs": [
    {
     "name": "stdout",
     "output_type": "stream",
     "text": [
      "alpha = 2.5, beta = 0.7\n",
      "Sum of Squared Residuals : 78.26\n"
     ]
    },
    {
     "data": {
      "image/png": "[encoded data removed]",
      "text/plain": [
       "<matplotlib.figure.Figure at 0x123ec6c18>"
      ]
     },
     "metadata": {},
     "output_type": "display_data"
    }
   ],
   "source": [
    "alpha = 2.5\n",
    "beta  = 0.7\n",
    "plot_reg(df, alpha, beta)"
   ]
  },
  {
   "cell_type": "markdown",
   "metadata": {},
   "source": [
    "Better, but the $\\alpha$ is too high"
   ]
  },
  {
   "cell_type": "markdown",
   "metadata": {},
   "source": [
    "### Third guess"
   ]
  },
  {
   "cell_type": "code",
   "execution_count": 573,
   "metadata": {
    "collapsed": false,
    "scrolled": true
   },
   "outputs": [
    {
     "name": "stdout",
     "output_type": "stream",
     "text": [
      "alpha = 1.0, beta = 0.7\n",
      "Sum of Squared Residuals : 23.40\n"
     ]
    },
    {
     "data": {
      "image/png": "[encoded data removed]",
      "text/plain": [
       "<matplotlib.figure.Figure at 0x1244190f0>"
      ]
     },
     "metadata": {},
     "output_type": "display_data"
    }
   ],
   "source": [
    "alpha =  1\n",
    "beta  =  0.7\n",
    "plot_reg(df, alpha, beta)"
   ]
  },
  {
   "cell_type": "markdown",
   "metadata": {},
   "source": [
    "Not bad! But can we do better?"
   ]
  },
  {
   "cell_type": "markdown",
   "metadata": {},
   "source": [
    "### Optimal $\\alpha$ and $\\beta$"
   ]
  },
  {
   "cell_type": "code",
   "execution_count": 574,
   "metadata": {
    "collapsed": false,
    "scrolled": false
   },
   "outputs": [
    {
     "name": "stdout",
     "output_type": "stream",
     "text": [
      "The estimated alpha is 0.64\n",
      "The estimated beta  is 0.39\n",
      "alpha = 0.6, beta = 0.4\n",
      "Sum of Squared Residuals : 13.55\n"
     ]
    },
    {
     "data": {
      "image/png": "[encoded data removed]",
      "text/plain": [
       "<matplotlib.figure.Figure at 0x11fbab6d8>"
      ]
     },
     "metadata": {},
     "output_type": "display_data"
    }
   ],
   "source": [
    "X1  = sm.add_constant(df[['X']]) \n",
    "reg = sm.OLS( df['Y'], X1 ).fit()\n",
    "\n",
    "alpha = reg.params['const']  # Estimated alpha\n",
    "beta  = reg.params['X']      # Estimated beta\n",
    "print('The estimated alpha is {0:1.2f}'.format(alpha))\n",
    "print('The estimated beta  is {0:1.2f}'.format(beta ))\n",
    "plot_reg(df, alpha, beta)"
   ]
  },
  {
   "cell_type": "markdown",
   "metadata": {},
   "source": [
    "<br/><br/><br/><br/>"
   ]
  },
  {
   "cell_type": "markdown",
   "metadata": {},
   "source": [
    "## Coefficients"
   ]
  },
  {
   "cell_type": "code",
   "execution_count": 575,
   "metadata": {
    "collapsed": false
   },
   "outputs": [
    {
     "name": "stdout",
     "output_type": "stream",
     "text": [
      "alpha = 0.3, beta = -0.9\n",
      "Sum of Squared Residuals : 16.84\n"
     ]
    },
    {
     "data": {
      "image/png": "[encoded data removed]",
      "text/plain": [
       "<matplotlib.figure.Figure at 0x12596d470>"
      ]
     },
     "metadata": {},
     "output_type": "display_data"
    }
   ],
   "source": [
    "# Negative Beta\n",
    "\n",
    "N  =  20\n",
    "al =  0.2\n",
    "be =  -1\n",
    "Vx =  4\n",
    "Ve =  1\n",
    "\n",
    "df  = gen_regression_problem(N, Vx, Ve, al, be )\n",
    "\n",
    "X1  = sm.add_constant(df[['X']]) \n",
    "reg = sm.OLS( df['Y'], X1 ).fit()\n",
    "\n",
    "alpha = reg.params['const']  # Estimated alpha\n",
    "beta  = reg.params['X']      # Estimated beta\n",
    "plot_reg(df, alpha, beta)"
   ]
  },
  {
   "cell_type": "code",
   "execution_count": 576,
   "metadata": {
    "collapsed": false
   },
   "outputs": [
    {
     "data": {
      "text/html": [
       "<table class=\"simpletable\">\n",
       "<caption>OLS Regression Results</caption>\n",
       "<tr>\n",
       "  <th>Dep. Variable:</th>            <td>Y</td>        <th>  R-squared:         </th> <td>   0.852</td>\n",
       "</tr>\n",
       "<tr>\n",
       "  <th>Model:</th>                   <td>OLS</td>       <th>  Adj. R-squared:    </th> <td>   0.844</td>\n",
       "</tr>\n",
       "<tr>\n",
       "  <th>Method:</th>             <td>Least Squares</td>  <th>  F-statistic:       </th> <td>   103.6</td>\n",
       "</tr>\n",
       "<tr>\n",
       "  <th>Date:</th>             <td>Tue, 01 Nov 2016</td> <th>  Prob (F-statistic):</th> <td>6.78e-09</td>\n",
       "</tr>\n",
       "<tr>\n",
       "  <th>Time:</th>                 <td>17:51:12</td>     <th>  Log-Likelihood:    </th> <td> -26.659</td>\n",
       "</tr>\n",
       "<tr>\n",
       "  <th>No. Observations:</th>      <td>    20</td>      <th>  AIC:               </th> <td>   57.32</td>\n",
       "</tr>\n",
       "<tr>\n",
       "  <th>Df Residuals:</th>          <td>    18</td>      <th>  BIC:               </th> <td>   59.31</td>\n",
       "</tr>\n",
       "<tr>\n",
       "  <th>Df Model:</th>              <td>     1</td>      <th>                     </th>     <td> </td>   \n",
       "</tr>\n",
       "<tr>\n",
       "  <th>Covariance Type:</th>      <td>nonrobust</td>    <th>                     </th>     <td> </td>   \n",
       "</tr>\n",
       "</table>\n",
       "<table class=\"simpletable\">\n",
       "<tr>\n",
       "    <td></td>       <th>coef</th>     <th>std err</th>      <th>t</th>      <th>P>|t|</th> <th>[95.0% Conf. Int.]</th> \n",
       "</tr>\n",
       "<tr>\n",
       "  <th>const</th> <td>    0.3444</td> <td>    0.219</td> <td>    1.569</td> <td> 0.134</td> <td>   -0.117     0.805</td>\n",
       "</tr>\n",
       "<tr>\n",
       "  <th>X</th>     <td>   -0.9312</td> <td>    0.091</td> <td>  -10.181</td> <td> 0.000</td> <td>   -1.123    -0.739</td>\n",
       "</tr>\n",
       "</table>\n",
       "<table class=\"simpletable\">\n",
       "<tr>\n",
       "  <th>Omnibus:</th>       <td> 0.969</td> <th>  Durbin-Watson:     </th> <td>   1.882</td>\n",
       "</tr>\n",
       "<tr>\n",
       "  <th>Prob(Omnibus):</th> <td> 0.616</td> <th>  Jarque-Bera (JB):  </th> <td>   0.758</td>\n",
       "</tr>\n",
       "<tr>\n",
       "  <th>Skew:</th>          <td> 0.090</td> <th>  Prob(JB):          </th> <td>   0.685</td>\n",
       "</tr>\n",
       "<tr>\n",
       "  <th>Kurtosis:</th>      <td> 2.063</td> <th>  Cond. No.          </th> <td>    2.45</td>\n",
       "</tr>\n",
       "</table>"
      ],
      "text/plain": [
       "<class 'statsmodels.iolib.summary.Summary'>\n",
       "\"\"\"\n",
       "                            OLS Regression Results                            \n",
       "==============================================================================\n",
       "Dep. Variable:                      Y   R-squared:                       0.852\n",
       "Model:                            OLS   Adj. R-squared:                  0.844\n",
       "Method:                 Least Squares   F-statistic:                     103.6\n",
       "Date:                Tue, 01 Nov 2016   Prob (F-statistic):           6.78e-09\n",
       "Time:                        17:51:12   Log-Likelihood:                -26.659\n",
       "No. Observations:                  20   AIC:                             57.32\n",
       "Df Residuals:                      18   BIC:                             59.31\n",
       "Df Model:                           1                                         \n",
       "Covariance Type:            nonrobust                                         \n",
       "==============================================================================\n",
       "                 coef    std err          t      P>|t|      [95.0% Conf. Int.]\n",
       "------------------------------------------------------------------------------\n",
       "const          0.3444      0.219      1.569      0.134        -0.117     0.805\n",
       "X             -0.9312      0.091    -10.181      0.000        -1.123    -0.739\n",
       "==============================================================================\n",
       "Omnibus:                        0.969   Durbin-Watson:                   1.882\n",
       "Prob(Omnibus):                  0.616   Jarque-Bera (JB):                0.758\n",
       "Skew:                           0.090   Prob(JB):                        0.685\n",
       "Kurtosis:                       2.063   Cond. No.                         2.45\n",
       "==============================================================================\n",
       "\n",
       "Warnings:\n",
       "[1] Standard Errors assume that the covariance matrix of the errors is correctly specified.\n",
       "\"\"\""
      ]
     },
     "execution_count": 576,
     "metadata": {},
     "output_type": "execute_result"
    }
   ],
   "source": [
    "reg.summary()"
   ]
  },
  {
   "cell_type": "code",
   "execution_count": 581,
   "metadata": {
    "collapsed": false
   },
   "outputs": [
    {
     "name": "stdout",
     "output_type": "stream",
     "text": [
      "alpha = -1.1, beta = 0.1\n",
      "Sum of Squared Residuals : 16.80\n"
     ]
    },
    {
     "data": {
      "image/png": "[encoded data removed]",
      "text/plain": [
       "<matplotlib.figure.Figure at 0x121862dd8>"
      ]
     },
     "metadata": {},
     "output_type": "display_data"
    }
   ],
   "source": [
    "# Small Beta\n",
    "\n",
    "N  =  20\n",
    "al =  -1\n",
    "be =  0.2\n",
    "Vx =  4\n",
    "Ve =  1\n",
    "\n",
    "df  = gen_regression_problem(N, Vx, Ve, al, be )\n",
    "\n",
    "X1  = sm.add_constant(df[['X']]) \n",
    "reg = sm.OLS( df['Y'], X1 ).fit()\n",
    "\n",
    "alpha = reg.params['const']  # Estimated alpha\n",
    "beta  = reg.params['X']      # Estimated beta\n",
    "plot_reg(df, alpha, beta)"
   ]
  },
  {
   "cell_type": "code",
   "execution_count": 582,
   "metadata": {
    "collapsed": false
   },
   "outputs": [
    {
     "data": {
      "text/html": [
       "<table class=\"simpletable\">\n",
       "<caption>OLS Regression Results</caption>\n",
       "<tr>\n",
       "  <th>Dep. Variable:</th>            <td>Y</td>        <th>  R-squared:         </th> <td>   0.107</td>\n",
       "</tr>\n",
       "<tr>\n",
       "  <th>Model:</th>                   <td>OLS</td>       <th>  Adj. R-squared:    </th> <td>   0.057</td>\n",
       "</tr>\n",
       "<tr>\n",
       "  <th>Method:</th>             <td>Least Squares</td>  <th>  F-statistic:       </th> <td>   2.151</td>\n",
       "</tr>\n",
       "<tr>\n",
       "  <th>Date:</th>             <td>Tue, 01 Nov 2016</td> <th>  Prob (F-statistic):</th>  <td> 0.160</td> \n",
       "</tr>\n",
       "<tr>\n",
       "  <th>Time:</th>                 <td>17:55:07</td>     <th>  Log-Likelihood:    </th> <td> -26.638</td>\n",
       "</tr>\n",
       "<tr>\n",
       "  <th>No. Observations:</th>      <td>    20</td>      <th>  AIC:               </th> <td>   57.28</td>\n",
       "</tr>\n",
       "<tr>\n",
       "  <th>Df Residuals:</th>          <td>    18</td>      <th>  BIC:               </th> <td>   59.27</td>\n",
       "</tr>\n",
       "<tr>\n",
       "  <th>Df Model:</th>              <td>     1</td>      <th>                     </th>     <td> </td>   \n",
       "</tr>\n",
       "<tr>\n",
       "  <th>Covariance Type:</th>      <td>nonrobust</td>    <th>                     </th>     <td> </td>   \n",
       "</tr>\n",
       "</table>\n",
       "<table class=\"simpletable\">\n",
       "<tr>\n",
       "    <td></td>       <th>coef</th>     <th>std err</th>      <th>t</th>      <th>P>|t|</th> <th>[95.0% Conf. Int.]</th> \n",
       "</tr>\n",
       "<tr>\n",
       "  <th>const</th> <td>   -1.0632</td> <td>    0.221</td> <td>   -4.808</td> <td> 0.000</td> <td>   -1.528    -0.599</td>\n",
       "</tr>\n",
       "<tr>\n",
       "  <th>X</th>     <td>    0.1337</td> <td>    0.091</td> <td>    1.467</td> <td> 0.160</td> <td>   -0.058     0.325</td>\n",
       "</tr>\n",
       "</table>\n",
       "<table class=\"simpletable\">\n",
       "<tr>\n",
       "  <th>Omnibus:</th>       <td> 3.761</td> <th>  Durbin-Watson:     </th> <td>   2.103</td>\n",
       "</tr>\n",
       "<tr>\n",
       "  <th>Prob(Omnibus):</th> <td> 0.153</td> <th>  Jarque-Bera (JB):  </th> <td>   2.107</td>\n",
       "</tr>\n",
       "<tr>\n",
       "  <th>Skew:</th>          <td> 0.770</td> <th>  Prob(JB):          </th> <td>   0.349</td>\n",
       "</tr>\n",
       "<tr>\n",
       "  <th>Kurtosis:</th>      <td> 3.393</td> <th>  Cond. No.          </th> <td>    2.51</td>\n",
       "</tr>\n",
       "</table>"
      ],
      "text/plain": [
       "<class 'statsmodels.iolib.summary.Summary'>\n",
       "\"\"\"\n",
       "                            OLS Regression Results                            \n",
       "==============================================================================\n",
       "Dep. Variable:                      Y   R-squared:                       0.107\n",
       "Model:                            OLS   Adj. R-squared:                  0.057\n",
       "Method:                 Least Squares   F-statistic:                     2.151\n",
       "Date:                Tue, 01 Nov 2016   Prob (F-statistic):              0.160\n",
       "Time:                        17:55:07   Log-Likelihood:                -26.638\n",
       "No. Observations:                  20   AIC:                             57.28\n",
       "Df Residuals:                      18   BIC:                             59.27\n",
       "Df Model:                           1                                         \n",
       "Covariance Type:            nonrobust                                         \n",
       "==============================================================================\n",
       "                 coef    std err          t      P>|t|      [95.0% Conf. Int.]\n",
       "------------------------------------------------------------------------------\n",
       "const         -1.0632      0.221     -4.808      0.000        -1.528    -0.599\n",
       "X              0.1337      0.091      1.467      0.160        -0.058     0.325\n",
       "==============================================================================\n",
       "Omnibus:                        3.761   Durbin-Watson:                   2.103\n",
       "Prob(Omnibus):                  0.153   Jarque-Bera (JB):                2.107\n",
       "Skew:                           0.770   Prob(JB):                        0.349\n",
       "Kurtosis:                       3.393   Cond. No.                         2.51\n",
       "==============================================================================\n",
       "\n",
       "Warnings:\n",
       "[1] Standard Errors assume that the covariance matrix of the errors is correctly specified.\n",
       "\"\"\""
      ]
     },
     "execution_count": 582,
     "metadata": {},
     "output_type": "execute_result"
    }
   ],
   "source": [
    "reg.summary()"
   ]
  },
  {
   "cell_type": "markdown",
   "metadata": {},
   "source": [
    "## $R^2$ : Coefficient of determination"
   ]
  },
  {
   "cell_type": "markdown",
   "metadata": {},
   "source": [
    "### Low $R^2$"
   ]
  },
  {
   "cell_type": "code",
   "execution_count": 596,
   "metadata": {
    "collapsed": false
   },
   "outputs": [
    {
     "name": "stdout",
     "output_type": "stream",
     "text": [
      "alpha = 0.4, beta = 0.5\n",
      "Sum of Squared Residuals : 665.10\n"
     ]
    },
    {
     "data": {
      "image/png": "[encoded data removed]",
      "text/plain": [
       "<matplotlib.figure.Figure at 0x1250c0da0>"
      ]
     },
     "metadata": {},
     "output_type": "display_data"
    }
   ],
   "source": [
    "N  =  100\n",
    "al =  0.2\n",
    "be =  0.5\n",
    "Vx =  4\n",
    "Ve =  3\n",
    "\n",
    "df  = gen_regression_problem(N, Vx, Ve, al, be )\n",
    "\n",
    "X1  = sm.add_constant(df[['X']]) \n",
    "reg = sm.OLS( df['Y'], X1 ).fit()\n",
    "\n",
    "alpha = reg.params['const']  # Estimated alpha\n",
    "beta  = reg.params['X']      # Estimated beta\n",
    "plot_reg(df, alpha, beta)"
   ]
  },
  {
   "cell_type": "code",
   "execution_count": 597,
   "metadata": {
    "collapsed": false
   },
   "outputs": [
    {
     "data": {
      "text/html": [
       "<table class=\"simpletable\">\n",
       "<caption>OLS Regression Results</caption>\n",
       "<tr>\n",
       "  <th>Dep. Variable:</th>            <td>Y</td>        <th>  R-squared:         </th> <td>   0.158</td>\n",
       "</tr>\n",
       "<tr>\n",
       "  <th>Model:</th>                   <td>OLS</td>       <th>  Adj. R-squared:    </th> <td>   0.149</td>\n",
       "</tr>\n",
       "<tr>\n",
       "  <th>Method:</th>             <td>Least Squares</td>  <th>  F-statistic:       </th> <td>   18.33</td>\n",
       "</tr>\n",
       "<tr>\n",
       "  <th>Date:</th>             <td>Tue, 01 Nov 2016</td> <th>  Prob (F-statistic):</th> <td>4.34e-05</td>\n",
       "</tr>\n",
       "<tr>\n",
       "  <th>Time:</th>                 <td>18:01:50</td>     <th>  Log-Likelihood:    </th> <td> -236.63</td>\n",
       "</tr>\n",
       "<tr>\n",
       "  <th>No. Observations:</th>      <td>   100</td>      <th>  AIC:               </th> <td>   477.3</td>\n",
       "</tr>\n",
       "<tr>\n",
       "  <th>Df Residuals:</th>          <td>    98</td>      <th>  BIC:               </th> <td>   482.5</td>\n",
       "</tr>\n",
       "<tr>\n",
       "  <th>Df Model:</th>              <td>     1</td>      <th>                     </th>     <td> </td>   \n",
       "</tr>\n",
       "<tr>\n",
       "  <th>Covariance Type:</th>      <td>nonrobust</td>    <th>                     </th>     <td> </td>   \n",
       "</tr>\n",
       "</table>\n",
       "<table class=\"simpletable\">\n",
       "<tr>\n",
       "    <td></td>       <th>coef</th>     <th>std err</th>      <th>t</th>      <th>P>|t|</th> <th>[95.0% Conf. Int.]</th> \n",
       "</tr>\n",
       "<tr>\n",
       "  <th>const</th> <td>    0.3948</td> <td>    0.264</td> <td>    1.494</td> <td> 0.138</td> <td>   -0.130     0.919</td>\n",
       "</tr>\n",
       "<tr>\n",
       "  <th>X</th>     <td>    0.4911</td> <td>    0.115</td> <td>    4.281</td> <td> 0.000</td> <td>    0.263     0.719</td>\n",
       "</tr>\n",
       "</table>\n",
       "<table class=\"simpletable\">\n",
       "<tr>\n",
       "  <th>Omnibus:</th>       <td> 1.366</td> <th>  Durbin-Watson:     </th> <td>   1.975</td>\n",
       "</tr>\n",
       "<tr>\n",
       "  <th>Prob(Omnibus):</th> <td> 0.505</td> <th>  Jarque-Bera (JB):  </th> <td>   0.861</td>\n",
       "</tr>\n",
       "<tr>\n",
       "  <th>Skew:</th>          <td>-0.178</td> <th>  Prob(JB):          </th> <td>   0.650</td>\n",
       "</tr>\n",
       "<tr>\n",
       "  <th>Kurtosis:</th>      <td> 3.282</td> <th>  Cond. No.          </th> <td>    2.35</td>\n",
       "</tr>\n",
       "</table>"
      ],
      "text/plain": [
       "<class 'statsmodels.iolib.summary.Summary'>\n",
       "\"\"\"\n",
       "                            OLS Regression Results                            \n",
       "==============================================================================\n",
       "Dep. Variable:                      Y   R-squared:                       0.158\n",
       "Model:                            OLS   Adj. R-squared:                  0.149\n",
       "Method:                 Least Squares   F-statistic:                     18.33\n",
       "Date:                Tue, 01 Nov 2016   Prob (F-statistic):           4.34e-05\n",
       "Time:                        18:01:50   Log-Likelihood:                -236.63\n",
       "No. Observations:                 100   AIC:                             477.3\n",
       "Df Residuals:                      98   BIC:                             482.5\n",
       "Df Model:                           1                                         \n",
       "Covariance Type:            nonrobust                                         \n",
       "==============================================================================\n",
       "                 coef    std err          t      P>|t|      [95.0% Conf. Int.]\n",
       "------------------------------------------------------------------------------\n",
       "const          0.3948      0.264      1.494      0.138        -0.130     0.919\n",
       "X              0.4911      0.115      4.281      0.000         0.263     0.719\n",
       "==============================================================================\n",
       "Omnibus:                        1.366   Durbin-Watson:                   1.975\n",
       "Prob(Omnibus):                  0.505   Jarque-Bera (JB):                0.861\n",
       "Skew:                          -0.178   Prob(JB):                        0.650\n",
       "Kurtosis:                       3.282   Cond. No.                         2.35\n",
       "==============================================================================\n",
       "\n",
       "Warnings:\n",
       "[1] Standard Errors assume that the covariance matrix of the errors is correctly specified.\n",
       "\"\"\""
      ]
     },
     "execution_count": 597,
     "metadata": {},
     "output_type": "execute_result"
    }
   ],
   "source": [
    "reg.summary()"
   ]
  },
  {
   "cell_type": "markdown",
   "metadata": {},
   "source": [
    "### High $R^2$"
   ]
  },
  {
   "cell_type": "code",
   "execution_count": 598,
   "metadata": {
    "collapsed": false
   },
   "outputs": [
    {
     "name": "stdout",
     "output_type": "stream",
     "text": [
      "alpha = 0.2, beta = 0.5\n",
      "Sum of Squared Residuals : 22.91\n"
     ]
    },
    {
     "data": {
      "image/png": "[encoded data removed]",
      "text/plain": [
       "<matplotlib.figure.Figure at 0x122d50c50>"
      ]
     },
     "metadata": {},
     "output_type": "display_data"
    }
   ],
   "source": [
    "N  =  100\n",
    "al =  0.2\n",
    "be =  0.5\n",
    "Vx =  4\n",
    "Ve =  0.5\n",
    "\n",
    "df  = gen_regression_problem(N, Vx, Ve, al, be )\n",
    "\n",
    "X1  = sm.add_constant(df[['X']]) \n",
    "reg = sm.OLS( df['Y'], X1 ).fit()\n",
    "\n",
    "alpha = reg.params['const']  # Estimated alpha\n",
    "beta  = reg.params['X']      # Estimated beta\n",
    "plot_reg(df, alpha, beta)"
   ]
  },
  {
   "cell_type": "code",
   "execution_count": 599,
   "metadata": {
    "collapsed": false,
    "scrolled": false
   },
   "outputs": [
    {
     "data": {
      "text/html": [
       "<table class=\"simpletable\">\n",
       "<caption>OLS Regression Results</caption>\n",
       "<tr>\n",
       "  <th>Dep. Variable:</th>            <td>Y</td>        <th>  R-squared:         </th> <td>   0.877</td>\n",
       "</tr>\n",
       "<tr>\n",
       "  <th>Model:</th>                   <td>OLS</td>       <th>  Adj. R-squared:    </th> <td>   0.876</td>\n",
       "</tr>\n",
       "<tr>\n",
       "  <th>Method:</th>             <td>Least Squares</td>  <th>  F-statistic:       </th> <td>   701.1</td>\n",
       "</tr>\n",
       "<tr>\n",
       "  <th>Date:</th>             <td>Tue, 01 Nov 2016</td> <th>  Prob (F-statistic):</th> <td>1.88e-46</td>\n",
       "</tr>\n",
       "<tr>\n",
       "  <th>Time:</th>                 <td>18:02:01</td>     <th>  Log-Likelihood:    </th> <td> -68.204</td>\n",
       "</tr>\n",
       "<tr>\n",
       "  <th>No. Observations:</th>      <td>   100</td>      <th>  AIC:               </th> <td>   140.4</td>\n",
       "</tr>\n",
       "<tr>\n",
       "  <th>Df Residuals:</th>          <td>    98</td>      <th>  BIC:               </th> <td>   145.6</td>\n",
       "</tr>\n",
       "<tr>\n",
       "  <th>Df Model:</th>              <td>     1</td>      <th>                     </th>     <td> </td>   \n",
       "</tr>\n",
       "<tr>\n",
       "  <th>Covariance Type:</th>      <td>nonrobust</td>    <th>                     </th>     <td> </td>   \n",
       "</tr>\n",
       "</table>\n",
       "<table class=\"simpletable\">\n",
       "<tr>\n",
       "    <td></td>       <th>coef</th>     <th>std err</th>      <th>t</th>      <th>P>|t|</th> <th>[95.0% Conf. Int.]</th> \n",
       "</tr>\n",
       "<tr>\n",
       "  <th>const</th> <td>    0.1913</td> <td>    0.048</td> <td>    3.944</td> <td> 0.000</td> <td>    0.095     0.288</td>\n",
       "</tr>\n",
       "<tr>\n",
       "  <th>X</th>     <td>    0.5160</td> <td>    0.019</td> <td>   26.479</td> <td> 0.000</td> <td>    0.477     0.555</td>\n",
       "</tr>\n",
       "</table>\n",
       "<table class=\"simpletable\">\n",
       "<tr>\n",
       "  <th>Omnibus:</th>       <td> 0.364</td> <th>  Durbin-Watson:     </th> <td>   2.448</td>\n",
       "</tr>\n",
       "<tr>\n",
       "  <th>Prob(Omnibus):</th> <td> 0.833</td> <th>  Jarque-Bera (JB):  </th> <td>   0.433</td>\n",
       "</tr>\n",
       "<tr>\n",
       "  <th>Skew:</th>          <td> 0.139</td> <th>  Prob(JB):          </th> <td>   0.805</td>\n",
       "</tr>\n",
       "<tr>\n",
       "  <th>Kurtosis:</th>      <td> 2.835</td> <th>  Cond. No.          </th> <td>    2.50</td>\n",
       "</tr>\n",
       "</table>"
      ],
      "text/plain": [
       "<class 'statsmodels.iolib.summary.Summary'>\n",
       "\"\"\"\n",
       "                            OLS Regression Results                            \n",
       "==============================================================================\n",
       "Dep. Variable:                      Y   R-squared:                       0.877\n",
       "Model:                            OLS   Adj. R-squared:                  0.876\n",
       "Method:                 Least Squares   F-statistic:                     701.1\n",
       "Date:                Tue, 01 Nov 2016   Prob (F-statistic):           1.88e-46\n",
       "Time:                        18:02:01   Log-Likelihood:                -68.204\n",
       "No. Observations:                 100   AIC:                             140.4\n",
       "Df Residuals:                      98   BIC:                             145.6\n",
       "Df Model:                           1                                         \n",
       "Covariance Type:            nonrobust                                         \n",
       "==============================================================================\n",
       "                 coef    std err          t      P>|t|      [95.0% Conf. Int.]\n",
       "------------------------------------------------------------------------------\n",
       "const          0.1913      0.048      3.944      0.000         0.095     0.288\n",
       "X              0.5160      0.019     26.479      0.000         0.477     0.555\n",
       "==============================================================================\n",
       "Omnibus:                        0.364   Durbin-Watson:                   2.448\n",
       "Prob(Omnibus):                  0.833   Jarque-Bera (JB):                0.433\n",
       "Skew:                           0.139   Prob(JB):                        0.805\n",
       "Kurtosis:                       2.835   Cond. No.                         2.50\n",
       "==============================================================================\n",
       "\n",
       "Warnings:\n",
       "[1] Standard Errors assume that the covariance matrix of the errors is correctly specified.\n",
       "\"\"\""
      ]
     },
     "execution_count": 599,
     "metadata": {},
     "output_type": "execute_result"
    }
   ],
   "source": [
    "reg.summary()"
   ]
  },
  {
   "cell_type": "markdown",
   "metadata": {},
   "source": [
    "## Statistical Significance"
   ]
  },
  {
   "cell_type": "markdown",
   "metadata": {},
   "source": [
    "### Highly Significant $\\beta$"
   ]
  },
  {
   "cell_type": "code",
   "execution_count": 615,
   "metadata": {
    "collapsed": false
   },
   "outputs": [
    {
     "name": "stdout",
     "output_type": "stream",
     "text": [
      "alpha = 0.2, beta = 0.6\n",
      "Sum of Squared Residuals : 152.79\n"
     ]
    },
    {
     "data": {
      "image/png": "[encoded data removed]",
      "text/plain": [
       "<matplotlib.figure.Figure at 0x1246b2f28>"
      ]
     },
     "metadata": {},
     "output_type": "display_data"
    }
   ],
   "source": [
    "N  =  150\n",
    "al =  0.2\n",
    "be =  0.5\n",
    "Vx =  4\n",
    "Ve =  1\n",
    "\n",
    "df  = gen_regression_problem(N, Vx, Ve, al, be )\n",
    "\n",
    "X1  = sm.add_constant(df[['X']]) \n",
    "reg = sm.OLS( df['Y'], X1 ).fit()\n",
    "\n",
    "alpha = reg.params['const']  # Estimated alpha\n",
    "beta  = reg.params['X']      # Estimated beta\n",
    "plot_reg(df, alpha, beta)"
   ]
  },
  {
   "cell_type": "code",
   "execution_count": 616,
   "metadata": {
    "collapsed": false,
    "scrolled": false
   },
   "outputs": [
    {
     "data": {
      "text/html": [
       "<table class=\"simpletable\">\n",
       "<caption>OLS Regression Results</caption>\n",
       "<tr>\n",
       "  <th>Dep. Variable:</th>            <td>Y</td>        <th>  R-squared:         </th> <td>   0.595</td>\n",
       "</tr>\n",
       "<tr>\n",
       "  <th>Model:</th>                   <td>OLS</td>       <th>  Adj. R-squared:    </th> <td>   0.592</td>\n",
       "</tr>\n",
       "<tr>\n",
       "  <th>Method:</th>             <td>Least Squares</td>  <th>  F-statistic:       </th> <td>   217.4</td>\n",
       "</tr>\n",
       "<tr>\n",
       "  <th>Date:</th>             <td>Tue, 01 Nov 2016</td> <th>  Prob (F-statistic):</th> <td>7.56e-31</td>\n",
       "</tr>\n",
       "<tr>\n",
       "  <th>Time:</th>                 <td>18:07:28</td>     <th>  Log-Likelihood:    </th> <td> -214.22</td>\n",
       "</tr>\n",
       "<tr>\n",
       "  <th>No. Observations:</th>      <td>   150</td>      <th>  AIC:               </th> <td>   432.4</td>\n",
       "</tr>\n",
       "<tr>\n",
       "  <th>Df Residuals:</th>          <td>   148</td>      <th>  BIC:               </th> <td>   438.5</td>\n",
       "</tr>\n",
       "<tr>\n",
       "  <th>Df Model:</th>              <td>     1</td>      <th>                     </th>     <td> </td>   \n",
       "</tr>\n",
       "<tr>\n",
       "  <th>Covariance Type:</th>      <td>nonrobust</td>    <th>                     </th>     <td> </td>   \n",
       "</tr>\n",
       "</table>\n",
       "<table class=\"simpletable\">\n",
       "<tr>\n",
       "    <td></td>       <th>coef</th>     <th>std err</th>      <th>t</th>      <th>P>|t|</th> <th>[95.0% Conf. Int.]</th> \n",
       "</tr>\n",
       "<tr>\n",
       "  <th>const</th> <td>    0.1515</td> <td>    0.083</td> <td>    1.826</td> <td> 0.070</td> <td>   -0.012     0.316</td>\n",
       "</tr>\n",
       "<tr>\n",
       "  <th>X</th>     <td>    0.5543</td> <td>    0.038</td> <td>   14.746</td> <td> 0.000</td> <td>    0.480     0.629</td>\n",
       "</tr>\n",
       "</table>\n",
       "<table class=\"simpletable\">\n",
       "<tr>\n",
       "  <th>Omnibus:</th>       <td> 4.340</td> <th>  Durbin-Watson:     </th> <td>   1.885</td>\n",
       "</tr>\n",
       "<tr>\n",
       "  <th>Prob(Omnibus):</th> <td> 0.114</td> <th>  Jarque-Bera (JB):  </th> <td>   4.002</td>\n",
       "</tr>\n",
       "<tr>\n",
       "  <th>Skew:</th>          <td> 0.395</td> <th>  Prob(JB):          </th> <td>   0.135</td>\n",
       "</tr>\n",
       "<tr>\n",
       "  <th>Kurtosis:</th>      <td> 3.122</td> <th>  Cond. No.          </th> <td>    2.21</td>\n",
       "</tr>\n",
       "</table>"
      ],
      "text/plain": [
       "<class 'statsmodels.iolib.summary.Summary'>\n",
       "\"\"\"\n",
       "                            OLS Regression Results                            \n",
       "==============================================================================\n",
       "Dep. Variable:                      Y   R-squared:                       0.595\n",
       "Model:                            OLS   Adj. R-squared:                  0.592\n",
       "Method:                 Least Squares   F-statistic:                     217.4\n",
       "Date:                Tue, 01 Nov 2016   Prob (F-statistic):           7.56e-31\n",
       "Time:                        18:07:28   Log-Likelihood:                -214.22\n",
       "No. Observations:                 150   AIC:                             432.4\n",
       "Df Residuals:                     148   BIC:                             438.5\n",
       "Df Model:                           1                                         \n",
       "Covariance Type:            nonrobust                                         \n",
       "==============================================================================\n",
       "                 coef    std err          t      P>|t|      [95.0% Conf. Int.]\n",
       "------------------------------------------------------------------------------\n",
       "const          0.1515      0.083      1.826      0.070        -0.012     0.316\n",
       "X              0.5543      0.038     14.746      0.000         0.480     0.629\n",
       "==============================================================================\n",
       "Omnibus:                        4.340   Durbin-Watson:                   1.885\n",
       "Prob(Omnibus):                  0.114   Jarque-Bera (JB):                4.002\n",
       "Skew:                           0.395   Prob(JB):                        0.135\n",
       "Kurtosis:                       3.122   Cond. No.                         2.21\n",
       "==============================================================================\n",
       "\n",
       "Warnings:\n",
       "[1] Standard Errors assume that the covariance matrix of the errors is correctly specified.\n",
       "\"\"\""
      ]
     },
     "execution_count": 616,
     "metadata": {},
     "output_type": "execute_result"
    }
   ],
   "source": [
    "reg.summary()"
   ]
  },
  {
   "cell_type": "markdown",
   "metadata": {},
   "source": [
    "### Not Significant $\\beta$"
   ]
  },
  {
   "cell_type": "code",
   "execution_count": 619,
   "metadata": {
    "collapsed": false
   },
   "outputs": [
    {
     "name": "stdout",
     "output_type": "stream",
     "text": [
      "alpha = 0.1, beta = 1.4\n",
      "Sum of Squared Residuals : 196.05\n"
     ]
    },
    {
     "data": {
      "image/png": "[encoded data removed]",
      "text/plain": [
       "<matplotlib.figure.Figure at 0x1258e3ba8>"
      ]
     },
     "metadata": {},
     "output_type": "display_data"
    }
   ],
   "source": [
    "N  =  50\n",
    "al =  0.2\n",
    "be =  0.5\n",
    "Vx =  0.5\n",
    "Ve =  2\n",
    "\n",
    "df  = gen_regression_problem(N, Vx, Ve, al, be )\n",
    "\n",
    "X1  = sm.add_constant(df[['X']]) \n",
    "reg = sm.OLS( df['Y'], X1 ).fit()\n",
    "\n",
    "alpha = reg.params['const']  # Estimated alpha\n",
    "beta  = reg.params['X']      # Estimated beta\n",
    "plot_reg(df, alpha, beta)"
   ]
  },
  {
   "cell_type": "code",
   "execution_count": 620,
   "metadata": {
    "collapsed": false,
    "scrolled": false
   },
   "outputs": [
    {
     "data": {
      "text/html": [
       "<table class=\"simpletable\">\n",
       "<caption>OLS Regression Results</caption>\n",
       "<tr>\n",
       "  <th>Dep. Variable:</th>            <td>Y</td>        <th>  R-squared:         </th> <td>   0.040</td>\n",
       "</tr>\n",
       "<tr>\n",
       "  <th>Model:</th>                   <td>OLS</td>       <th>  Adj. R-squared:    </th> <td>   0.020</td>\n",
       "</tr>\n",
       "<tr>\n",
       "  <th>Method:</th>             <td>Least Squares</td>  <th>  F-statistic:       </th> <td>   2.008</td>\n",
       "</tr>\n",
       "<tr>\n",
       "  <th>Date:</th>             <td>Tue, 01 Nov 2016</td> <th>  Prob (F-statistic):</th>  <td> 0.163</td> \n",
       "</tr>\n",
       "<tr>\n",
       "  <th>Time:</th>                 <td>18:08:16</td>     <th>  Log-Likelihood:    </th> <td> -105.11</td>\n",
       "</tr>\n",
       "<tr>\n",
       "  <th>No. Observations:</th>      <td>    50</td>      <th>  AIC:               </th> <td>   214.2</td>\n",
       "</tr>\n",
       "<tr>\n",
       "  <th>Df Residuals:</th>          <td>    48</td>      <th>  BIC:               </th> <td>   218.0</td>\n",
       "</tr>\n",
       "<tr>\n",
       "  <th>Df Model:</th>              <td>     1</td>      <th>                     </th>     <td> </td>   \n",
       "</tr>\n",
       "<tr>\n",
       "  <th>Covariance Type:</th>      <td>nonrobust</td>    <th>                     </th>     <td> </td>   \n",
       "</tr>\n",
       "</table>\n",
       "<table class=\"simpletable\">\n",
       "<tr>\n",
       "    <td></td>       <th>coef</th>     <th>std err</th>      <th>t</th>      <th>P>|t|</th> <th>[95.0% Conf. Int.]</th> \n",
       "</tr>\n",
       "<tr>\n",
       "  <th>const</th> <td>    0.0529</td> <td>    0.286</td> <td>    0.185</td> <td> 0.854</td> <td>   -0.522     0.628</td>\n",
       "</tr>\n",
       "<tr>\n",
       "  <th>X</th>     <td>    1.3970</td> <td>    0.986</td> <td>    1.417</td> <td> 0.163</td> <td>   -0.585     3.379</td>\n",
       "</tr>\n",
       "</table>\n",
       "<table class=\"simpletable\">\n",
       "<tr>\n",
       "  <th>Omnibus:</th>       <td> 1.127</td> <th>  Durbin-Watson:     </th> <td>   2.114</td>\n",
       "</tr>\n",
       "<tr>\n",
       "  <th>Prob(Omnibus):</th> <td> 0.569</td> <th>  Jarque-Bera (JB):  </th> <td>   0.607</td>\n",
       "</tr>\n",
       "<tr>\n",
       "  <th>Skew:</th>          <td>-0.257</td> <th>  Prob(JB):          </th> <td>   0.738</td>\n",
       "</tr>\n",
       "<tr>\n",
       "  <th>Kurtosis:</th>      <td> 3.163</td> <th>  Cond. No.          </th> <td>    3.45</td>\n",
       "</tr>\n",
       "</table>"
      ],
      "text/plain": [
       "<class 'statsmodels.iolib.summary.Summary'>\n",
       "\"\"\"\n",
       "                            OLS Regression Results                            \n",
       "==============================================================================\n",
       "Dep. Variable:                      Y   R-squared:                       0.040\n",
       "Model:                            OLS   Adj. R-squared:                  0.020\n",
       "Method:                 Least Squares   F-statistic:                     2.008\n",
       "Date:                Tue, 01 Nov 2016   Prob (F-statistic):              0.163\n",
       "Time:                        18:08:16   Log-Likelihood:                -105.11\n",
       "No. Observations:                  50   AIC:                             214.2\n",
       "Df Residuals:                      48   BIC:                             218.0\n",
       "Df Model:                           1                                         \n",
       "Covariance Type:            nonrobust                                         \n",
       "==============================================================================\n",
       "                 coef    std err          t      P>|t|      [95.0% Conf. Int.]\n",
       "------------------------------------------------------------------------------\n",
       "const          0.0529      0.286      0.185      0.854        -0.522     0.628\n",
       "X              1.3970      0.986      1.417      0.163        -0.585     3.379\n",
       "==============================================================================\n",
       "Omnibus:                        1.127   Durbin-Watson:                   2.114\n",
       "Prob(Omnibus):                  0.569   Jarque-Bera (JB):                0.607\n",
       "Skew:                          -0.257   Prob(JB):                        0.738\n",
       "Kurtosis:                       3.163   Cond. No.                         3.45\n",
       "==============================================================================\n",
       "\n",
       "Warnings:\n",
       "[1] Standard Errors assume that the covariance matrix of the errors is correctly specified.\n",
       "\"\"\""
      ]
     },
     "execution_count": 620,
     "metadata": {},
     "output_type": "execute_result"
    }
   ],
   "source": [
    "reg.summary()"
   ]
  },
  {
   "cell_type": "code",
   "execution_count": null,
   "metadata": {
    "collapsed": true
   },
   "outputs": [],
   "source": []
  }
 ],
 "metadata": {
  "kernelspec": {
   "display_name": "Python 3",
   "language": "python",
   "name": "python3"
  },
  "language_info": {
   "codemirror_mode": {
    "name": "ipython",
    "version": 3
   },
   "file_extension": ".py",
   "mimetype": "text/x-python",
   "name": "python",
   "nbconvert_exporter": "python",
   "pygments_lexer": "ipython3",
   "version": "3.5.1"
  }
 },
 "nbformat": 4,
 "nbformat_minor": 0
}
