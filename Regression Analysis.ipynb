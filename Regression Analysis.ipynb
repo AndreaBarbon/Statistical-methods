{
 "cells": [
  {
   "cell_type": "markdown",
   "metadata": {
    "slideshow": {
     "slide_type": "slide"
    }
   },
   "source": [
    "# Regression Analysis\n",
    "\n",
    "<br/>\n",
    "\n",
    "- Regression Problem\n",
    "\n",
    "- Analytical solution\n",
    "\n",
    "- Regression results\n",
    "\n",
    "- Applications to capital markets"
   ]
  },
  {
   "cell_type": "code",
   "execution_count": 1,
   "metadata": {
    "collapsed": false,
    "slideshow": {
     "slide_type": "skip"
    }
   },
   "outputs": [],
   "source": [
    "import numpy  as np\n",
    "import pandas as pd\n",
    "import seaborn as sns\n",
    "import statsmodels.api as sm\n",
    "sns.set_style('whitegrid')\n",
    "sns.set_context('poster', rc={\"lines.linewidth\": 2} )\n",
    "\n",
    "%matplotlib inline"
   ]
  },
  {
   "cell_type": "code",
   "execution_count": 55,
   "metadata": {
    "collapsed": false,
    "slideshow": {
     "slide_type": "skip"
    }
   },
   "outputs": [],
   "source": [
    "def gen_regression_problem(N, Vx, Ve, alpha, beta, mu=0, positive=False ):\n",
    "\n",
    "    X = np.random.uniform(-Vx + mu, Vx + mu, N )\n",
    "    E = np.random.normal(0, Ve, N )\n",
    "    \n",
    "    Y  = [ alpha + beta*x + e for x,e in zip(X,E) ]\n",
    "    if positive: Y = np.abs(Y)\n",
    "        \n",
    "    df = pd.DataFrame({ 'X':X, 'Y':Y, 'E':E }).sort_values('X')  \n",
    "\n",
    "    return df\n",
    "\n",
    "\n",
    "def plot_reg(df, alpha=None, beta=None, w=[-6,6], h=[-6,6], prt=True):\n",
    "    \n",
    "    fig, (ax1) = plt.subplots(1,1, figsize=(10,4))\n",
    "            \n",
    "    _ = ax1.scatter(y=df['Y'], x=df['X'], marker='o', s=50, zorder=2 )\n",
    "    _ = ax1.set_xlim(w)\n",
    "    _ = ax1.set_ylim(h)\n",
    "    \n",
    "    if beta is not None: \n",
    "        \n",
    "        df['Y1' ] = df['X'].apply( lambda x : alpha + beta * x )\n",
    "        df['err'] = df['Y'] - df['Y1']\n",
    "        SS_res    = (df['err']**2).sum()\n",
    "        if prt:    \n",
    "            print( 'alpha = {0:1.1f}, beta = {1:1.1f}'.format(alpha, beta) )\n",
    "            print('Sum of Squared Residuals : {0:1.2f}'.format(SS_res)  )\n",
    "\n",
    "        plot_fitted_line(alpha, beta, ax1, w)\n",
    "                \n",
    "        for i in range(0,len(df)):\n",
    "            P1 = [ df['X' ].iloc[i], df['X'].iloc[i] ]\n",
    "            P2 = [ df['Y1'].iloc[i], df['Y'].iloc[i] ]\n",
    "            ax1.plot(P1, P2, color='r', alpha=0.5, zorder=1)\n",
    "       \n",
    "    \n",
    "\n",
    "def plot_fitted_line(alpha, beta, ax, w=[-6,6]):\n",
    "    f   = lambda x : alpha + beta * x\n",
    "    dom = np.linspace(*w)\n",
    "    img = list( map( f, dom ) )\n",
    "    ax.plot(dom, img, color='k', linestyle='--')\n",
    "\n",
    "def show_dataset():\n",
    "    df = gen_regression_problem(50, 10, 75, 0, 25, mu=10, positive=True )\n",
    "    plot_reg(df, w=[0, 20], h=[0,600])\n",
    "    return df\n",
    "    \n",
    "def fit_dataset(df, prt=True):\n",
    "    X1  = sm.add_constant(df[['X']]) \n",
    "    reg = sm.OLS( df['Y'], X1 ).fit()\n",
    "    plot_reg(df, reg.params['const'], reg.params['X'], w=[0, 20], h=[0,600], prt=prt)\n",
    "    return reg"
   ]
  },
  {
   "cell_type": "markdown",
   "metadata": {
    "slideshow": {
     "slide_type": "slide"
    }
   },
   "source": [
    "# Introduction\n",
    "\n",
    "Imagine you bought a car and the seller told you that it can run for $35$ kilometer per liter of gasoline.\n",
    "\n",
    "This seems to good to be true, so you decide to investigate the matter.\n",
    "\n",
    "You start using your new car and every time you drive from a place to another you keep track of\n",
    "\n",
    "$$ x_i = \\text{ liters of gasoline consumed during trip } i $$\n",
    "\n",
    "and\n",
    "\n",
    "$$ y_i = \\text{ length of trip } i \\text{ in kilometers } $$"
   ]
  },
  {
   "cell_type": "markdown",
   "metadata": {
    "slideshow": {
     "slide_type": "slide"
    }
   },
   "source": [
    "After some months you made $N=50$ trips and you have a dataset with $N$ observations in the form\n",
    "\n",
    "$$ (x_i, y_i) \\quad \\text{ for } \\quad i=1,\\dots N $$\n",
    "\n",
    "How can you use this data to check if you can actually drive for $35$ km with one liter of gasoline?"
   ]
  },
  {
   "cell_type": "markdown",
   "metadata": {
    "slideshow": {
     "slide_type": "fragment"
    }
   },
   "source": [
    "## Use linear regression!"
   ]
  },
  {
   "cell_type": "markdown",
   "metadata": {
    "slideshow": {
     "slide_type": "slide"
    }
   },
   "source": [
    "It makes sense to conjecture a linear relation between liters and kilometers, so you assume a linear model of the form\n",
    "\n",
    "$$ y_i = \\alpha + \\beta x_i + \\varepsilon_i $$\n",
    "\n",
    "Of course, you expect $\\alpha = 0$ and $\\beta>0$ (why?)\n",
    "\n",
    "But the precise value of $\\beta$ is an *empirical question*. \n",
    "\n",
    "Will it be close to $35$ or not?"
   ]
  },
  {
   "cell_type": "markdown",
   "metadata": {
    "slideshow": {
     "slide_type": "slide"
    }
   },
   "source": [
    "This is how your dataset looks like on your notebook:\n",
    "\n",
    "![Notebook](Notebook.png \"Notebook\")"
   ]
  },
  {
   "cell_type": "markdown",
   "metadata": {
    "slideshow": {
     "slide_type": "slide"
    }
   },
   "source": [
    "You can also plot it on the (x,y) plane:"
   ]
  },
  {
   "cell_type": "code",
   "execution_count": 38,
   "metadata": {
    "collapsed": false,
    "slideshow": {
     "slide_type": "fragment"
    }
   },
   "outputs": [
    {
     "data": {
      "image/png": "[encoded data removed]",
      "text/plain": [
       "<matplotlib.figure.Figure at 0x1156daf28>"
      ]
     },
     "metadata": {},
     "output_type": "display_data"
    }
   ],
   "source": [
    "car_data = show_dataset()"
   ]
  },
  {
   "cell_type": "markdown",
   "metadata": {
    "slideshow": {
     "slide_type": "slide"
    }
   },
   "source": [
    "You fit a linear regression to estimate the coefficients"
   ]
  },
  {
   "cell_type": "code",
   "execution_count": 39,
   "metadata": {
    "collapsed": false,
    "scrolled": false,
    "slideshow": {
     "slide_type": "fragment"
    }
   },
   "outputs": [
    {
     "data": {
      "text/html": [
       "<table class=\"simpletable\">\n",
       "<tr>\n",
       "    <td></td>       <th>coef</th>     <th>std err</th>      <th>t</th>      <th>P>|t|</th> <th>[95.0% Conf. Int.]</th> \n",
       "</tr>\n",
       "<tr>\n",
       "  <th>const</th> <td>   16.1623</td> <td>   18.013</td> <td>    0.897</td> <td> 0.374</td> <td>  -20.055    52.380</td>\n",
       "</tr>\n",
       "<tr>\n",
       "  <th>X</th>     <td>   24.8289</td> <td>    1.548</td> <td>   16.036</td> <td> 0.000</td> <td>   21.716    27.942</td>\n",
       "</tr>\n",
       "</table>"
      ],
      "text/plain": [
       "<class 'statsmodels.iolib.table.SimpleTable'>"
      ]
     },
     "execution_count": 39,
     "metadata": {},
     "output_type": "execute_result"
    },
    {
     "data": {
      "image/png": "[encoded data removed]",
      "text/plain": [
       "<matplotlib.figure.Figure at 0x11b20a470>"
      ]
     },
     "metadata": {},
     "output_type": "display_data"
    }
   ],
   "source": [
    "reg = fit_dataset(car_data, prt=False)\n",
    "reg.summary().tables[1]"
   ]
  },
  {
   "cell_type": "markdown",
   "metadata": {
    "slideshow": {
     "slide_type": "fragment"
    }
   },
   "source": [
    "According to the estimate, the car can run for only 25 km with a liter of gasoline.\n",
    "The seller was lying!"
   ]
  },
  {
   "cell_type": "markdown",
   "metadata": {
    "slideshow": {
     "slide_type": "skip"
    }
   },
   "source": [
    "<br/><br/><br/><br/>"
   ]
  },
  {
   "cell_type": "markdown",
   "metadata": {
    "slideshow": {
     "slide_type": "slide"
    }
   },
   "source": [
    "# Regression Problem\n",
    "\n",
    "We are given $N$ points $(y_i, x_i)$ with $i=1,\\dots N$.\n",
    "\n",
    "We can think of those as sample draws from the the joint distribution of two random variables $X$ and $Y$."
   ]
  },
  {
   "cell_type": "markdown",
   "metadata": {
    "slideshow": {
     "slide_type": "fragment"
    }
   },
   "source": [
    "We want to check if there is a linear relation between $X$ and $Y$.\n",
    "\n",
    "If that is the case, we should find a non-zero $\\beta$ when estimating the linear model\n",
    "\n",
    "$$ y_i = \\alpha + \\beta x_i + \\varepsilon_i $$"
   ]
  },
  {
   "cell_type": "markdown",
   "metadata": {
    "slideshow": {
     "slide_type": "slide"
    }
   },
   "source": [
    "# Geometric Interpretation\n",
    "\n",
    "We can scatter our observations on the (x,y) plane"
   ]
  },
  {
   "cell_type": "markdown",
   "metadata": {
    "slideshow": {
     "slide_type": "fragment"
    }
   },
   "source": [
    "![Regression Problem](problem.png \"Regression Problem\")"
   ]
  },
  {
   "cell_type": "markdown",
   "metadata": {
    "slideshow": {
     "slide_type": "fragment"
    }
   },
   "source": [
    "We want the line that fits the points in the best possible way."
   ]
  },
  {
   "cell_type": "markdown",
   "metadata": {
    "slideshow": {
     "slide_type": "fragment"
    }
   },
   "source": [
    "Then the **slope** of the line will be our estimted $\\beta$, while its **intercept** will be our estimated $\\alpha$."
   ]
  },
  {
   "cell_type": "markdown",
   "metadata": {
    "slideshow": {
     "slide_type": "slide"
    }
   },
   "source": [
    "The best fitting line is the one that is closer to most of the points.\n",
    "![Fitted Line](fitted.png \"Fitted Line\")"
   ]
  },
  {
   "cell_type": "markdown",
   "metadata": {
    "slideshow": {
     "slide_type": "fragment"
    }
   },
   "source": [
    "More precisely, it is the line with intercept $\\alpha$ and slope $\\beta$ which minimizes the **sum of squared residuals**, also known as $SS_{res}$\n",
    "\n",
    "$$ SS_{res} = \\sum_{i=1}^N \\varepsilon_i^2 =  \\sum_{i=1}^N ( y_i - \\alpha - \\beta x_i )^2 $$"
   ]
  },
  {
   "cell_type": "markdown",
   "metadata": {
    "slideshow": {
     "slide_type": "skip"
    }
   },
   "source": [
    "<br/><br/><br/><br/>"
   ]
  },
  {
   "cell_type": "markdown",
   "metadata": {
    "slideshow": {
     "slide_type": "slide"
    }
   },
   "source": [
    "# Examples"
   ]
  },
  {
   "cell_type": "code",
   "execution_count": 56,
   "metadata": {
    "collapsed": true,
    "slideshow": {
     "slide_type": "skip"
    }
   },
   "outputs": [],
   "source": [
    "N  =  20; al =  1; be =  0.5; Vx =  4; Ve =  1"
   ]
  },
  {
   "cell_type": "code",
   "execution_count": 57,
   "metadata": {
    "collapsed": false,
    "scrolled": true,
    "slideshow": {
     "slide_type": "fragment"
    }
   },
   "outputs": [
    {
     "data": {
      "image/png": "[encoded data removed]",
      "text/plain": [
       "<matplotlib.figure.Figure at 0x11b24be10>"
      ]
     },
     "metadata": {},
     "output_type": "display_data"
    }
   ],
   "source": [
    "df  = gen_regression_problem(N, Vx, Ve, al, be )\n",
    "plot_reg(df)"
   ]
  },
  {
   "cell_type": "markdown",
   "metadata": {
    "slideshow": {
     "slide_type": "slide"
    }
   },
   "source": [
    "# First guess"
   ]
  },
  {
   "cell_type": "code",
   "execution_count": 58,
   "metadata": {
    "collapsed": false,
    "scrolled": true,
    "slideshow": {
     "slide_type": "fragment"
    }
   },
   "outputs": [
    {
     "name": "stdout",
     "output_type": "stream",
     "text": [
      "alpha = 2.0, beta = -0.5\n",
      "Sum of Squared Residuals : 113.20\n"
     ]
    },
    {
     "data": {
      "image/png": "[encoded data removed]",
      "text/plain": [
       "<matplotlib.figure.Figure at 0x11b19bd30>"
      ]
     },
     "metadata": {},
     "output_type": "display_data"
    }
   ],
   "source": [
    "alpha = 2\n",
    "beta  = -0.5\n",
    "plot_reg(df, alpha, beta)"
   ]
  },
  {
   "cell_type": "markdown",
   "metadata": {
    "slideshow": {
     "slide_type": "fragment"
    }
   },
   "source": [
    "Not good at all! The slope of the line $\\beta$ should be positive"
   ]
  },
  {
   "cell_type": "markdown",
   "metadata": {
    "slideshow": {
     "slide_type": "slide"
    }
   },
   "source": [
    "# Second guess"
   ]
  },
  {
   "cell_type": "code",
   "execution_count": 59,
   "metadata": {
    "collapsed": false,
    "scrolled": true,
    "slideshow": {
     "slide_type": "fragment"
    }
   },
   "outputs": [
    {
     "name": "stdout",
     "output_type": "stream",
     "text": [
      "alpha = 2.5, beta = 0.7\n",
      "Sum of Squared Residuals : 82.55\n"
     ]
    },
    {
     "data": {
      "image/png": "[encoded data removed]",
      "text/plain": [
       "<matplotlib.figure.Figure at 0x11b1b13c8>"
      ]
     },
     "metadata": {},
     "output_type": "display_data"
    }
   ],
   "source": [
    "alpha = 2.5\n",
    "beta  = 0.7\n",
    "plot_reg(df, alpha, beta)"
   ]
  },
  {
   "cell_type": "markdown",
   "metadata": {
    "slideshow": {
     "slide_type": "fragment"
    }
   },
   "source": [
    "Better, but the $\\alpha$ is too high"
   ]
  },
  {
   "cell_type": "markdown",
   "metadata": {
    "slideshow": {
     "slide_type": "slide"
    }
   },
   "source": [
    "# Third guess"
   ]
  },
  {
   "cell_type": "code",
   "execution_count": 60,
   "metadata": {
    "collapsed": false,
    "scrolled": true,
    "slideshow": {
     "slide_type": "fragment"
    }
   },
   "outputs": [
    {
     "name": "stdout",
     "output_type": "stream",
     "text": [
      "alpha = 1.0, beta = 0.7\n",
      "Sum of Squared Residuals : 25.03\n"
     ]
    },
    {
     "data": {
      "image/png": "[encoded data removed]",
      "text/plain": [
       "<matplotlib.figure.Figure at 0x11b251518>"
      ]
     },
     "metadata": {},
     "output_type": "display_data"
    }
   ],
   "source": [
    "alpha =  1\n",
    "beta  =  0.7\n",
    "plot_reg(df, alpha, beta)"
   ]
  },
  {
   "cell_type": "markdown",
   "metadata": {
    "slideshow": {
     "slide_type": "fragment"
    }
   },
   "source": [
    "Not bad! But can we do better?"
   ]
  },
  {
   "cell_type": "markdown",
   "metadata": {
    "slideshow": {
     "slide_type": "skip"
    }
   },
   "source": [
    "<br/><br/><br/><br/>"
   ]
  },
  {
   "cell_type": "markdown",
   "metadata": {
    "slideshow": {
     "slide_type": "slide"
    }
   },
   "source": [
    "# Analytical Solution\n",
    "\n",
    "We want to minimize the sum of squared resuduals, $SS_{res}$ , as a funcion of $\\alpha$ and $\\beta$. How?"
   ]
  },
  {
   "cell_type": "markdown",
   "metadata": {
    "slideshow": {
     "slide_type": "fragment"
    }
   },
   "source": [
    "#### Let's take derivatives!"
   ]
  },
  {
   "cell_type": "markdown",
   "metadata": {
    "slideshow": {
     "slide_type": "fragment"
    }
   },
   "source": [
    "First, we impose the FOC with respect to $\\alpha$ and we get\n",
    "\n",
    "$$ \n",
    "0 = \\frac{\\partial}{\\partial \\alpha}SS_{res} \n",
    "\\implies \n",
    "\\alpha = \\frac{1}{N} \\sum_{i=1}^N y_i - \\frac{\\beta}{N} \\sum_{i=1}^N x_i \n",
    "= \\bar{y} - \\beta \\bar{x}\n",
    "$$"
   ]
  },
  {
   "cell_type": "markdown",
   "metadata": {
    "slideshow": {
     "slide_type": "slide"
    }
   },
   "source": [
    "Thus we can rewritve $SS_{res}$ as \n",
    "\n",
    "$$ SS_{res} = \\sum_{i=1}^N \\left( y_i - \\bar{y} - \\beta (x_i-\\bar{x}) \\right)^2 $$"
   ]
  },
  {
   "cell_type": "markdown",
   "metadata": {
    "slideshow": {
     "slide_type": "fragment"
    }
   },
   "source": [
    "and imposing the FOC wrt $\\beta$ we find\n",
    "\n",
    "$$ \n",
    "\\beta = \\frac{ \\frac{1}{N} \\sum_i (y_i - \\bar{y})(x_i -\\bar{x}) } { \\frac{1}{N} \\sum_i (x_i -\\bar{x})^2 }\n",
    "= \\frac{ \\hat{Cov}(X,Y) } { \\hat{V}(X) }\n",
    "$$"
   ]
  },
  {
   "cell_type": "markdown",
   "metadata": {
    "slideshow": {
     "slide_type": "fragment"
    }
   },
   "source": [
    "Hence we see that the optimal $\\beta$ is the sample covariance of $X$ and $Y$ divided by the sample variance of the explanatory variable $X$."
   ]
  },
  {
   "cell_type": "markdown",
   "metadata": {
    "slideshow": {
     "slide_type": "slide"
    }
   },
   "source": [
    "### Optimal $\\alpha$ and $\\beta$"
   ]
  },
  {
   "cell_type": "code",
   "execution_count": 64,
   "metadata": {
    "collapsed": false,
    "slideshow": {
     "slide_type": "fragment"
    }
   },
   "outputs": [
    {
     "name": "stdout",
     "output_type": "stream",
     "text": [
      "alpha = 0.8, beta = 0.5\n",
      "Sum of Squared Residuals : 20.97\n"
     ]
    },
    {
     "data": {
      "image/png": "[encoded data removed]",
      "text/plain": [
       "<matplotlib.figure.Figure at 0x119a7c6a0>"
      ]
     },
     "metadata": {},
     "output_type": "display_data"
    }
   ],
   "source": [
    "X1    = sm.add_constant(df[['X']])  # Define the explanatory variable\n",
    "reg   = sm.OLS( df['Y'], X1 ).fit() # Fit the regression\n",
    "alpha = reg.params['const']         # Estimated alpha\n",
    "beta  = reg.params['X']             # Estimated beta\n",
    "plot_reg(df, alpha, beta)"
   ]
  },
  {
   "cell_type": "markdown",
   "metadata": {
    "slideshow": {
     "slide_type": "skip"
    }
   },
   "source": [
    "<br/><br/><br/><br/>"
   ]
  },
  {
   "cell_type": "markdown",
   "metadata": {
    "slideshow": {
     "slide_type": "slide"
    }
   },
   "source": [
    "# $R^2$\n",
    "\n",
    "The $R^2$ or **coefficient of determination** is the proportion of the variance of $Y$ that is predictable from $X$.\n",
    "\n",
    "In other words it measures how well $X$ can explain $Y$."
   ]
  },
  {
   "cell_type": "markdown",
   "metadata": {
    "slideshow": {
     "slide_type": "fragment"
    }
   },
   "source": [
    "To define the $R^2$ we first need to introduce two objects:\n",
    "\n",
    "1. The total sum of squares $SS_{tot}$\n",
    "<br/><br/>\n",
    "2. The regression sum of squares $SS_{reg}$"
   ]
  },
  {
   "cell_type": "markdown",
   "metadata": {
    "slideshow": {
     "slide_type": "slide"
    }
   },
   "source": [
    "The total sum of squares $SS_{tot}$ is proportional to the sample variance of $Y$\n",
    "\n",
    "$$ SS_{tot} = \\frac{1}{N-1} \\sum_{i=1}^N (y_i - \\bar{y})^2 = \\hat{V}(Y) $$ "
   ]
  },
  {
   "cell_type": "markdown",
   "metadata": {
    "slideshow": {
     "slide_type": "fragment"
    }
   },
   "source": [
    "This is the variation we would like to explain using the explanatory variable $X$."
   ]
  },
  {
   "cell_type": "markdown",
   "metadata": {
    "slideshow": {
     "slide_type": "slide"
    }
   },
   "source": [
    "The *regression sum of squares* or *explained sum of squares* $SS_{tot}$ is proportional to the sample variance of $\\beta X$\n",
    "\n",
    "$$ SS_{reg} = \\frac{1}{N-1} \\sum_{i=1}^N (\\beta x_i - \\beta \\bar{x})^2 = \\hat{V}(\\beta X) $$"
   ]
  },
  {
   "cell_type": "markdown",
   "metadata": {
    "slideshow": {
     "slide_type": "fragment"
    }
   },
   "source": [
    "This is the variation we can explain using the explanatory variable $X$."
   ]
  },
  {
   "cell_type": "markdown",
   "metadata": {
    "slideshow": {
     "slide_type": "slide"
    }
   },
   "source": [
    "The coefficient of determination or $R^2$ is defined as \n",
    "\n",
    "$$ R^2 = \\frac{SS_{tot} - SS_{reg}}{SS_{tot}} $$"
   ]
  },
  {
   "cell_type": "markdown",
   "metadata": {
    "slideshow": {
     "slide_type": "fragment"
    }
   },
   "source": [
    "It measures the fraction of variance that can be explained by $X$"
   ]
  },
  {
   "cell_type": "markdown",
   "metadata": {
    "slideshow": {
     "slide_type": "slide"
    }
   },
   "source": [
    "# Significance of $\\beta$\n",
    "\n",
    "When we estimate a model on the data, we want a way to measure the statistical significance of the estimated parameters.\n",
    "\n",
    "..."
   ]
  },
  {
   "cell_type": "markdown",
   "metadata": {
    "slideshow": {
     "slide_type": "slide"
    }
   },
   "source": [
    "The *standard error* of $\\beta$ is the standard deviation of the fitted $\\beta$, given $X$. "
   ]
  },
  {
   "cell_type": "markdown",
   "metadata": {
    "slideshow": {
     "slide_type": "fragment"
    }
   },
   "source": [
    "Since $V(y_i \\mid X) =  V(\\varepsilon)$, we find\n",
    "\n",
    "$$ V(\\beta \\mid X) \n",
    "= V\\left( \\frac{ \\sum_i (y_i - \\bar{y})(x_i -\\bar{x}) } { \\sum_i (x_i -\\bar{x})^2 } \\mid X \\right)\n",
    "= \\frac{ V(\\varepsilon) } { \\sum_i (x_i -\\bar{x})^2 }\n",
    "= \\frac{1}{(N-1)} \\frac{ V(\\varepsilon) } { \\hat{V}(X) }\n",
    "$$"
   ]
  },
  {
   "cell_type": "markdown",
   "metadata": {
    "slideshow": {
     "slide_type": "slide"
    }
   },
   "source": [
    "Therefore an empirical estimate of the standard error of $\\beta$ is\n",
    "\n",
    "$$ SE(\\beta) = \\sqrt{ \\frac{\\hat{V}(\\varepsilon)}{ (N-1) \\hat{V}(X)} } $$"
   ]
  },
  {
   "cell_type": "markdown",
   "metadata": {
    "slideshow": {
     "slide_type": "fragment"
    }
   },
   "source": [
    "The intuition is the following:\n",
    "\n",
    "- The standard error of $\\beta$ is the ratio between the sample volatility of $\\varepsilon$ and the sample volatility of $X$\n",
    "- When this ratio is large, it means that *points are stacked together in a small space*\n",
    "- Thus, if the $SE(\\beta)$ is too large, it means that our estimate of $\\beta$ is *unstable*"
   ]
  },
  {
   "cell_type": "markdown",
   "metadata": {
    "slideshow": {
     "slide_type": "slide"
    }
   },
   "source": [
    "The *t-statistics* is defined as the ratio\n",
    "\n",
    "$$ \\frac{\\beta}{SE(\\beta)} $$ \n",
    "\n",
    "If the t-stat is far enough from zero, then we say that the estimated $\\beta$ is significantly different from zero.\n",
    "\n",
    "The threshold for significance depends on the number of explanatory variables in our linear model."
   ]
  },
  {
   "cell_type": "markdown",
   "metadata": {
    "slideshow": {
     "slide_type": "slide"
    }
   },
   "source": [
    "A more practical way to check if an estimated coefficient is significantly different from zero is to look at the p-value.\n",
    "\n",
    "It is computed from the t-stat and it (roughly) gives the probability that the estimated coefficient is non-zero even if the real coefficient is zero (false positive)."
   ]
  },
  {
   "cell_type": "markdown",
   "metadata": {
    "slideshow": {
     "slide_type": "fragment"
    }
   },
   "source": [
    "The thresholds are fixed by convention as:\n",
    "- p-value $\\geq 5  \\% \\quad \\implies \\quad $ not significantly different from zero\n",
    "- p-value $ <   5  \\% \\quad \\implies \\quad $ weakly significant\n",
    "- p-value $ <   1  \\% \\quad \\implies \\quad $ significant\n",
    "- p-value $ <   0.1\\% \\,\\,  \\implies \\quad $ highly significant"
   ]
  },
  {
   "cell_type": "markdown",
   "metadata": {
    "slideshow": {
     "slide_type": "skip"
    }
   },
   "source": [
    "<br/><br/><br/><br/>"
   ]
  },
  {
   "cell_type": "markdown",
   "metadata": {
    "slideshow": {
     "slide_type": "slide"
    }
   },
   "source": [
    "## Coefficients"
   ]
  },
  {
   "cell_type": "code",
   "execution_count": 53,
   "metadata": {
    "collapsed": true,
    "slideshow": {
     "slide_type": "fragment"
    }
   },
   "outputs": [],
   "source": [
    "df  = gen_regression_problem(20, 4, 0.75, 0.2, -1 )\n",
    "\n",
    "X1  = sm.add_constant(df[['X']]) \n",
    "reg = sm.OLS( df['Y'], X1 ).fit()\n",
    "\n",
    "alpha = reg.params['const']  # Estimated alpha\n",
    "beta  = reg.params['X']      # Estimated beta"
   ]
  },
  {
   "cell_type": "code",
   "execution_count": 68,
   "metadata": {
    "collapsed": false,
    "slideshow": {
     "slide_type": "fragment"
    }
   },
   "outputs": [
    {
     "name": "stdout",
     "output_type": "stream",
     "text": [
      "alpha = 0.8, beta = 0.5\n",
      "Sum of Squared Residuals : 20.97\n"
     ]
    },
    {
     "data": {
      "text/html": [
       "<table class=\"simpletable\">\n",
       "<tr>\n",
       "    <td></td>       <th>coef</th>     <th>std err</th>      <th>t</th>      <th>P>|t|</th> <th>[95.0% Conf. Int.]</th> \n",
       "</tr>\n",
       "<tr>\n",
       "  <th>const</th> <td>    0.8248</td> <td>    0.242</td> <td>    3.406</td> <td> 0.003</td> <td>    0.316     1.334</td>\n",
       "</tr>\n",
       "<tr>\n",
       "  <th>X</th>     <td>    0.4906</td> <td>    0.126</td> <td>    3.881</td> <td> 0.001</td> <td>    0.225     0.756</td>\n",
       "</tr>\n",
       "</table>"
      ],
      "text/plain": [
       "<class 'statsmodels.iolib.table.SimpleTable'>"
      ]
     },
     "execution_count": 68,
     "metadata": {},
     "output_type": "execute_result"
    },
    {
     "data": {
      "image/png": "[encoded data removed]",
      "text/plain": [
       "<matplotlib.figure.Figure at 0x119bfcf60>"
      ]
     },
     "metadata": {},
     "output_type": "display_data"
    }
   ],
   "source": [
    "plot_reg(df, alpha, beta)\n",
    "reg.summary().tables[1]"
   ]
  },
  {
   "cell_type": "code",
   "execution_count": 73,
   "metadata": {
    "collapsed": false,
    "slideshow": {
     "slide_type": "slide"
    }
   },
   "outputs": [
    {
     "name": "stdout",
     "output_type": "stream",
     "text": [
      "alpha = -1.0, beta = 0.2\n",
      "Sum of Squared Residuals : 16.77\n"
     ]
    },
    {
     "data": {
      "text/html": [
       "<table class=\"simpletable\">\n",
       "<tr>\n",
       "    <td></td>       <th>coef</th>     <th>std err</th>      <th>t</th>      <th>P>|t|</th> <th>[95.0% Conf. Int.]</th> \n",
       "</tr>\n",
       "<tr>\n",
       "  <th>const</th> <td>   -1.0424</td> <td>    0.221</td> <td>   -4.717</td> <td> 0.000</td> <td>   -1.507    -0.578</td>\n",
       "</tr>\n",
       "<tr>\n",
       "  <th>X</th>     <td>    0.1595</td> <td>    0.107</td> <td>    1.492</td> <td> 0.153</td> <td>   -0.065     0.384</td>\n",
       "</tr>\n",
       "</table>"
      ],
      "text/plain": [
       "<class 'statsmodels.iolib.table.SimpleTable'>"
      ]
     },
     "execution_count": 73,
     "metadata": {},
     "output_type": "execute_result"
    },
    {
     "data": {
      "image/png": "[encoded data removed]",
      "text/plain": [
       "<matplotlib.figure.Figure at 0x11b23de10>"
      ]
     },
     "metadata": {},
     "output_type": "display_data"
    }
   ],
   "source": [
    "# Small Beta\n",
    "df  = gen_regression_problem(20, 4, 1, -1, 0.2 )\n",
    "reg = sm.OLS( df['Y'], sm.add_constant(df[['X']])  ).fit()\n",
    "plot_reg(df, reg.params['const'] , reg.params['X'])\n",
    "reg.summary().tables[1]"
   ]
  },
  {
   "cell_type": "markdown",
   "metadata": {
    "slideshow": {
     "slide_type": "slide"
    }
   },
   "source": [
    "### Low $R^2$"
   ]
  },
  {
   "cell_type": "code",
   "execution_count": 15,
   "metadata": {
    "collapsed": false,
    "slideshow": {
     "slide_type": "fragment"
    }
   },
   "outputs": [
    {
     "name": "stdout",
     "output_type": "stream",
     "text": [
      "alpha = -0.2, beta = 0.4\n",
      "Sum of Squared Residuals : 859.18\n"
     ]
    },
    {
     "data": {
      "image/png": "[encoded data removed]",
      "text/plain": [
       "<matplotlib.figure.Figure at 0x119e33470>"
      ]
     },
     "metadata": {},
     "output_type": "display_data"
    }
   ],
   "source": [
    "N  =  100\n",
    "al =  0.2\n",
    "be =  0.5\n",
    "Vx =  4\n",
    "Ve =  3\n",
    "\n",
    "df  = gen_regression_problem(N, Vx, Ve, al, be )\n",
    "\n",
    "X1  = sm.add_constant(df[['X']]) \n",
    "reg = sm.OLS( df['Y'], X1 ).fit()\n",
    "\n",
    "alpha = reg.params['const']  # Estimated alpha\n",
    "beta  = reg.params['X']      # Estimated beta\n",
    "plot_reg(df, alpha, beta)"
   ]
  },
  {
   "cell_type": "code",
   "execution_count": 16,
   "metadata": {
    "collapsed": false,
    "slideshow": {
     "slide_type": "slide"
    }
   },
   "outputs": [
    {
     "data": {
      "text/html": [
       "<table class=\"simpletable\">\n",
       "<caption>OLS Regression Results</caption>\n",
       "<tr>\n",
       "  <th>Dep. Variable:</th>            <td>Y</td>        <th>  R-squared:         </th> <td>   0.093</td>\n",
       "</tr>\n",
       "<tr>\n",
       "  <th>Model:</th>                   <td>OLS</td>       <th>  Adj. R-squared:    </th> <td>   0.084</td>\n",
       "</tr>\n",
       "<tr>\n",
       "  <th>Method:</th>             <td>Least Squares</td>  <th>  F-statistic:       </th> <td>   10.06</td>\n",
       "</tr>\n",
       "<tr>\n",
       "  <th>Date:</th>             <td>Tue, 08 Nov 2016</td> <th>  Prob (F-statistic):</th>  <td>0.00203</td>\n",
       "</tr>\n",
       "<tr>\n",
       "  <th>Time:</th>                 <td>22:31:12</td>     <th>  Log-Likelihood:    </th> <td> -249.43</td>\n",
       "</tr>\n",
       "<tr>\n",
       "  <th>No. Observations:</th>      <td>   100</td>      <th>  AIC:               </th> <td>   502.9</td>\n",
       "</tr>\n",
       "<tr>\n",
       "  <th>Df Residuals:</th>          <td>    98</td>      <th>  BIC:               </th> <td>   508.1</td>\n",
       "</tr>\n",
       "<tr>\n",
       "  <th>Df Model:</th>              <td>     1</td>      <th>                     </th>     <td> </td>   \n",
       "</tr>\n",
       "<tr>\n",
       "  <th>Covariance Type:</th>      <td>nonrobust</td>    <th>                     </th>     <td> </td>   \n",
       "</tr>\n",
       "</table>\n",
       "<table class=\"simpletable\">\n",
       "<tr>\n",
       "    <td></td>       <th>coef</th>     <th>std err</th>      <th>t</th>      <th>P>|t|</th> <th>[95.0% Conf. Int.]</th> \n",
       "</tr>\n",
       "<tr>\n",
       "  <th>const</th> <td>   -0.1868</td> <td>    0.298</td> <td>   -0.627</td> <td> 0.532</td> <td>   -0.778     0.404</td>\n",
       "</tr>\n",
       "<tr>\n",
       "  <th>X</th>     <td>    0.3762</td> <td>    0.119</td> <td>    3.171</td> <td> 0.002</td> <td>    0.141     0.612</td>\n",
       "</tr>\n",
       "</table>\n",
       "<table class=\"simpletable\">\n",
       "<tr>\n",
       "  <th>Omnibus:</th>       <td> 3.378</td> <th>  Durbin-Watson:     </th> <td>   1.843</td>\n",
       "</tr>\n",
       "<tr>\n",
       "  <th>Prob(Omnibus):</th> <td> 0.185</td> <th>  Jarque-Bera (JB):  </th> <td>   3.055</td>\n",
       "</tr>\n",
       "<tr>\n",
       "  <th>Skew:</th>          <td>-0.345</td> <th>  Prob(JB):          </th> <td>   0.217</td>\n",
       "</tr>\n",
       "<tr>\n",
       "  <th>Kurtosis:</th>      <td> 2.493</td> <th>  Cond. No.          </th> <td>    2.53</td>\n",
       "</tr>\n",
       "</table>"
      ],
      "text/plain": [
       "<class 'statsmodels.iolib.summary.Summary'>\n",
       "\"\"\"\n",
       "                            OLS Regression Results                            \n",
       "==============================================================================\n",
       "Dep. Variable:                      Y   R-squared:                       0.093\n",
       "Model:                            OLS   Adj. R-squared:                  0.084\n",
       "Method:                 Least Squares   F-statistic:                     10.06\n",
       "Date:                Tue, 08 Nov 2016   Prob (F-statistic):            0.00203\n",
       "Time:                        22:31:12   Log-Likelihood:                -249.43\n",
       "No. Observations:                 100   AIC:                             502.9\n",
       "Df Residuals:                      98   BIC:                             508.1\n",
       "Df Model:                           1                                         \n",
       "Covariance Type:            nonrobust                                         \n",
       "==============================================================================\n",
       "                 coef    std err          t      P>|t|      [95.0% Conf. Int.]\n",
       "------------------------------------------------------------------------------\n",
       "const         -0.1868      0.298     -0.627      0.532        -0.778     0.404\n",
       "X              0.3762      0.119      3.171      0.002         0.141     0.612\n",
       "==============================================================================\n",
       "Omnibus:                        3.378   Durbin-Watson:                   1.843\n",
       "Prob(Omnibus):                  0.185   Jarque-Bera (JB):                3.055\n",
       "Skew:                          -0.345   Prob(JB):                        0.217\n",
       "Kurtosis:                       2.493   Cond. No.                         2.53\n",
       "==============================================================================\n",
       "\n",
       "Warnings:\n",
       "[1] Standard Errors assume that the covariance matrix of the errors is correctly specified.\n",
       "\"\"\""
      ]
     },
     "execution_count": 16,
     "metadata": {},
     "output_type": "execute_result"
    }
   ],
   "source": [
    "reg.summary()"
   ]
  },
  {
   "cell_type": "markdown",
   "metadata": {
    "slideshow": {
     "slide_type": "slide"
    }
   },
   "source": [
    "### High $R^2$"
   ]
  },
  {
   "cell_type": "code",
   "execution_count": 17,
   "metadata": {
    "collapsed": false,
    "slideshow": {
     "slide_type": "fragment"
    }
   },
   "outputs": [
    {
     "name": "stdout",
     "output_type": "stream",
     "text": [
      "alpha = 0.1, beta = 0.5\n",
      "Sum of Squared Residuals : 22.69\n"
     ]
    },
    {
     "data": {
      "image/png": "[encoded data removed]",
      "text/plain": [
       "<matplotlib.figure.Figure at 0x119d14438>"
      ]
     },
     "metadata": {},
     "output_type": "display_data"
    }
   ],
   "source": [
    "N  =  100\n",
    "al =  0.2\n",
    "be =  0.5\n",
    "Vx =  4\n",
    "Ve =  0.5\n",
    "\n",
    "df  = gen_regression_problem(N, Vx, Ve, al, be )\n",
    "\n",
    "X1  = sm.add_constant(df[['X']]) \n",
    "reg = sm.OLS( df['Y'], X1 ).fit()\n",
    "\n",
    "alpha = reg.params['const']  # Estimated alpha\n",
    "beta  = reg.params['X']      # Estimated beta\n",
    "plot_reg(df, alpha, beta)"
   ]
  },
  {
   "cell_type": "code",
   "execution_count": 18,
   "metadata": {
    "collapsed": false,
    "scrolled": false,
    "slideshow": {
     "slide_type": "slide"
    }
   },
   "outputs": [
    {
     "data": {
      "text/html": [
       "<table class=\"simpletable\">\n",
       "<caption>OLS Regression Results</caption>\n",
       "<tr>\n",
       "  <th>Dep. Variable:</th>            <td>Y</td>        <th>  R-squared:         </th> <td>   0.845</td>\n",
       "</tr>\n",
       "<tr>\n",
       "  <th>Model:</th>                   <td>OLS</td>       <th>  Adj. R-squared:    </th> <td>   0.844</td>\n",
       "</tr>\n",
       "<tr>\n",
       "  <th>Method:</th>             <td>Least Squares</td>  <th>  F-statistic:       </th> <td>   535.4</td>\n",
       "</tr>\n",
       "<tr>\n",
       "  <th>Date:</th>             <td>Tue, 08 Nov 2016</td> <th>  Prob (F-statistic):</th> <td>1.70e-41</td>\n",
       "</tr>\n",
       "<tr>\n",
       "  <th>Time:</th>                 <td>22:31:14</td>     <th>  Log-Likelihood:    </th> <td> -67.731</td>\n",
       "</tr>\n",
       "<tr>\n",
       "  <th>No. Observations:</th>      <td>   100</td>      <th>  AIC:               </th> <td>   139.5</td>\n",
       "</tr>\n",
       "<tr>\n",
       "  <th>Df Residuals:</th>          <td>    98</td>      <th>  BIC:               </th> <td>   144.7</td>\n",
       "</tr>\n",
       "<tr>\n",
       "  <th>Df Model:</th>              <td>     1</td>      <th>                     </th>     <td> </td>   \n",
       "</tr>\n",
       "<tr>\n",
       "  <th>Covariance Type:</th>      <td>nonrobust</td>    <th>                     </th>     <td> </td>   \n",
       "</tr>\n",
       "</table>\n",
       "<table class=\"simpletable\">\n",
       "<tr>\n",
       "    <td></td>       <th>coef</th>     <th>std err</th>      <th>t</th>      <th>P>|t|</th> <th>[95.0% Conf. Int.]</th> \n",
       "</tr>\n",
       "<tr>\n",
       "  <th>const</th> <td>    0.1147</td> <td>    0.048</td> <td>    2.385</td> <td> 0.019</td> <td>    0.019     0.210</td>\n",
       "</tr>\n",
       "<tr>\n",
       "  <th>X</th>     <td>    0.5030</td> <td>    0.022</td> <td>   23.138</td> <td> 0.000</td> <td>    0.460     0.546</td>\n",
       "</tr>\n",
       "</table>\n",
       "<table class=\"simpletable\">\n",
       "<tr>\n",
       "  <th>Omnibus:</th>       <td> 0.071</td> <th>  Durbin-Watson:     </th> <td>   1.795</td>\n",
       "</tr>\n",
       "<tr>\n",
       "  <th>Prob(Omnibus):</th> <td> 0.965</td> <th>  Jarque-Bera (JB):  </th> <td>   0.141</td>\n",
       "</tr>\n",
       "<tr>\n",
       "  <th>Skew:</th>          <td> 0.061</td> <th>  Prob(JB):          </th> <td>   0.932</td>\n",
       "</tr>\n",
       "<tr>\n",
       "  <th>Kurtosis:</th>      <td> 2.862</td> <th>  Cond. No.          </th> <td>    2.21</td>\n",
       "</tr>\n",
       "</table>"
      ],
      "text/plain": [
       "<class 'statsmodels.iolib.summary.Summary'>\n",
       "\"\"\"\n",
       "                            OLS Regression Results                            \n",
       "==============================================================================\n",
       "Dep. Variable:                      Y   R-squared:                       0.845\n",
       "Model:                            OLS   Adj. R-squared:                  0.844\n",
       "Method:                 Least Squares   F-statistic:                     535.4\n",
       "Date:                Tue, 08 Nov 2016   Prob (F-statistic):           1.70e-41\n",
       "Time:                        22:31:14   Log-Likelihood:                -67.731\n",
       "No. Observations:                 100   AIC:                             139.5\n",
       "Df Residuals:                      98   BIC:                             144.7\n",
       "Df Model:                           1                                         \n",
       "Covariance Type:            nonrobust                                         \n",
       "==============================================================================\n",
       "                 coef    std err          t      P>|t|      [95.0% Conf. Int.]\n",
       "------------------------------------------------------------------------------\n",
       "const          0.1147      0.048      2.385      0.019         0.019     0.210\n",
       "X              0.5030      0.022     23.138      0.000         0.460     0.546\n",
       "==============================================================================\n",
       "Omnibus:                        0.071   Durbin-Watson:                   1.795\n",
       "Prob(Omnibus):                  0.965   Jarque-Bera (JB):                0.141\n",
       "Skew:                           0.061   Prob(JB):                        0.932\n",
       "Kurtosis:                       2.862   Cond. No.                         2.21\n",
       "==============================================================================\n",
       "\n",
       "Warnings:\n",
       "[1] Standard Errors assume that the covariance matrix of the errors is correctly specified.\n",
       "\"\"\""
      ]
     },
     "execution_count": 18,
     "metadata": {},
     "output_type": "execute_result"
    }
   ],
   "source": [
    "reg.summary()"
   ]
  },
  {
   "cell_type": "markdown",
   "metadata": {
    "slideshow": {
     "slide_type": "slide"
    }
   },
   "source": [
    "### Highly Significant $\\beta$"
   ]
  },
  {
   "cell_type": "code",
   "execution_count": 19,
   "metadata": {
    "collapsed": false,
    "slideshow": {
     "slide_type": "fragment"
    }
   },
   "outputs": [
    {
     "name": "stdout",
     "output_type": "stream",
     "text": [
      "alpha = 0.3, beta = 0.5\n",
      "Sum of Squared Residuals : 142.26\n"
     ]
    },
    {
     "data": {
      "image/png": "[encoded data removed]",
      "text/plain": [
       "<matplotlib.figure.Figure at 0x1199b6438>"
      ]
     },
     "metadata": {},
     "output_type": "display_data"
    }
   ],
   "source": [
    "N  =  150\n",
    "al =  0.2\n",
    "be =  0.5\n",
    "Vx =  4\n",
    "Ve =  1\n",
    "\n",
    "df  = gen_regression_problem(N, Vx, Ve, al, be )\n",
    "\n",
    "X1  = sm.add_constant(df[['X']]) \n",
    "reg = sm.OLS( df['Y'], X1 ).fit()\n",
    "\n",
    "alpha = reg.params['const']  # Estimated alpha\n",
    "beta  = reg.params['X']      # Estimated beta\n",
    "plot_reg(df, alpha, beta)"
   ]
  },
  {
   "cell_type": "code",
   "execution_count": 20,
   "metadata": {
    "collapsed": false,
    "scrolled": false,
    "slideshow": {
     "slide_type": "slide"
    }
   },
   "outputs": [
    {
     "data": {
      "text/html": [
       "<table class=\"simpletable\">\n",
       "<caption>OLS Regression Results</caption>\n",
       "<tr>\n",
       "  <th>Dep. Variable:</th>            <td>Y</td>        <th>  R-squared:         </th> <td>   0.528</td>\n",
       "</tr>\n",
       "<tr>\n",
       "  <th>Model:</th>                   <td>OLS</td>       <th>  Adj. R-squared:    </th> <td>   0.525</td>\n",
       "</tr>\n",
       "<tr>\n",
       "  <th>Method:</th>             <td>Least Squares</td>  <th>  F-statistic:       </th> <td>   165.8</td>\n",
       "</tr>\n",
       "<tr>\n",
       "  <th>Date:</th>             <td>Tue, 08 Nov 2016</td> <th>  Prob (F-statistic):</th> <td>6.34e-26</td>\n",
       "</tr>\n",
       "<tr>\n",
       "  <th>Time:</th>                 <td>22:31:16</td>     <th>  Log-Likelihood:    </th> <td> -208.87</td>\n",
       "</tr>\n",
       "<tr>\n",
       "  <th>No. Observations:</th>      <td>   150</td>      <th>  AIC:               </th> <td>   421.7</td>\n",
       "</tr>\n",
       "<tr>\n",
       "  <th>Df Residuals:</th>          <td>   148</td>      <th>  BIC:               </th> <td>   427.8</td>\n",
       "</tr>\n",
       "<tr>\n",
       "  <th>Df Model:</th>              <td>     1</td>      <th>                     </th>     <td> </td>   \n",
       "</tr>\n",
       "<tr>\n",
       "  <th>Covariance Type:</th>      <td>nonrobust</td>    <th>                     </th>     <td> </td>   \n",
       "</tr>\n",
       "</table>\n",
       "<table class=\"simpletable\">\n",
       "<tr>\n",
       "    <td></td>       <th>coef</th>     <th>std err</th>      <th>t</th>      <th>P>|t|</th> <th>[95.0% Conf. Int.]</th> \n",
       "</tr>\n",
       "<tr>\n",
       "  <th>const</th> <td>    0.2682</td> <td>    0.082</td> <td>    3.259</td> <td> 0.001</td> <td>    0.106     0.431</td>\n",
       "</tr>\n",
       "<tr>\n",
       "  <th>X</th>     <td>    0.4841</td> <td>    0.038</td> <td>   12.875</td> <td> 0.000</td> <td>    0.410     0.558</td>\n",
       "</tr>\n",
       "</table>\n",
       "<table class=\"simpletable\">\n",
       "<tr>\n",
       "  <th>Omnibus:</th>       <td> 4.540</td> <th>  Durbin-Watson:     </th> <td>   1.972</td>\n",
       "</tr>\n",
       "<tr>\n",
       "  <th>Prob(Omnibus):</th> <td> 0.103</td> <th>  Jarque-Bera (JB):  </th> <td>   4.145</td>\n",
       "</tr>\n",
       "<tr>\n",
       "  <th>Skew:</th>          <td> 0.336</td> <th>  Prob(JB):          </th> <td>   0.126</td>\n",
       "</tr>\n",
       "<tr>\n",
       "  <th>Kurtosis:</th>      <td> 2.540</td> <th>  Cond. No.          </th> <td>    2.28</td>\n",
       "</tr>\n",
       "</table>"
      ],
      "text/plain": [
       "<class 'statsmodels.iolib.summary.Summary'>\n",
       "\"\"\"\n",
       "                            OLS Regression Results                            \n",
       "==============================================================================\n",
       "Dep. Variable:                      Y   R-squared:                       0.528\n",
       "Model:                            OLS   Adj. R-squared:                  0.525\n",
       "Method:                 Least Squares   F-statistic:                     165.8\n",
       "Date:                Tue, 08 Nov 2016   Prob (F-statistic):           6.34e-26\n",
       "Time:                        22:31:16   Log-Likelihood:                -208.87\n",
       "No. Observations:                 150   AIC:                             421.7\n",
       "Df Residuals:                     148   BIC:                             427.8\n",
       "Df Model:                           1                                         \n",
       "Covariance Type:            nonrobust                                         \n",
       "==============================================================================\n",
       "                 coef    std err          t      P>|t|      [95.0% Conf. Int.]\n",
       "------------------------------------------------------------------------------\n",
       "const          0.2682      0.082      3.259      0.001         0.106     0.431\n",
       "X              0.4841      0.038     12.875      0.000         0.410     0.558\n",
       "==============================================================================\n",
       "Omnibus:                        4.540   Durbin-Watson:                   1.972\n",
       "Prob(Omnibus):                  0.103   Jarque-Bera (JB):                4.145\n",
       "Skew:                           0.336   Prob(JB):                        0.126\n",
       "Kurtosis:                       2.540   Cond. No.                         2.28\n",
       "==============================================================================\n",
       "\n",
       "Warnings:\n",
       "[1] Standard Errors assume that the covariance matrix of the errors is correctly specified.\n",
       "\"\"\""
      ]
     },
     "execution_count": 20,
     "metadata": {},
     "output_type": "execute_result"
    }
   ],
   "source": [
    "reg.summary()"
   ]
  },
  {
   "cell_type": "markdown",
   "metadata": {
    "slideshow": {
     "slide_type": "slide"
    }
   },
   "source": [
    "### Not Significant $\\beta$"
   ]
  },
  {
   "cell_type": "code",
   "execution_count": 21,
   "metadata": {
    "collapsed": false,
    "slideshow": {
     "slide_type": "fragment"
    }
   },
   "outputs": [
    {
     "name": "stdout",
     "output_type": "stream",
     "text": [
      "alpha = 0.4, beta = -0.5\n",
      "Sum of Squared Residuals : 217.63\n"
     ]
    },
    {
     "data": {
      "image/png": "[encoded data removed]",
      "text/plain": [
       "<matplotlib.figure.Figure at 0x11af1f2e8>"
      ]
     },
     "metadata": {},
     "output_type": "display_data"
    }
   ],
   "source": [
    "N  =  50\n",
    "al =  0.2\n",
    "be =  0.5\n",
    "Vx =  0.5\n",
    "Ve =  2\n",
    "\n",
    "df  = gen_regression_problem(N, Vx, Ve, al, be )\n",
    "\n",
    "X1  = sm.add_constant(df[['X']]) \n",
    "reg = sm.OLS( df['Y'], X1 ).fit()\n",
    "\n",
    "alpha = reg.params['const']  # Estimated alpha\n",
    "beta  = reg.params['X']      # Estimated beta\n",
    "plot_reg(df, alpha, beta)"
   ]
  },
  {
   "cell_type": "code",
   "execution_count": 22,
   "metadata": {
    "collapsed": false,
    "scrolled": false,
    "slideshow": {
     "slide_type": "slide"
    }
   },
   "outputs": [
    {
     "data": {
      "text/html": [
       "<table class=\"simpletable\">\n",
       "<caption>OLS Regression Results</caption>\n",
       "<tr>\n",
       "  <th>Dep. Variable:</th>            <td>Y</td>        <th>  R-squared:         </th> <td>   0.003</td>\n",
       "</tr>\n",
       "<tr>\n",
       "  <th>Model:</th>                   <td>OLS</td>       <th>  Adj. R-squared:    </th> <td>  -0.017</td>\n",
       "</tr>\n",
       "<tr>\n",
       "  <th>Method:</th>             <td>Least Squares</td>  <th>  F-statistic:       </th> <td>  0.1646</td>\n",
       "</tr>\n",
       "<tr>\n",
       "  <th>Date:</th>             <td>Tue, 08 Nov 2016</td> <th>  Prob (F-statistic):</th>  <td> 0.687</td> \n",
       "</tr>\n",
       "<tr>\n",
       "  <th>Time:</th>                 <td>22:31:17</td>     <th>  Log-Likelihood:    </th> <td> -107.72</td>\n",
       "</tr>\n",
       "<tr>\n",
       "  <th>No. Observations:</th>      <td>    50</td>      <th>  AIC:               </th> <td>   219.4</td>\n",
       "</tr>\n",
       "<tr>\n",
       "  <th>Df Residuals:</th>          <td>    48</td>      <th>  BIC:               </th> <td>   223.3</td>\n",
       "</tr>\n",
       "<tr>\n",
       "  <th>Df Model:</th>              <td>     1</td>      <th>                     </th>     <td> </td>   \n",
       "</tr>\n",
       "<tr>\n",
       "  <th>Covariance Type:</th>      <td>nonrobust</td>    <th>                     </th>     <td> </td>   \n",
       "</tr>\n",
       "</table>\n",
       "<table class=\"simpletable\">\n",
       "<tr>\n",
       "    <td></td>       <th>coef</th>     <th>std err</th>      <th>t</th>      <th>P>|t|</th> <th>[95.0% Conf. Int.]</th> \n",
       "</tr>\n",
       "<tr>\n",
       "  <th>const</th> <td>    0.3620</td> <td>    0.301</td> <td>    1.201</td> <td> 0.236</td> <td>   -0.244     0.968</td>\n",
       "</tr>\n",
       "<tr>\n",
       "  <th>X</th>     <td>   -0.4556</td> <td>    1.123</td> <td>   -0.406</td> <td> 0.687</td> <td>   -2.714     1.802</td>\n",
       "</tr>\n",
       "</table>\n",
       "<table class=\"simpletable\">\n",
       "<tr>\n",
       "  <th>Omnibus:</th>       <td> 0.662</td> <th>  Durbin-Watson:     </th> <td>   1.793</td>\n",
       "</tr>\n",
       "<tr>\n",
       "  <th>Prob(Omnibus):</th> <td> 0.718</td> <th>  Jarque-Bera (JB):  </th> <td>   0.548</td>\n",
       "</tr>\n",
       "<tr>\n",
       "  <th>Skew:</th>          <td>-0.248</td> <th>  Prob(JB):          </th> <td>   0.760</td>\n",
       "</tr>\n",
       "<tr>\n",
       "  <th>Kurtosis:</th>      <td> 2.869</td> <th>  Cond. No.          </th> <td>    3.73</td>\n",
       "</tr>\n",
       "</table>"
      ],
      "text/plain": [
       "<class 'statsmodels.iolib.summary.Summary'>\n",
       "\"\"\"\n",
       "                            OLS Regression Results                            \n",
       "==============================================================================\n",
       "Dep. Variable:                      Y   R-squared:                       0.003\n",
       "Model:                            OLS   Adj. R-squared:                 -0.017\n",
       "Method:                 Least Squares   F-statistic:                    0.1646\n",
       "Date:                Tue, 08 Nov 2016   Prob (F-statistic):              0.687\n",
       "Time:                        22:31:17   Log-Likelihood:                -107.72\n",
       "No. Observations:                  50   AIC:                             219.4\n",
       "Df Residuals:                      48   BIC:                             223.3\n",
       "Df Model:                           1                                         \n",
       "Covariance Type:            nonrobust                                         \n",
       "==============================================================================\n",
       "                 coef    std err          t      P>|t|      [95.0% Conf. Int.]\n",
       "------------------------------------------------------------------------------\n",
       "const          0.3620      0.301      1.201      0.236        -0.244     0.968\n",
       "X             -0.4556      1.123     -0.406      0.687        -2.714     1.802\n",
       "==============================================================================\n",
       "Omnibus:                        0.662   Durbin-Watson:                   1.793\n",
       "Prob(Omnibus):                  0.718   Jarque-Bera (JB):                0.548\n",
       "Skew:                          -0.248   Prob(JB):                        0.760\n",
       "Kurtosis:                       2.869   Cond. No.                         3.73\n",
       "==============================================================================\n",
       "\n",
       "Warnings:\n",
       "[1] Standard Errors assume that the covariance matrix of the errors is correctly specified.\n",
       "\"\"\""
      ]
     },
     "execution_count": 22,
     "metadata": {},
     "output_type": "execute_result"
    }
   ],
   "source": [
    "reg.summary()"
   ]
  },
  {
   "cell_type": "markdown",
   "metadata": {
    "slideshow": {
     "slide_type": "skip"
    }
   },
   "source": [
    "<br/><br/><br/><br/>"
   ]
  },
  {
   "cell_type": "markdown",
   "metadata": {
    "slideshow": {
     "slide_type": "slide"
    }
   },
   "source": [
    "# Capital Markets"
   ]
  },
  {
   "cell_type": "code",
   "execution_count": 23,
   "metadata": {
    "collapsed": false,
    "slideshow": {
     "slide_type": "skip"
    }
   },
   "outputs": [],
   "source": [
    "data = pd.read_csv('CRSP.csv',\n",
    "                   parse_dates=['date'], \n",
    "                   infer_datetime_format=True,\n",
    "                   na_values='C'\n",
    "                  )\n",
    "data.columns = list( map( lambda x : x.lower(), data.columns) )\n",
    "data.rename_axis({'comnam':'asset', 'sprtrn':'market'}, inplace=1, axis=1)\n",
    "data = data.set_index('date')\n",
    "\n",
    "class Stock:\n",
    "    def __init__( self, permno, color, data=data ):\n",
    "        self.permno = permno\n",
    "        self.color  = color\n",
    "        self.mask   = (data['permno']==permno)\n",
    "        self.name   = data[self.mask]['asset'].iloc[0]\n",
    "        \n",
    "CocaCola     = Stock( 11308, sns.xkcd_rgb['red']  )\n",
    "Apple        = Stock( 14593, sns.xkcd_rgb['denim blue'] )\n",
    "PhilipMorris = Stock( 92602, sns.xkcd_rgb['dark grey'] )\n",
    "Tesla        = Stock( 93436, sns.xkcd_rgb['teal'] )\n",
    "Google       = Stock( 90319, sns.xkcd_rgb['teal'] )\n",
    "Microsoft    = Stock( 10107, sns.xkcd_rgb['teal'] )\n",
    "Amazon       = Stock( 84788, sns.xkcd_rgb['teal'] )\n",
    "Sony         = Stock( 51131, sns.xkcd_rgb['teal'] )\n",
    "\n",
    "def CAPM_reg(stock, period=None):\n",
    "    df = data[stock.mask].dropna()\n",
    "    if period is not None: \n",
    "        df = df[df.index.isin(period)]\n",
    "    y  = df['ret'] \n",
    "    x  = sm.add_constant(df['market'] )\n",
    "    return sm.OLS(y,x).fit()"
   ]
  },
  {
   "cell_type": "code",
   "execution_count": 24,
   "metadata": {
    "collapsed": false,
    "scrolled": true,
    "slideshow": {
     "slide_type": "slide"
    }
   },
   "outputs": [
    {
     "data": {
      "text/html": [
       "<div>\n",
       "<table border=\"1\" class=\"dataframe\">\n",
       "  <thead>\n",
       "    <tr style=\"text-align: right;\">\n",
       "      <th></th>\n",
       "      <th></th>\n",
       "      <th>prc</th>\n",
       "      <th>vol</th>\n",
       "      <th>ret</th>\n",
       "      <th>shrout</th>\n",
       "      <th>market</th>\n",
       "    </tr>\n",
       "    <tr>\n",
       "      <th>asset</th>\n",
       "      <th>permno</th>\n",
       "      <th></th>\n",
       "      <th></th>\n",
       "      <th></th>\n",
       "      <th></th>\n",
       "      <th></th>\n",
       "    </tr>\n",
       "  </thead>\n",
       "  <tbody>\n",
       "    <tr>\n",
       "      <th>ALPHABET INC</th>\n",
       "      <th>90319</th>\n",
       "      <td>671.67999</td>\n",
       "      <td>1898462</td>\n",
       "      <td>0.022360</td>\n",
       "      <td>291214</td>\n",
       "      <td>0.018290</td>\n",
       "    </tr>\n",
       "    <tr>\n",
       "      <th>AMAZON COM INC</th>\n",
       "      <th>84788</th>\n",
       "      <td>38.70000</td>\n",
       "      <td>12450246</td>\n",
       "      <td>-0.019260</td>\n",
       "      <td>414000</td>\n",
       "      <td>-0.001199</td>\n",
       "    </tr>\n",
       "    <tr>\n",
       "      <th>APPLE COMPUTER INC</th>\n",
       "      <th>14593</th>\n",
       "      <td>83.80000</td>\n",
       "      <td>44545733</td>\n",
       "      <td>-0.012258</td>\n",
       "      <td>860220</td>\n",
       "      <td>-0.001199</td>\n",
       "    </tr>\n",
       "    <tr>\n",
       "      <th>APPLE INC</th>\n",
       "      <th>14593</th>\n",
       "      <td>95.80000</td>\n",
       "      <td>51550184</td>\n",
       "      <td>-0.012371</td>\n",
       "      <td>860220</td>\n",
       "      <td>0.006340</td>\n",
       "    </tr>\n",
       "    <tr>\n",
       "      <th>COCA COLA CO</th>\n",
       "      <th>11308</th>\n",
       "      <td>48.58000</td>\n",
       "      <td>7877300</td>\n",
       "      <td>0.006839</td>\n",
       "      <td>2343796</td>\n",
       "      <td>-0.001199</td>\n",
       "    </tr>\n",
       "    <tr>\n",
       "      <th>GOOGLE INC</th>\n",
       "      <th>90319</th>\n",
       "      <td>467.59000</td>\n",
       "      <td>7725290</td>\n",
       "      <td>0.015440</td>\n",
       "      <td>227670</td>\n",
       "      <td>-0.001199</td>\n",
       "    </tr>\n",
       "    <tr>\n",
       "      <th>MICROSOFT CORP</th>\n",
       "      <th>10107</th>\n",
       "      <td>29.86000</td>\n",
       "      <td>77630458</td>\n",
       "      <td>0.000000</td>\n",
       "      <td>9777000</td>\n",
       "      <td>-0.001199</td>\n",
       "    </tr>\n",
       "    <tr>\n",
       "      <th>PHILIP MORRIS INTERNATIONAL INC</th>\n",
       "      <th>92602</th>\n",
       "      <td>50.58000</td>\n",
       "      <td>19414200</td>\n",
       "      <td>0.000000</td>\n",
       "      <td>2108301</td>\n",
       "      <td>0.005687</td>\n",
       "    </tr>\n",
       "    <tr>\n",
       "      <th>SONY CORP</th>\n",
       "      <th>51131</th>\n",
       "      <td>42.91000</td>\n",
       "      <td>1200600</td>\n",
       "      <td>0.001868</td>\n",
       "      <td>143380</td>\n",
       "      <td>-0.001199</td>\n",
       "    </tr>\n",
       "    <tr>\n",
       "      <th>TESLA MOTORS INC</th>\n",
       "      <th>93436</th>\n",
       "      <td>23.89000</td>\n",
       "      <td>19088009</td>\n",
       "      <td>-0.002511</td>\n",
       "      <td>93109</td>\n",
       "      <td>-0.031017</td>\n",
       "    </tr>\n",
       "  </tbody>\n",
       "</table>\n",
       "</div>"
      ],
      "text/plain": [
       "                                              prc       vol       ret  \\\n",
       "asset                           permno                                  \n",
       "ALPHABET INC                    90319   671.67999   1898462  0.022360   \n",
       "AMAZON COM INC                  84788    38.70000  12450246 -0.019260   \n",
       "APPLE COMPUTER INC              14593    83.80000  44545733 -0.012258   \n",
       "APPLE INC                       14593    95.80000  51550184 -0.012371   \n",
       "COCA COLA CO                    11308    48.58000   7877300  0.006839   \n",
       "GOOGLE INC                      90319   467.59000   7725290  0.015440   \n",
       "MICROSOFT CORP                  10107    29.86000  77630458  0.000000   \n",
       "PHILIP MORRIS INTERNATIONAL INC 92602    50.58000  19414200  0.000000   \n",
       "SONY CORP                       51131    42.91000   1200600  0.001868   \n",
       "TESLA MOTORS INC                93436    23.89000  19088009 -0.002511   \n",
       "\n",
       "                                         shrout    market  \n",
       "asset                           permno                     \n",
       "ALPHABET INC                    90319    291214  0.018290  \n",
       "AMAZON COM INC                  84788    414000 -0.001199  \n",
       "APPLE COMPUTER INC              14593    860220 -0.001199  \n",
       "APPLE INC                       14593    860220  0.006340  \n",
       "COCA COLA CO                    11308   2343796 -0.001199  \n",
       "GOOGLE INC                      90319    227670 -0.001199  \n",
       "MICROSOFT CORP                  10107   9777000 -0.001199  \n",
       "PHILIP MORRIS INTERNATIONAL INC 92602   2108301  0.005687  \n",
       "SONY CORP                       51131    143380 -0.001199  \n",
       "TESLA MOTORS INC                93436     93109 -0.031017  "
      ]
     },
     "execution_count": 24,
     "metadata": {},
     "output_type": "execute_result"
    }
   ],
   "source": [
    "data.groupby(['asset', 'permno']).first()"
   ]
  },
  {
   "cell_type": "code",
   "execution_count": 25,
   "metadata": {
    "collapsed": false,
    "scrolled": false,
    "slideshow": {
     "slide_type": "slide"
    }
   },
   "outputs": [
    {
     "data": {
      "text/html": [
       "<table class=\"simpletable\">\n",
       "<caption>OLS Regression Results</caption>\n",
       "<tr>\n",
       "  <th>Dep. Variable:</th>           <td>ret</td>       <th>  R-squared:         </th>  <td>   0.318</td> \n",
       "</tr>\n",
       "<tr>\n",
       "  <th>Model:</th>                   <td>OLS</td>       <th>  Adj. R-squared:    </th>  <td>   0.318</td> \n",
       "</tr>\n",
       "<tr>\n",
       "  <th>Method:</th>             <td>Least Squares</td>  <th>  F-statistic:       </th>  <td>   1055.</td> \n",
       "</tr>\n",
       "<tr>\n",
       "  <th>Date:</th>             <td>Tue, 08 Nov 2016</td> <th>  Prob (F-statistic):</th>  <td>2.66e-190</td>\n",
       "</tr>\n",
       "<tr>\n",
       "  <th>Time:</th>                 <td>22:31:19</td>     <th>  Log-Likelihood:    </th>  <td>  5420.5</td> \n",
       "</tr>\n",
       "<tr>\n",
       "  <th>No. Observations:</th>      <td>  2266</td>      <th>  AIC:               </th> <td>-1.084e+04</td>\n",
       "</tr>\n",
       "<tr>\n",
       "  <th>Df Residuals:</th>          <td>  2264</td>      <th>  BIC:               </th> <td>-1.083e+04</td>\n",
       "</tr>\n",
       "<tr>\n",
       "  <th>Df Model:</th>              <td>     1</td>      <th>                     </th>      <td> </td>    \n",
       "</tr>\n",
       "<tr>\n",
       "  <th>Covariance Type:</th>      <td>nonrobust</td>    <th>                     </th>      <td> </td>    \n",
       "</tr>\n",
       "</table>\n",
       "<table class=\"simpletable\">\n",
       "<tr>\n",
       "     <td></td>       <th>coef</th>     <th>std err</th>      <th>t</th>      <th>P>|t|</th> <th>[95.0% Conf. Int.]</th> \n",
       "</tr>\n",
       "<tr>\n",
       "  <th>const</th>  <td>    0.0013</td> <td>    0.000</td> <td>    2.844</td> <td> 0.004</td> <td>    0.000     0.002</td>\n",
       "</tr>\n",
       "<tr>\n",
       "  <th>market</th> <td>    1.1092</td> <td>    0.034</td> <td>   32.480</td> <td> 0.000</td> <td>    1.042     1.176</td>\n",
       "</tr>\n",
       "</table>\n",
       "<table class=\"simpletable\">\n",
       "<tr>\n",
       "  <th>Omnibus:</th>       <td>1672.764</td> <th>  Durbin-Watson:     </th>  <td>   1.959</td> \n",
       "</tr>\n",
       "<tr>\n",
       "  <th>Prob(Omnibus):</th>  <td> 0.000</td>  <th>  Jarque-Bera (JB):  </th> <td>107939.317</td>\n",
       "</tr>\n",
       "<tr>\n",
       "  <th>Skew:</th>           <td> 2.868</td>  <th>  Prob(JB):          </th>  <td>    0.00</td> \n",
       "</tr>\n",
       "<tr>\n",
       "  <th>Kurtosis:</th>       <td>36.322</td>  <th>  Cond. No.          </th>  <td>    73.4</td> \n",
       "</tr>\n",
       "</table>"
      ],
      "text/plain": [
       "<class 'statsmodels.iolib.summary.Summary'>\n",
       "\"\"\"\n",
       "                            OLS Regression Results                            \n",
       "==============================================================================\n",
       "Dep. Variable:                    ret   R-squared:                       0.318\n",
       "Model:                            OLS   Adj. R-squared:                  0.318\n",
       "Method:                 Least Squares   F-statistic:                     1055.\n",
       "Date:                Tue, 08 Nov 2016   Prob (F-statistic):          2.66e-190\n",
       "Time:                        22:31:19   Log-Likelihood:                 5420.5\n",
       "No. Observations:                2266   AIC:                        -1.084e+04\n",
       "Df Residuals:                    2264   BIC:                        -1.083e+04\n",
       "Df Model:                           1                                         \n",
       "Covariance Type:            nonrobust                                         \n",
       "==============================================================================\n",
       "                 coef    std err          t      P>|t|      [95.0% Conf. Int.]\n",
       "------------------------------------------------------------------------------\n",
       "const          0.0013      0.000      2.844      0.004         0.000     0.002\n",
       "market         1.1092      0.034     32.480      0.000         1.042     1.176\n",
       "==============================================================================\n",
       "Omnibus:                     1672.764   Durbin-Watson:                   1.959\n",
       "Prob(Omnibus):                  0.000   Jarque-Bera (JB):           107939.317\n",
       "Skew:                           2.868   Prob(JB):                         0.00\n",
       "Kurtosis:                      36.322   Cond. No.                         73.4\n",
       "==============================================================================\n",
       "\n",
       "Warnings:\n",
       "[1] Standard Errors assume that the covariance matrix of the errors is correctly specified.\n",
       "\"\"\""
      ]
     },
     "execution_count": 25,
     "metadata": {},
     "output_type": "execute_result"
    }
   ],
   "source": [
    "reg = CAPM_reg(Amazon)\n",
    "reg.summary()"
   ]
  },
  {
   "cell_type": "markdown",
   "metadata": {
    "slideshow": {
     "slide_type": "skip"
    }
   },
   "source": [
    "<br/><br/><br/><br/>"
   ]
  },
  {
   "cell_type": "markdown",
   "metadata": {
    "slideshow": {
     "slide_type": "slide"
    }
   },
   "source": [
    "# Neutralize the market risk"
   ]
  },
  {
   "cell_type": "markdown",
   "metadata": {
    "slideshow": {
     "slide_type": "fragment"
    }
   },
   "source": [
    "We saw that Amazon had a significant alpha over the sample.\n",
    "Suppose we run some fundamental studies and we were able to predict it.\n",
    "How can we bet on the alpha, neutralizing market risk?\n",
    "\n",
    "The estimated beta of Amazon is 1.1. Assume we also knew this beforehand.\n",
    "\n",
    "Hence, we can form a portfolio which is long Amazon and short the market in the right proportions."
   ]
  },
  {
   "cell_type": "code",
   "execution_count": 74,
   "metadata": {
    "collapsed": false,
    "scrolled": false,
    "slideshow": {
     "slide_type": "slide"
    }
   },
   "outputs": [
    {
     "data": {
      "text/html": [
       "<table class=\"simpletable\">\n",
       "<tr>\n",
       "     <td></td>       <th>coef</th>     <th>std err</th>      <th>t</th>      <th>P>|t|</th> <th>[95.0% Conf. Int.]</th> \n",
       "</tr>\n",
       "<tr>\n",
       "  <th>const</th>  <td>    0.0013</td> <td>    0.000</td> <td>    2.844</td> <td> 0.004</td> <td>    0.000     0.002</td>\n",
       "</tr>\n",
       "<tr>\n",
       "  <th>market</th> <td>   -0.0008</td> <td>    0.034</td> <td>   -0.022</td> <td> 0.982</td> <td>   -0.068     0.066</td>\n",
       "</tr>\n",
       "</table>"
      ],
      "text/plain": [
       "<class 'statsmodels.iolib.table.SimpleTable'>"
      ]
     },
     "execution_count": 74,
     "metadata": {},
     "output_type": "execute_result"
    }
   ],
   "source": [
    "w_A = 1\n",
    "w_M = -1.11\n",
    "pf_return    = w_A * data[Amazon.mask]['ret']\n",
    "pf_return   += w_M * data.groupby(level=0).first()['market']\n",
    "\n",
    "pf = pd.DataFrame( {'ret':pf_return} )\n",
    "pf['market'] = data.groupby(level=0).first()['market']\n",
    "\n",
    "y  = pf['ret'] \n",
    "x  = sm.add_constant(pf['market'] )\n",
    "sm.OLS(y,x).fit().summary().tables[1]"
   ]
  },
  {
   "cell_type": "markdown",
   "metadata": {
    "slideshow": {
     "slide_type": "fragment"
    }
   },
   "source": [
    "The alpha is positive and significant, while the market beta is not significantly different from zero.\n",
    "\n",
    "With this strategy we are able to pocket the alpha, without being exposed to the market risk."
   ]
  },
  {
   "cell_type": "markdown",
   "metadata": {
    "slideshow": {
     "slide_type": "slide"
    }
   },
   "source": [
    "### More fair : estimate the market beta ex-ante\n",
    "Suppose we want to implement the strategy starting from January 2009.\n",
    "\n",
    "We estimate the market beta in a backward-looking window, say during the previous quarter."
   ]
  },
  {
   "cell_type": "code",
   "execution_count": 27,
   "metadata": {
    "collapsed": false,
    "slideshow": {
     "slide_type": "fragment"
    }
   },
   "outputs": [
    {
     "data": {
      "text/html": [
       "<table class=\"simpletable\">\n",
       "<tr>\n",
       "     <td></td>       <th>coef</th>     <th>std err</th>      <th>t</th>      <th>P>|t|</th> <th>[95.0% Conf. Int.]</th> \n",
       "</tr>\n",
       "<tr>\n",
       "  <th>const</th>  <td>   -0.0005</td> <td>    0.004</td> <td>   -0.115</td> <td> 0.909</td> <td>   -0.009     0.008</td>\n",
       "</tr>\n",
       "<tr>\n",
       "  <th>market</th> <td>    1.0891</td> <td>    0.099</td> <td>   11.034</td> <td> 0.000</td> <td>    0.892     1.286</td>\n",
       "</tr>\n",
       "</table>"
      ],
      "text/plain": [
       "<class 'statsmodels.iolib.table.SimpleTable'>"
      ]
     },
     "execution_count": 27,
     "metadata": {},
     "output_type": "execute_result"
    }
   ],
   "source": [
    "estimation_window = pd.date_range( pd.datetime(2008,10,1), pd.datetime(2008,12,31) )\n",
    "investment_window = pd.date_range( pd.datetime(2009,1 ,1), pd.datetime(2015,12,31) )\n",
    "\n",
    "reg = CAPM_reg(Amazon, estimation_window)\n",
    "reg.summary().tables[1]"
   ]
  },
  {
   "cell_type": "markdown",
   "metadata": {
    "slideshow": {
     "slide_type": "fragment"
    }
   },
   "source": [
    "The estimated beta is 1.0891. Let's build our portfolio"
   ]
  },
  {
   "cell_type": "code",
   "execution_count": 28,
   "metadata": {
    "collapsed": false,
    "scrolled": true,
    "slideshow": {
     "slide_type": "slide"
    }
   },
   "outputs": [
    {
     "data": {
      "text/html": [
       "<table class=\"simpletable\">\n",
       "<tr>\n",
       "     <td></td>       <th>coef</th>     <th>std err</th>      <th>t</th>      <th>P>|t|</th> <th>[95.0% Conf. Int.]</th> \n",
       "</tr>\n",
       "<tr>\n",
       "  <th>const</th>  <td>    0.0012</td> <td>    0.000</td> <td>    2.512</td> <td> 0.012</td> <td>    0.000     0.002</td>\n",
       "</tr>\n",
       "<tr>\n",
       "  <th>market</th> <td>   -0.0667</td> <td>    0.041</td> <td>   -1.607</td> <td> 0.108</td> <td>   -0.148     0.015</td>\n",
       "</tr>\n",
       "</table>"
      ],
      "text/plain": [
       "<class 'statsmodels.iolib.table.SimpleTable'>"
      ]
     },
     "execution_count": 28,
     "metadata": {},
     "output_type": "execute_result"
    }
   ],
   "source": [
    "w_A = 1\n",
    "w_M = -1.0891\n",
    "\n",
    "pf_return    = w_A * data[Amazon.mask]['ret']\n",
    "pf_return   += w_M * data.groupby(level=0).first()['market']\n",
    "\n",
    "pf = pd.DataFrame( {'ret':pf_return} )\n",
    "pf['market'] = data.groupby(level=0).first()['market']\n",
    "\n",
    "pf = pf[pf.index.isin(investment_window)]\n",
    "\n",
    "y  = pf['ret'] \n",
    "x  = sm.add_constant(pf['market'] )\n",
    "sm.OLS(y,x).fit().summary().tables[1]"
   ]
  },
  {
   "cell_type": "markdown",
   "metadata": {
    "slideshow": {
     "slide_type": "fragment"
    }
   },
   "source": [
    "Good! We still get the alpha and the market exposure is not significant."
   ]
  },
  {
   "cell_type": "markdown",
   "metadata": {
    "slideshow": {
     "slide_type": "skip"
    }
   },
   "source": [
    "<br/><br/><br/><br/>"
   ]
  },
  {
   "cell_type": "markdown",
   "metadata": {
    "slideshow": {
     "slide_type": "slide"
    }
   },
   "source": [
    "# Multivariate Regression : Boston house prices"
   ]
  },
  {
   "cell_type": "code",
   "execution_count": 29,
   "metadata": {
    "collapsed": false,
    "scrolled": false,
    "slideshow": {
     "slide_type": "fragment"
    }
   },
   "outputs": [
    {
     "data": {
      "text/html": [
       "<table class=\"simpletable\">\n",
       "<caption>OLS Regression Results</caption>\n",
       "<tr>\n",
       "  <th>Dep. Variable:</th>          <td>price</td>      <th>  R-squared:         </th> <td>   0.570</td>\n",
       "</tr>\n",
       "<tr>\n",
       "  <th>Model:</th>                   <td>OLS</td>       <th>  Adj. R-squared:    </th> <td>   0.567</td>\n",
       "</tr>\n",
       "<tr>\n",
       "  <th>Method:</th>             <td>Least Squares</td>  <th>  F-statistic:       </th> <td>   166.0</td>\n",
       "</tr>\n",
       "<tr>\n",
       "  <th>Date:</th>             <td>Tue, 08 Nov 2016</td> <th>  Prob (F-statistic):</th> <td>2.22e-90</td>\n",
       "</tr>\n",
       "<tr>\n",
       "  <th>Time:</th>                 <td>22:31:30</td>     <th>  Log-Likelihood:    </th> <td> -1626.7</td>\n",
       "</tr>\n",
       "<tr>\n",
       "  <th>No. Observations:</th>      <td>   506</td>      <th>  AIC:               </th> <td>   3263.</td>\n",
       "</tr>\n",
       "<tr>\n",
       "  <th>Df Residuals:</th>          <td>   501</td>      <th>  BIC:               </th> <td>   3285.</td>\n",
       "</tr>\n",
       "<tr>\n",
       "  <th>Df Model:</th>              <td>     4</td>      <th>                     </th>     <td> </td>   \n",
       "</tr>\n",
       "<tr>\n",
       "  <th>Covariance Type:</th>      <td>nonrobust</td>    <th>                     </th>     <td> </td>   \n",
       "</tr>\n",
       "</table>\n",
       "<table class=\"simpletable\">\n",
       "<tr>\n",
       "    <td></td>       <th>coef</th>     <th>std err</th>      <th>t</th>      <th>P>|t|</th> <th>[95.0% Conf. Int.]</th> \n",
       "</tr>\n",
       "<tr>\n",
       "  <th>const</th> <td>  -21.0523</td> <td>    2.887</td> <td>   -7.292</td> <td> 0.000</td> <td>  -26.725   -15.380</td>\n",
       "</tr>\n",
       "<tr>\n",
       "  <th>RM</th>    <td>    7.6751</td> <td>    0.418</td> <td>   18.359</td> <td> 0.000</td> <td>    6.854     8.496</td>\n",
       "</tr>\n",
       "<tr>\n",
       "  <th>CRIM</th>  <td>   -0.1860</td> <td>    0.035</td> <td>   -5.365</td> <td> 0.000</td> <td>   -0.254    -0.118</td>\n",
       "</tr>\n",
       "<tr>\n",
       "  <th>AGE</th>   <td>   -0.0317</td> <td>    0.013</td> <td>   -2.506</td> <td> 0.013</td> <td>   -0.056    -0.007</td>\n",
       "</tr>\n",
       "<tr>\n",
       "  <th>INDUS</th> <td>   -0.1626</td> <td>    0.056</td> <td>   -2.929</td> <td> 0.004</td> <td>   -0.272    -0.054</td>\n",
       "</tr>\n",
       "</table>\n",
       "<table class=\"simpletable\">\n",
       "<tr>\n",
       "  <th>Omnibus:</th>       <td>241.916</td> <th>  Durbin-Watson:     </th> <td>   0.742</td>\n",
       "</tr>\n",
       "<tr>\n",
       "  <th>Prob(Omnibus):</th> <td> 0.000</td>  <th>  Jarque-Bera (JB):  </th> <td>1914.083</td>\n",
       "</tr>\n",
       "<tr>\n",
       "  <th>Skew:</th>          <td> 1.921</td>  <th>  Prob(JB):          </th> <td>    0.00</td>\n",
       "</tr>\n",
       "<tr>\n",
       "  <th>Kurtosis:</th>      <td>11.720</td>  <th>  Cond. No.          </th> <td>    817.</td>\n",
       "</tr>\n",
       "</table>"
      ],
      "text/plain": [
       "<class 'statsmodels.iolib.summary.Summary'>\n",
       "\"\"\"\n",
       "                            OLS Regression Results                            \n",
       "==============================================================================\n",
       "Dep. Variable:                  price   R-squared:                       0.570\n",
       "Model:                            OLS   Adj. R-squared:                  0.567\n",
       "Method:                 Least Squares   F-statistic:                     166.0\n",
       "Date:                Tue, 08 Nov 2016   Prob (F-statistic):           2.22e-90\n",
       "Time:                        22:31:30   Log-Likelihood:                -1626.7\n",
       "No. Observations:                 506   AIC:                             3263.\n",
       "Df Residuals:                     501   BIC:                             3285.\n",
       "Df Model:                           4                                         \n",
       "Covariance Type:            nonrobust                                         \n",
       "==============================================================================\n",
       "                 coef    std err          t      P>|t|      [95.0% Conf. Int.]\n",
       "------------------------------------------------------------------------------\n",
       "const        -21.0523      2.887     -7.292      0.000       -26.725   -15.380\n",
       "RM             7.6751      0.418     18.359      0.000         6.854     8.496\n",
       "CRIM          -0.1860      0.035     -5.365      0.000        -0.254    -0.118\n",
       "AGE           -0.0317      0.013     -2.506      0.013        -0.056    -0.007\n",
       "INDUS         -0.1626      0.056     -2.929      0.004        -0.272    -0.054\n",
       "==============================================================================\n",
       "Omnibus:                      241.916   Durbin-Watson:                   0.742\n",
       "Prob(Omnibus):                  0.000   Jarque-Bera (JB):             1914.083\n",
       "Skew:                           1.921   Prob(JB):                         0.00\n",
       "Kurtosis:                      11.720   Cond. No.                         817.\n",
       "==============================================================================\n",
       "\n",
       "Warnings:\n",
       "[1] Standard Errors assume that the covariance matrix of the errors is correctly specified.\n",
       "\"\"\""
      ]
     },
     "execution_count": 29,
     "metadata": {},
     "output_type": "execute_result"
    }
   ],
   "source": [
    "from sklearn import datasets\n",
    "boston = datasets.load_boston()\n",
    "\n",
    "df = pd.DataFrame(boston.data, columns=boston.feature_names)\n",
    "df['price'] = boston.target\n",
    "boston.DESCR\n",
    "\n",
    "y = df['price']\n",
    "x = sm.add_constant(df[['RM','CRIM', 'AGE', 'INDUS']])\n",
    "sm.OLS(y,x).fit().summary()"
   ]
  },
  {
   "cell_type": "markdown",
   "metadata": {
    "slideshow": {
     "slide_type": "skip"
    }
   },
   "source": [
    "<br/><br/><br/><br/>"
   ]
  }
 ],
 "metadata": {
  "celltoolbar": "Slideshow",
  "kernelspec": {
   "display_name": "Python 3",
   "language": "python",
   "name": "python3"
  },
  "language_info": {
   "codemirror_mode": {
    "name": "ipython",
    "version": 3
   },
   "file_extension": ".py",
   "mimetype": "text/x-python",
   "name": "python",
   "nbconvert_exporter": "python",
   "pygments_lexer": "ipython3",
   "version": "3.5.1"
  }
 },
 "nbformat": 4,
 "nbformat_minor": 0
}
