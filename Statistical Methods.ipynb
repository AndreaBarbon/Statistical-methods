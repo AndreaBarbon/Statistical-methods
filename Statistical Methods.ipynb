{
 "cells": [
  {
   "cell_type": "code",
   "execution_count": 1,
   "metadata": {
    "collapsed": false,
    "slideshow": {
     "slide_type": "skip"
    }
   },
   "outputs": [
    {
     "name": "stdout",
     "output_type": "stream",
     "text": [
      "Populating the interactive namespace from numpy and matplotlib\n"
     ]
    }
   ],
   "source": [
    "import pandas  as pd\n",
    "import numpy   as np\n",
    "import seaborn as sns\n",
    "import matplotlib.mlab as mlab\n",
    "\n",
    "sns.set_context(\"poster\")\n",
    "%pylab inline\n",
    "FS, FSS, FSSS = (16, 9), (16, 6), (16, 3)\n",
    "\n",
    "pd.options.display.float_format = '{:,.4f}'.format"
   ]
  },
  {
   "cell_type": "markdown",
   "metadata": {
    "slideshow": {
     "slide_type": "skip"
    }
   },
   "source": [
    "<br/><br/><br/>"
   ]
  },
  {
   "cell_type": "markdown",
   "metadata": {
    "slideshow": {
     "slide_type": "skip"
    }
   },
   "source": [
    "## Load the data"
   ]
  },
  {
   "cell_type": "code",
   "execution_count": 2,
   "metadata": {
    "collapsed": false,
    "slideshow": {
     "slide_type": "skip"
    }
   },
   "outputs": [],
   "source": [
    "dp   = lambda date: pd.datetime.strptime(date, '%d%b%Y')\n",
    " \n",
    "data = pd.read_csv('Example Stocks.csv', parse_dates=['date'], date_parser=dp)\n",
    "\n",
    "data.columns = list( map( lambda x : x.lower(), data.columns ) )\n",
    "data['asset'] = data['asset'].apply( lambda x : x.title() )\n",
    "\n",
    "\n",
    "class Stock:\n",
    "    def __init__( self, permno, color, data=data ):\n",
    "        self.permno = permno\n",
    "        self.color  = color\n",
    "        self.mask   = (data['permno']==permno)\n",
    "        self.name   = data[self.mask]['asset'].iloc[0]\n",
    "        \n",
    "CocaCola     = Stock( 11308, sns.xkcd_rgb['red']  )\n",
    "Apple        = Stock( 14593, sns.xkcd_rgb['denim blue'] )\n",
    "PhilipMorris = Stock( 92602, sns.xkcd_rgb['dark grey'] )\n",
    "Tesla        = Stock( 93436, sns.xkcd_rgb['teal'] )\n",
    "\n",
    "all_stocks   = [ Apple, CocaCola, PhilipMorris, Tesla ]\n",
    "stock_colors = [ x.color for x in all_stocks ]"
   ]
  },
  {
   "cell_type": "code",
   "execution_count": 3,
   "metadata": {
    "collapsed": false,
    "slideshow": {
     "slide_type": "skip"
    }
   },
   "outputs": [],
   "source": [
    "def plot_returns(stocks, data=data):\n",
    "    \n",
    "    if type(stocks) == Stock:\n",
    "        stocks = [stocks]\n",
    "\n",
    "    fig, ax1 = plt.subplots(1,1, figsize=FS)\n",
    "    \n",
    "    for stock in stocks:\n",
    "        df = data[ data['permno']==stock.permno ]\n",
    "        df.plot(\n",
    "            y='ret', x='date', style=':', marker='o', \n",
    "            label=stock.name+' monthly returns', \n",
    "            ax=ax1, color= stock.color\n",
    "               )\n",
    "        \n",
    "    legend = plt.legend(frameon=True, loc=0)\n",
    "    frame = legend.get_frame()\n",
    "    frame.set_facecolor('white')\n",
    "    plt.ylim([-0.3,0.3])\n",
    "    #ax1.axhline(0, linestyle=':', color='grey')"
   ]
  },
  {
   "cell_type": "markdown",
   "metadata": {
    "slideshow": {
     "slide_type": "skip"
    }
   },
   "source": [
    "<br/><br/><br/>"
   ]
  },
  {
   "cell_type": "markdown",
   "metadata": {
    "slideshow": {
     "slide_type": "slide"
    }
   },
   "source": [
    "## Statistical Methods for Capital Markets\n",
    "<br/>"
   ]
  },
  {
   "cell_type": "markdown",
   "metadata": {
    "slideshow": {
     "slide_type": "fragment"
    }
   },
   "source": [
    "- Expectation and Expected Return"
   ]
  },
  {
   "cell_type": "markdown",
   "metadata": {
    "slideshow": {
     "slide_type": "fragment"
    }
   },
   "source": [
    "- Variance and Return Volatility"
   ]
  },
  {
   "cell_type": "markdown",
   "metadata": {
    "slideshow": {
     "slide_type": "fragment"
    }
   },
   "source": [
    "- Sharpe Ratio"
   ]
  },
  {
   "cell_type": "markdown",
   "metadata": {
    "slideshow": {
     "slide_type": "fragment"
    }
   },
   "source": [
    "- Covariance and Correlation"
   ]
  },
  {
   "cell_type": "markdown",
   "metadata": {
    "slideshow": {
     "slide_type": "fragment"
    }
   },
   "source": [
    "- Diversification"
   ]
  },
  {
   "cell_type": "markdown",
   "metadata": {
    "slideshow": {
     "slide_type": "slide"
    }
   },
   "source": [
    "## Returns\n",
    "<br/>\n",
    "Returns are defined as the percentage change in the price\n",
    "\n",
    "<br/>\n",
    "$$ R_t = \\frac{p_{t}-p_{t-1}}{p_{t-1}} = \\frac{p_{t}}{p_{t-1}} - 1 $$\n"
   ]
  },
  {
   "cell_type": "markdown",
   "metadata": {
    "slideshow": {
     "slide_type": "fragment"
    }
   },
   "source": [
    "Usually, we also consider dividends\n",
    "\n",
    "$$ R_t = \\frac{p_{t}+d_{t}}{p_{t-1}} - 1 $$"
   ]
  },
  {
   "cell_type": "markdown",
   "metadata": {
    "slideshow": {
     "slide_type": "slide"
    }
   },
   "source": [
    "## Historical Returns\n",
    "As an example, I downloaded historical returns of 4 well-known companies quoted in the US equity market, from 2011 to 2015.\n",
    "\n",
    "Let's see what we have:"
   ]
  },
  {
   "cell_type": "code",
   "execution_count": 4,
   "metadata": {
    "collapsed": false,
    "slideshow": {
     "slide_type": "fragment"
    }
   },
   "outputs": [
    {
     "data": {
      "text/html": [
       "<div>\n",
       "<table border=\"1\" class=\"dataframe\">\n",
       "  <thead>\n",
       "    <tr style=\"text-align: right;\">\n",
       "      <th></th>\n",
       "      <th>asset</th>\n",
       "      <th>date</th>\n",
       "      <th>prc</th>\n",
       "      <th>ret</th>\n",
       "    </tr>\n",
       "  </thead>\n",
       "  <tbody>\n",
       "    <tr>\n",
       "      <th>0</th>\n",
       "      <td>Coca Cola</td>\n",
       "      <td>2011-01-31</td>\n",
       "      <td>62.8500</td>\n",
       "      <td>-0.0444</td>\n",
       "    </tr>\n",
       "    <tr>\n",
       "      <th>1</th>\n",
       "      <td>Coca Cola</td>\n",
       "      <td>2011-02-28</td>\n",
       "      <td>63.9200</td>\n",
       "      <td>0.0170</td>\n",
       "    </tr>\n",
       "    <tr>\n",
       "      <th>60</th>\n",
       "      <td>Apple</td>\n",
       "      <td>2011-01-31</td>\n",
       "      <td>339.3200</td>\n",
       "      <td>0.0520</td>\n",
       "    </tr>\n",
       "    <tr>\n",
       "      <th>61</th>\n",
       "      <td>Apple</td>\n",
       "      <td>2011-02-28</td>\n",
       "      <td>353.2100</td>\n",
       "      <td>0.0409</td>\n",
       "    </tr>\n",
       "    <tr>\n",
       "      <th>120</th>\n",
       "      <td>Philip Morris</td>\n",
       "      <td>2011-01-31</td>\n",
       "      <td>57.2400</td>\n",
       "      <td>-0.0220</td>\n",
       "    </tr>\n",
       "    <tr>\n",
       "      <th>121</th>\n",
       "      <td>Philip Morris</td>\n",
       "      <td>2011-02-28</td>\n",
       "      <td>62.7800</td>\n",
       "      <td>0.0968</td>\n",
       "    </tr>\n",
       "    <tr>\n",
       "      <th>180</th>\n",
       "      <td>Tesla Motors</td>\n",
       "      <td>2011-01-31</td>\n",
       "      <td>24.1000</td>\n",
       "      <td>-0.0950</td>\n",
       "    </tr>\n",
       "    <tr>\n",
       "      <th>181</th>\n",
       "      <td>Tesla Motors</td>\n",
       "      <td>2011-02-28</td>\n",
       "      <td>23.8900</td>\n",
       "      <td>-0.0087</td>\n",
       "    </tr>\n",
       "  </tbody>\n",
       "</table>\n",
       "</div>"
      ],
      "text/plain": [
       "             asset       date      prc     ret\n",
       "0        Coca Cola 2011-01-31  62.8500 -0.0444\n",
       "1        Coca Cola 2011-02-28  63.9200  0.0170\n",
       "60           Apple 2011-01-31 339.3200  0.0520\n",
       "61           Apple 2011-02-28 353.2100  0.0409\n",
       "120  Philip Morris 2011-01-31  57.2400 -0.0220\n",
       "121  Philip Morris 2011-02-28  62.7800  0.0968\n",
       "180   Tesla Motors 2011-01-31  24.1000 -0.0950\n",
       "181   Tesla Motors 2011-02-28  23.8900 -0.0087"
      ]
     },
     "execution_count": 4,
     "metadata": {},
     "output_type": "execute_result"
    }
   ],
   "source": [
    "data.groupby('asset').head(2)[['asset', 'date', 'prc', 'ret']]"
   ]
  },
  {
   "cell_type": "markdown",
   "metadata": {
    "slideshow": {
     "slide_type": "skip"
    }
   },
   "source": [
    "<br/><br/><br/>"
   ]
  },
  {
   "cell_type": "markdown",
   "metadata": {
    "slideshow": {
     "slide_type": "slide"
    }
   },
   "source": [
    "## Expectation\n",
    "\n",
    "<br/>\n",
    "The **expected value** of a random variable $X$ is defined as\n",
    "\n",
    "$$ E(X) = \\sum_{x} x \\cdot P_X(x) $$\n",
    "\n",
    "where the sum runs over all the possible values that $X$ can take, while $P(x)$ denotes the probability that $X$ takes the values $x$.\n",
    "<br/><br/>\n",
    "\n",
    "---\n",
    "**Remember:** $X$ is a random variable, while $E(X)$ is just a number"
   ]
  },
  {
   "cell_type": "markdown",
   "metadata": {
    "slideshow": {
     "slide_type": "slide"
    }
   },
   "source": [
    "## Properties of Expectation\n",
    "- The expectation of a number is just the number itself: \n",
    "\n",
    "$$ \\quad E(a) = a \\quad \\forall a \\in \\mathbb{R} $$\n",
    "\n",
    "- The expectation operator is **linear**: if $X$ and $Y$ are random variables and $ a,b,c $ are numbers, then\n",
    "\n",
    "$$ \\quad E(a + bX + cY ) = a + b E(X) + c E(Y) $$\n"
   ]
  },
  {
   "cell_type": "markdown",
   "metadata": {
    "slideshow": {
     "slide_type": "fragment"
    }
   },
   "source": [
    "---\n",
    "**Exercise:** Prove these properties by using the definition of $E(\\;)$ and the fact that a number can be seen as a random variable with only one possible realization"
   ]
  },
  {
   "cell_type": "markdown",
   "metadata": {
    "slideshow": {
     "slide_type": "slide"
    }
   },
   "source": [
    "## Sample Average\n",
    "Suppose we have a sample of $n$ realizations $\\{ x_1, \\dots, x_n \\}$ of a random variable $X$. The empirical counterpart of the expectation operator is the **sample average**, defined as\n",
    "\n",
    "<br/>\n",
    "\n",
    "$$ \\hat{E}(X) = \\frac{1}{n}\\sum_{i=1}^n x_i $$\n",
    "\n",
    "<br/>\n",
    "Basically, we are computing the average over all the realizations of the sample"
   ]
  },
  {
   "cell_type": "markdown",
   "metadata": {
    "slideshow": {
     "slide_type": "slide"
    }
   },
   "source": [
    "## Expected Return\n",
    "In the case of stock returns, we don't know their probability distributions. \n",
    "\n",
    "But we have realizations from historical data, so we can compute the sample average, or **mean**"
   ]
  },
  {
   "cell_type": "code",
   "execution_count": 8,
   "metadata": {
    "collapsed": false,
    "slideshow": {
     "slide_type": "skip"
    }
   },
   "outputs": [],
   "source": [
    "def plot_mean(data):\n",
    "    data.groupby('asset')['ret'].mean().plot(kind='barh', figsize=FSSS, color=stock_colors)\n",
    "    _ = plt.title('Expected Return')"
   ]
  },
  {
   "cell_type": "code",
   "execution_count": 9,
   "metadata": {
    "collapsed": false,
    "slideshow": {
     "slide_type": "fragment"
    }
   },
   "outputs": [
    {
     "data": {
      "image/png": "[encoded data removed]",
      "text/plain": [
       "<matplotlib.figure.Figure at 0x118f11860>"
      ]
     },
     "metadata": {},
     "output_type": "display_data"
    }
   ],
   "source": [
    "plot_mean(data)"
   ]
  },
  {
   "cell_type": "markdown",
   "metadata": {
    "slideshow": {
     "slide_type": "subslide"
    }
   },
   "source": [
    "As you can see below, using the function *mean* on any software ( like Excel, Matlab, R, etc... ) is equivalent to summing all the values and dividing by the number of observations in the sample "
   ]
  },
  {
   "cell_type": "code",
   "execution_count": 10,
   "metadata": {
    "collapsed": false,
    "slideshow": {
     "slide_type": "fragment"
    }
   },
   "outputs": [
    {
     "data": {
      "text/html": [
       "<div>\n",
       "<table border=\"1\" class=\"dataframe\">\n",
       "  <thead>\n",
       "    <tr>\n",
       "      <th></th>\n",
       "      <th colspan=\"2\" halign=\"left\">ret</th>\n",
       "    </tr>\n",
       "    <tr>\n",
       "      <th></th>\n",
       "      <th>mean</th>\n",
       "      <th>E</th>\n",
       "    </tr>\n",
       "    <tr>\n",
       "      <th>asset</th>\n",
       "      <th></th>\n",
       "      <th></th>\n",
       "    </tr>\n",
       "  </thead>\n",
       "  <tbody>\n",
       "    <tr>\n",
       "      <th>Apple</th>\n",
       "      <td>0.0175</td>\n",
       "      <td>0.0175</td>\n",
       "    </tr>\n",
       "    <tr>\n",
       "      <th>Coca Cola</th>\n",
       "      <td>0.0076</td>\n",
       "      <td>0.0076</td>\n",
       "    </tr>\n",
       "    <tr>\n",
       "      <th>Philip Morris</th>\n",
       "      <td>0.0119</td>\n",
       "      <td>0.0119</td>\n",
       "    </tr>\n",
       "    <tr>\n",
       "      <th>Tesla Motors</th>\n",
       "      <td>0.0488</td>\n",
       "      <td>0.0488</td>\n",
       "    </tr>\n",
       "  </tbody>\n",
       "</table>\n",
       "</div>"
      ],
      "text/plain": [
       "                 ret       \n",
       "                mean      E\n",
       "asset                      \n",
       "Apple         0.0175 0.0175\n",
       "Coca Cola     0.0076 0.0076\n",
       "Philip Morris 0.0119 0.0119\n",
       "Tesla Motors  0.0488 0.0488"
      ]
     },
     "execution_count": 10,
     "metadata": {},
     "output_type": "execute_result"
    }
   ],
   "source": [
    "def E(sample):\n",
    "    n = len(sample)\n",
    "    return sample.sum() / n\n",
    "\n",
    "data.groupby('asset').agg( { 'ret':[ mean, E ] } )"
   ]
  },
  {
   "cell_type": "markdown",
   "metadata": {
    "slideshow": {
     "slide_type": "skip"
    }
   },
   "source": [
    "<br/><br/><br/>"
   ]
  },
  {
   "cell_type": "markdown",
   "metadata": {
    "slideshow": {
     "slide_type": "slide"
    }
   },
   "source": [
    "## Variance\n",
    "\n",
    "The **variance** of a random variable $X$ is defined as\n",
    "\n",
    "$$ V(X) = E\\left( ( X - E(X) )^2 \\, \\right) = \\sum_x ( x-E(X))^2 \\cdot P_X(x) $$\n",
    "\n",
    "where the sum runs over all the possible values that $X$ can take.\n",
    "\n",
    "<br/><br/>\n",
    "\n",
    "---\n",
    "**Remark:** The variance of $X$ is often denoted by $\\sigma^2(X)$."
   ]
  },
  {
   "cell_type": "markdown",
   "metadata": {
    "slideshow": {
     "slide_type": "slide"
    }
   },
   "source": [
    "## Sample Variance\n",
    "When dealing with historical stock market data, we estimate the sample variance by\n",
    "\n",
    "$$ \\hat{V}(X) = \\frac{1}{n-1} \\sum_x \\left( x-\\hat{E}(X) \\right)\\,^2 $$\n",
    "\n",
    "<br/><br/>\n",
    "Basically, we take the sample average of the squared deviations from the mean"
   ]
  },
  {
   "cell_type": "markdown",
   "metadata": {
    "slideshow": {
     "slide_type": "slide"
    }
   },
   "source": [
    "## Properties of Variance\n",
    "\n",
    "- $ V(X) = E( X^2 ) - E(X)^2 $, as can be easily shown using the linearity of $E(\\;)$\n",
    "<br/><br/>\n",
    "- Constants have zero variance: $ V(a) = 0 \\quad \\forall a\\in \\mathbb{R}$\n",
    "<br/><br/>\n",
    "- For any constant $a\\in \\mathbb{R}$ we have $ V(aX) = a^2 V(X) $\n",
    "<br/><br/>\n",
    "- The variance operator is **not** linear. Instead, we need to add a covariance term (see next slides):\n",
    "\n",
    "$$ V(X+Y) = V(X) + V(Y) + 2Cov(X,Y) $$"
   ]
  },
  {
   "cell_type": "markdown",
   "metadata": {
    "slideshow": {
     "slide_type": "slide"
    }
   },
   "source": [
    "## Return Volatility\n",
    "When working with stock returns we usually think in terms of **standard deviation**, which is simply the square root of the variance\n",
    "\n",
    "<br/>\n",
    "\n",
    "$$ \\sigma(X) = \\sqrt{ \\phantom{\\hat{i}}V(X) }  $$\n",
    "\n",
    "<br/>\n",
    "\n",
    "In finance the standard devition of returns is often called **volatiliy**, and it is interpreted as a measure of risk."
   ]
  },
  {
   "cell_type": "code",
   "execution_count": 11,
   "metadata": {
    "collapsed": true,
    "slideshow": {
     "slide_type": "skip"
    }
   },
   "outputs": [],
   "source": [
    "def plot_volatility(data):\n",
    "    data.groupby('asset')['ret'].std().plot(kind='barh', figsize=FS, color=stock_colors)\n",
    "    _ = plt.title('Return Volatility')"
   ]
  },
  {
   "cell_type": "code",
   "execution_count": 12,
   "metadata": {
    "collapsed": false,
    "slideshow": {
     "slide_type": "subslide"
    }
   },
   "outputs": [
    {
     "data": {
      "image/png": "[encoded data removed]",
      "text/plain": [
       "<matplotlib.figure.Figure at 0x11a0621d0>"
      ]
     },
     "metadata": {},
     "output_type": "display_data"
    }
   ],
   "source": [
    "plot_volatility(data)"
   ]
  },
  {
   "cell_type": "markdown",
   "metadata": {
    "slideshow": {
     "slide_type": "skip"
    }
   },
   "source": [
    "<br/><br/><br/>"
   ]
  },
  {
   "cell_type": "markdown",
   "metadata": {
    "slideshow": {
     "slide_type": "slide"
    }
   },
   "source": [
    "## Sharpe Ratio\n",
    "When evaluating an investment opportunity, an investor is mainly interested in the **trade-off** between expected return and risk. \n",
    "\n",
    "Therefore, a widely used metric in finance is the **Sharpe Ratio**\n",
    "\n",
    "$$ S(R) = \\frac{ E(R) - r_f} {\\sigma(R)} $$\n",
    "\n",
    "where $r_f$ is the risk-free rate\n",
    "\n",
    "<br/>\n",
    "\n",
    "---\n",
    "In the following we will assume $r_f=0$"
   ]
  },
  {
   "cell_type": "code",
   "execution_count": 13,
   "metadata": {
    "collapsed": true,
    "slideshow": {
     "slide_type": "skip"
    }
   },
   "outputs": [],
   "source": [
    "def plot_sharpe(data, colors=stock_colors):\n",
    "    df = data.groupby('asset')['ret'].agg( {'ret':[np.mean, np.std]} )\n",
    "    df['Sharpe'] = df['ret','mean'] / df['ret','std']\n",
    "\n",
    "    fig, (ax1, ax2) = plt.subplots(1,2, figsize=FSS)\n",
    "    df['ret'   ].plot( kind='barh', ax=ax1, color=['b','orange'] )\n",
    "    df['Sharpe'].plot( kind='bar' , ax=ax2, color=colors, rot=20, label='Sharpe Ratio')\n",
    "    _ = ax2.legend(loc=0)\n",
    "    \n",
    "\n",
    "def sharpe(data):\n",
    "    df = data.groupby('asset')['ret'].agg( {'ret':[np.mean, np.std]} )\n",
    "    df['Sharpe'] = df['ret','mean'] / df['ret','std']\n",
    "    return df"
   ]
  },
  {
   "cell_type": "code",
   "execution_count": 14,
   "metadata": {
    "collapsed": false,
    "slideshow": {
     "slide_type": "subslide"
    }
   },
   "outputs": [
    {
     "data": {
      "text/html": [
       "<div>\n",
       "<table border=\"1\" class=\"dataframe\">\n",
       "  <thead>\n",
       "    <tr>\n",
       "      <th></th>\n",
       "      <th colspan=\"2\" halign=\"left\">ret</th>\n",
       "      <th>Sharpe</th>\n",
       "    </tr>\n",
       "    <tr>\n",
       "      <th></th>\n",
       "      <th>mean</th>\n",
       "      <th>std</th>\n",
       "      <th></th>\n",
       "    </tr>\n",
       "    <tr>\n",
       "      <th>asset</th>\n",
       "      <th></th>\n",
       "      <th></th>\n",
       "      <th></th>\n",
       "    </tr>\n",
       "  </thead>\n",
       "  <tbody>\n",
       "    <tr>\n",
       "      <th>Apple</th>\n",
       "      <td>0.0175</td>\n",
       "      <td>0.0714</td>\n",
       "      <td>0.2452</td>\n",
       "    </tr>\n",
       "    <tr>\n",
       "      <th>Coca Cola</th>\n",
       "      <td>0.0076</td>\n",
       "      <td>0.0393</td>\n",
       "      <td>0.1946</td>\n",
       "    </tr>\n",
       "    <tr>\n",
       "      <th>Philip Morris</th>\n",
       "      <td>0.0119</td>\n",
       "      <td>0.0542</td>\n",
       "      <td>0.2186</td>\n",
       "    </tr>\n",
       "    <tr>\n",
       "      <th>Tesla Motors</th>\n",
       "      <td>0.0488</td>\n",
       "      <td>0.1663</td>\n",
       "      <td>0.2932</td>\n",
       "    </tr>\n",
       "  </tbody>\n",
       "</table>\n",
       "</div>"
      ],
      "text/plain": [
       "                 ret        Sharpe\n",
       "                mean    std       \n",
       "asset                             \n",
       "Apple         0.0175 0.0714 0.2452\n",
       "Coca Cola     0.0076 0.0393 0.1946\n",
       "Philip Morris 0.0119 0.0542 0.2186\n",
       "Tesla Motors  0.0488 0.1663 0.2932"
      ]
     },
     "execution_count": 14,
     "metadata": {},
     "output_type": "execute_result"
    }
   ],
   "source": [
    "sharpe(data)"
   ]
  },
  {
   "cell_type": "code",
   "execution_count": 15,
   "metadata": {
    "collapsed": false,
    "slideshow": {
     "slide_type": "fragment"
    }
   },
   "outputs": [
    {
     "data": {
      "image/png": "[encoded data removed]",
      "text/plain": [
       "<matplotlib.figure.Figure at 0x11a49fac8>"
      ]
     },
     "metadata": {},
     "output_type": "display_data"
    }
   ],
   "source": [
    "plot_sharpe(data)"
   ]
  },
  {
   "cell_type": "markdown",
   "metadata": {
    "slideshow": {
     "slide_type": "skip"
    }
   },
   "source": [
    "<br/><br/><br/>"
   ]
  },
  {
   "cell_type": "markdown",
   "metadata": {
    "slideshow": {
     "slide_type": "slide"
    }
   },
   "source": [
    "## Covariance and Correlation\n",
    "The **covariance** between two random variables $X$ and $Y$ is defined as\n",
    "\n",
    "$$ Cov(X,Y) = E(XY) - E(X)E(Y) $$\n",
    "<br/>"
   ]
  },
  {
   "cell_type": "markdown",
   "metadata": {
    "slideshow": {
     "slide_type": "fragment"
    }
   },
   "source": [
    "The **correlation** coefficient is a normalized version of the covariance:\n",
    "\n",
    "$$ Corr(X,Y) = \\frac{Cov(X,Y)}{\\sigma_X \\sigma_Y} \\in (-1, 1) $$\n",
    "<br/>\n",
    "The correlation ( often denoted by $\\rho_{XY}$ ) measures the likelihood that $X$ and $Y$ will *move in the same direction* ( $\\rho>0$ ) or in the *opposite direction* ( $\\rho<0$ )"
   ]
  },
  {
   "cell_type": "markdown",
   "metadata": {
    "slideshow": {
     "slide_type": "slide"
    }
   },
   "source": [
    "## Properties of Covariance\n",
    "\n",
    "For every random variables $X, Y$ and $Z$ and constant $a\\in \\mathbb{R}$\n",
    "\n",
    "- **Symmetry:** $$ Cov(X,Y) = Cov(Y,X) $$\n",
    "<br/>\n",
    "- **Bi-linearity:**<br/>\n",
    "$$ Cov(aX, Y ) = a\\,Cov(X,Y) $$ \n",
    "\n",
    "$$ Cov(X+Y,Z) = Cov(X,Z) + Cov(Y,Z) $$\n",
    "<br/>\n",
    "- Constant do **not** covary: $\\quad Cov(a, X) = 0 $\n",
    "<br/>"
   ]
  },
  {
   "cell_type": "code",
   "execution_count": 16,
   "metadata": {
    "collapsed": true,
    "slideshow": {
     "slide_type": "skip"
    }
   },
   "outputs": [],
   "source": [
    "def print_correlation(data):\n",
    "    df = pd.DataFrame( )\n",
    "    for stock in all_stocks:\n",
    "        df[stock.name] = data[stock.mask].set_index('date')['ret']\n",
    "    print( '\\nCorrelation Matrix:' )\n",
    "    display( df.corr() )"
   ]
  },
  {
   "cell_type": "code",
   "execution_count": 17,
   "metadata": {
    "collapsed": false,
    "slideshow": {
     "slide_type": "subslide"
    }
   },
   "outputs": [
    {
     "name": "stdout",
     "output_type": "stream",
     "text": [
      "\n",
      "Correlation Matrix:\n"
     ]
    },
    {
     "data": {
      "text/html": [
       "<div>\n",
       "<table border=\"1\" class=\"dataframe\">\n",
       "  <thead>\n",
       "    <tr style=\"text-align: right;\">\n",
       "      <th></th>\n",
       "      <th>Apple</th>\n",
       "      <th>Coca Cola</th>\n",
       "      <th>Philip Morris</th>\n",
       "      <th>Tesla Motors</th>\n",
       "    </tr>\n",
       "  </thead>\n",
       "  <tbody>\n",
       "    <tr>\n",
       "      <th>Apple</th>\n",
       "      <td>1.0000</td>\n",
       "      <td>0.2456</td>\n",
       "      <td>0.3365</td>\n",
       "      <td>0.0137</td>\n",
       "    </tr>\n",
       "    <tr>\n",
       "      <th>Coca Cola</th>\n",
       "      <td>0.2456</td>\n",
       "      <td>1.0000</td>\n",
       "      <td>0.5747</td>\n",
       "      <td>-0.0918</td>\n",
       "    </tr>\n",
       "    <tr>\n",
       "      <th>Philip Morris</th>\n",
       "      <td>0.3365</td>\n",
       "      <td>0.5747</td>\n",
       "      <td>1.0000</td>\n",
       "      <td>0.0584</td>\n",
       "    </tr>\n",
       "    <tr>\n",
       "      <th>Tesla Motors</th>\n",
       "      <td>0.0137</td>\n",
       "      <td>-0.0918</td>\n",
       "      <td>0.0584</td>\n",
       "      <td>1.0000</td>\n",
       "    </tr>\n",
       "  </tbody>\n",
       "</table>\n",
       "</div>"
      ],
      "text/plain": [
       "               Apple  Coca Cola  Philip Morris  Tesla Motors\n",
       "Apple         1.0000     0.2456         0.3365        0.0137\n",
       "Coca Cola     0.2456     1.0000         0.5747       -0.0918\n",
       "Philip Morris 0.3365     0.5747         1.0000        0.0584\n",
       "Tesla Motors  0.0137    -0.0918         0.0584        1.0000"
      ]
     },
     "metadata": {},
     "output_type": "display_data"
    }
   ],
   "source": [
    "print_correlation(data)"
   ]
  },
  {
   "cell_type": "markdown",
   "metadata": {
    "slideshow": {
     "slide_type": "fragment"
    }
   },
   "source": [
    "<br/>\n",
    "Our companies are far from being 100% correlated. There is room for diversification!\n",
    "\n",
    "In particular, Tesla has a very low correlation with the other companies."
   ]
  },
  {
   "cell_type": "markdown",
   "metadata": {
    "slideshow": {
     "slide_type": "skip"
    }
   },
   "source": [
    "<br/><br/><br/>"
   ]
  },
  {
   "cell_type": "markdown",
   "metadata": {
    "slideshow": {
     "slide_type": "slide"
    }
   },
   "source": [
    "## Diversification\n",
    "\n",
    "Diversification is a key concept in finance.\n",
    "An investor can mitigate the risk by forming a well-diversified portfolio with multiple stocks.\n",
    "The less these stocks are correlated, the more the portfolio is diversified.\n",
    "\n",
    "We now form an equally-weighted portfolio with our 4 stocks.<br/>\n",
    "This means that we invest 25% of our capital in each company.\n",
    "\n",
    "We can write down the return of our portfolio as\n",
    "\n",
    "<br/>\n",
    "$$ R_P = \\frac{R_1}{4} + \\frac{R_2}{4} + \\frac{R_3}{4} + \\frac{R_4}{4} $$"
   ]
  },
  {
   "cell_type": "code",
   "execution_count": 18,
   "metadata": {
    "collapsed": false,
    "slideshow": {
     "slide_type": "skip"
    }
   },
   "outputs": [],
   "source": [
    "pf = pd.DataFrame( )\n",
    "pf['ret'] = data[all_stocks[0].mask].set_index('date')['ret'] * 0.25\n",
    "for stock in all_stocks[1:]:\n",
    "    pf['ret'] = pf['ret'] + data[stock.mask].set_index('date')['ret'] * 0.25    \n",
    "pf['asset' ] = 'Diversified Portfolio'\n",
    "pf['permno'] = 1\n",
    "\n",
    "data_pf = data.append( pf.reset_index() )\n",
    "\n",
    "Portfolio        = Stock( 1, 'purple', data=data_pf )\n",
    "\n",
    "all_stocks_pf    = [ Apple, CocaCola, Portfolio, PhilipMorris, Tesla ]\n",
    "stock_colors_pf  = [ x.color for x in all_stocks_pf ]"
   ]
  },
  {
   "cell_type": "code",
   "execution_count": 19,
   "metadata": {
    "collapsed": false,
    "slideshow": {
     "slide_type": "subslide"
    }
   },
   "outputs": [
    {
     "data": {
      "image/png": "[encoded data removed]",
      "text/plain": [
       "<matplotlib.figure.Figure at 0x114de4b38>"
      ]
     },
     "metadata": {},
     "output_type": "display_data"
    }
   ],
   "source": [
    "plot_sharpe(data_pf, colors=stock_colors_pf)"
   ]
  },
  {
   "cell_type": "markdown",
   "metadata": {
    "slideshow": {
     "slide_type": "fragment"
    }
   },
   "source": [
    "Our diversified porfolio offers a significantly higher Sharpe ratio than any single asset.\n",
    "\n",
    "This is the power of **diversification**!"
   ]
  },
  {
   "cell_type": "markdown",
   "metadata": {
    "slideshow": {
     "slide_type": "slide"
    }
   },
   "source": [
    "## The Mathematics of Diversification\n",
    "\n",
    "The concept of diversification relies on the following equality\n",
    "\n",
    "$$ V(aX + bY) = a^2 V(X) + b^2 V(Y) + 2ab Cov(X,Y) $$\n",
    "\n",
    "which follows  immediately from the definitions (exercise).\n"
   ]
  },
  {
   "cell_type": "markdown",
   "metadata": {
    "slideshow": {
     "slide_type": "fragment"
    }
   },
   "source": [
    "Since by definition $Cov(X,Y) = \\sigma_X \\sigma_Y \\rho_{XY}$, we can also write\n",
    "\n",
    "$$ V(aX + bY) = a^2 \\sigma^2_X + b^2 \\sigma^2_Y + 2 \\, a \\sigma_X \\,b \\sigma_Y \\, \\rho_{XY} $$\n",
    "\n",
    "This equation highlights the key role of the **correlation** $\\rho_{XY}$ between $X$ and $Y$ when estimating the risk of a portfolio of $X$ and $Y$ with weights $a$ and $b$"
   ]
  },
  {
   "cell_type": "code",
   "execution_count": 20,
   "metadata": {
    "collapsed": false,
    "slideshow": {
     "slide_type": "skip"
    }
   },
   "outputs": [
    {
     "data": {
      "text/plain": [
       "0.028200000000000003"
      ]
     },
     "execution_count": 20,
     "metadata": {},
     "output_type": "execute_result"
    }
   ],
   "source": [
    "sx  =  0.0393  # Coca-Cola\n",
    "sy  =  0.1663  # Tesla\n",
    "\n",
    "ex  =  0.0076\n",
    "ey  =  0.0488\n",
    "\n",
    "rho = -0.0918\n",
    "\n",
    "sigma = np.sqrt( 0.25 * sx**2 + 0.25 * sy**2 + 0.5 * sx * sy * rho )\n",
    "er    = 0.5 * ex + 0.5 * ey\n",
    "\n",
    "er\n",
    "\n",
    "#ex/sx, ey/sy, er/sigma"
   ]
  },
  {
   "cell_type": "markdown",
   "metadata": {
    "slideshow": {
     "slide_type": "slide"
    }
   },
   "source": [
    "## Numerical Example\n",
    "\n",
    "Consider a portfolio with half the capital invested in $X=$ Coca-Cola, while the remaining 50% is invested in $Y=$ Tesla. \n",
    "<br/>We can describe it as\n",
    "$$ aX + bY \\quad \\text{with} \\quad a=b=\\frac{1}{2} $$\n",
    "\n",
    "We already estimated the returns volatilities of the two companies\n",
    "\n",
    "$$ \\sigma_X = 0.039 \\qquad \\sigma_Y = 0.166 $$\n",
    "\n",
    "and, further, we know that the assets are negatively correlated: \n",
    "\n",
    "$$\\rho_{XY} = -0.092 $$"
   ]
  },
  {
   "cell_type": "markdown",
   "metadata": {
    "slideshow": {
     "slide_type": "subslide"
    }
   },
   "source": [
    "Therefore the variance of the portfolio $V(R_P)$ is\n",
    "\n",
    "<br/>\n",
    "\n",
    "$ V(aX+bY) = \\frac{a^2}{4} + \\frac{b^2}{4} + \\frac{\\sigma_X\\,\\sigma_Y\\,\\rho_{XY}}{2} = 0.007 $\n",
    "\n",
    "<br/>\n",
    "\n",
    "which corresponds to a volatility of \n",
    "\n",
    "<br/>\n",
    "\n",
    "$$ \\sigma_P = \\sqrt{0.007} = 0.0837 $$"
   ]
  },
  {
   "cell_type": "markdown",
   "metadata": {
    "slideshow": {
     "slide_type": "subslide"
    }
   },
   "source": [
    "On the other hand, the expected return of the portfolio is given by\n",
    "\n",
    "<br/>\n",
    "$$ E(R_P) = E(aX+bY) = \\frac{0.0076}{2} + \\frac{0.0488}{2} = 0.0282 $$\n",
    "<br/>\n",
    "\n",
    "Hence, the portfolio has a Sharpe ratio of\n",
    "\n",
    "<br/>\n",
    "$$ \\frac{E(R_P)}{\\sigma_P} = \\frac{0.0282}{0.0837} = 0.337 $$\n",
    "\n",
    "<br/>\n",
    "which is larger than the Sharpe ratios of the two stocks."
   ]
  },
  {
   "cell_type": "markdown",
   "metadata": {
    "slideshow": {
     "slide_type": "skip"
    }
   },
   "source": [
    "<br/><br/><br/>"
   ]
  },
  {
   "cell_type": "code",
   "execution_count": 21,
   "metadata": {
    "collapsed": false,
    "slideshow": {
     "slide_type": "skip"
    }
   },
   "outputs": [],
   "source": [
    "def plot_cumulative(stocks, data=data):\n",
    "    if type(stocks) == Stock:\n",
    "        stocks = [stocks]\n",
    "    fig, (ax1) = plt.subplots(1,1, figsize=FS)\n",
    "    for stock in stocks:\n",
    "        df = data[ data['permno']==stock.permno ].set_index('date').copy()\n",
    "        df['ER' ] = df['ret'].mean()\n",
    "        df['ret'].cumsum().plot(ax=ax1, label=stock.name +' Cumulative Return', color=stock.color)\n",
    "        df['ER' ].cumsum().plot(ax=ax1, label=stock.name +' Expected Cumulative Return', style=':', color=stock.color)\n",
    "\n",
    "    legend = plt.legend(frameon=True, loc=2)\n",
    "    frame = legend.get_frame()\n",
    "    frame.set_facecolor('white')"
   ]
  },
  {
   "cell_type": "markdown",
   "metadata": {
    "slideshow": {
     "slide_type": "skip"
    }
   },
   "source": [
    "<br/><br/><br/>"
   ]
  },
  {
   "cell_type": "code",
   "execution_count": 25,
   "metadata": {
    "collapsed": false,
    "slideshow": {
     "slide_type": "skip"
    }
   },
   "outputs": [],
   "source": [
    "def plot_normal(ax1, mu=0, sigma=0.2, color='b', fixed_range=True):\n",
    "    \n",
    "    if fixed_range:\n",
    "        x = np.linspace(-1, 1, 1000)\n",
    "    else:\n",
    "        x = np.linspace(-sigma*3+mu, sigma*3+mu, 1000)\n",
    "        \n",
    "    ax1.plot(x, mlab.normpdf(x, mu, sigma), color=color, linestyle='-' )\n",
    "    \n",
    "def distribution(stock):\n",
    "    \n",
    "    rets    = data[stock.mask]['ret']\n",
    "    weights = np.ones_like(rets)/len(rets)\n",
    "    \n",
    "    df    = sharpe(data)\n",
    "\n",
    "    mu    = df.ix[stock.name]['ret','mean']\n",
    "    sigma = df.ix[stock.name]['ret','std' ]\n",
    "\n",
    "    fig, (ax1) = plt.subplots(1,1,figsize=FS)\n",
    "    rets.hist(bins=30, ax=ax1, color=stock.color, alpha=0.75, normed=True)\n",
    "\n",
    "    domain = [x for x in ax1.get_xlim()]\n",
    "    x = np.linspace(domain[0], domain[1], 100)\n",
    "\n",
    "    ax1.plot(x, mlab.normpdf(x, mu, sigma), color='k', linestyle='--' )\n",
    "    ax1.axvline(mu, linestyle=':', color='grey')"
   ]
  },
  {
   "cell_type": "markdown",
   "metadata": {
    "slideshow": {
     "slide_type": "slide"
    }
   },
   "source": [
    "## Normal Distribution\n",
    "\n",
    "The normal (or Gaussian) distribution is widely used in financial applications\n",
    "<br/>\n",
    "\n",
    "The Probability Distribution Function (PDF) of a Gaussian random variable with mean $\\mu$ and variance $\\sigma$ is defined as\n",
    "\n",
    "$$ \\phi(x,\\mu,\\sigma) := \\frac{1}{\\sqrt{2\\pi}\\sigma} \\exp\\left( -\\frac{(x-\\mu)^2}{2\\sigma} \\; \\right) $$\n",
    "<br/>\n",
    "\n",
    "To indicate that $X$ is normally distributed with mean $\\mu$ and variance $\\sigma$ we write \n",
    "\n",
    "$$ X \\sim N(\\mu, \\sigma) $$"
   ]
  },
  {
   "cell_type": "code",
   "execution_count": 26,
   "metadata": {
    "collapsed": false,
    "slideshow": {
     "slide_type": "slide"
    }
   },
   "outputs": [
    {
     "data": {
      "image/png": "[encoded data removed]",
      "text/plain": [
       "<matplotlib.figure.Figure at 0x11b7b4d30>"
      ]
     },
     "metadata": {},
     "output_type": "display_data"
    }
   ],
   "source": [
    "fig, (ax1) = plt.subplots(1,1,figsize=FS)\n",
    "plot_normal(ax1,  0.2, 0.3 )\n",
    "plot_normal(ax1,  0.1, 0.15, color='r')\n",
    "plot_normal(ax1, -0.3, 0.2 , color='g')"
   ]
  },
  {
   "cell_type": "markdown",
   "metadata": {
    "slideshow": {
     "slide_type": "skip"
    }
   },
   "source": [
    "<br/><br/><br/>"
   ]
  },
  {
   "cell_type": "markdown",
   "metadata": {
    "slideshow": {
     "slide_type": "skip"
    }
   },
   "source": [
    "## Cumulative Return"
   ]
  }
 ],
 "metadata": {
  "celltoolbar": "Slideshow",
  "kernelspec": {
   "display_name": "Python 3",
   "language": "python",
   "name": "python3"
  },
  "language_info": {
   "codemirror_mode": {
    "name": "ipython",
    "version": 3
   },
   "file_extension": ".py",
   "mimetype": "text/x-python",
   "name": "python",
   "nbconvert_exporter": "python",
   "pygments_lexer": "ipython3",
   "version": "3.5.1"
  }
 },
 "nbformat": 4,
 "nbformat_minor": 0
}
