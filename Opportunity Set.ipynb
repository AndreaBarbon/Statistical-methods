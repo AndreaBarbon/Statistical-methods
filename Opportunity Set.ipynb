{
 "cells": [
  {
   "cell_type": "code",
   "execution_count": 1,
   "metadata": {
    "collapsed": false
   },
   "outputs": [
    {
     "name": "stdout",
     "output_type": "stream",
     "text": [
      "Populating the interactive namespace from numpy and matplotlib\n"
     ]
    }
   ],
   "source": [
    "import numpy  as np\n",
    "import pandas as pd\n",
    "import seaborn as sns\n",
    "sns.set_style('whitegrid')\n",
    "sns.set_context('talk', rc={\"lines.linewidth\": 2} )\n",
    "\n",
    "%pylab inline"
   ]
  },
  {
   "cell_type": "code",
   "execution_count": 2,
   "metadata": {
    "collapsed": true
   },
   "outputs": [],
   "source": [
    "class Asset:\n",
    "    def __init__(self, name, ER, sigma):\n",
    "        self.name  = name\n",
    "        self.ER    = ER\n",
    "        self.sigma = sigma"
   ]
  },
  {
   "cell_type": "markdown",
   "metadata": {},
   "source": [
    "# Exercise 1"
   ]
  },
  {
   "cell_type": "code",
   "execution_count": 11,
   "metadata": {
    "collapsed": false
   },
   "outputs": [
    {
     "data": {
      "image/png": "[encoded data removed]",
      "text/plain": [
       "<matplotlib.figure.Figure at 0x1199d67f0>"
      ]
     },
     "metadata": {},
     "output_type": "display_data"
    }
   ],
   "source": [
    "def form_portfolio(A, B, w_A, rho, name):\n",
    "    w_B   = 1-w_A\n",
    "    ER    = w_A * A.ER + w_B * B.ER\n",
    "    sigma = w_A**2 * A.sigma**2 + w_B**2 * B.sigma**2 + 2 * w_A * w_B * A.sigma * B.sigma * rho\n",
    "    sigma = np.sqrt(sigma)\n",
    "    return Asset(name, ER, sigma)\n",
    "\n",
    "E   = Asset('E', 0.4  , 0.10  )\n",
    "B   = Asset('B', 0.08 , 0.07 )\n",
    "RHO = 0.55\n",
    "RF  = 0.05\n",
    "\n",
    "fig, (ax1) = plt.subplots(1,1, figsize=(12,6))\n",
    "X = []\n",
    "Y = []\n",
    "for w in [0, 1/6, 2/6, 3/6, 4/6, 5/6, 1]:\n",
    "    pf  = form_portfolio(E,B,w, RHO, 'P_{0:1.2f}'.format(w) )\n",
    "    X.append(pf.sigma)\n",
    "    Y.append(pf.ER   )\n",
    "    \n",
    "#ax1.plot( [0, 0.12 ], [RF,0.5], color='b', linestyle=':' )\n",
    "\n",
    "ax1.plot(X,Y             , marker='o', linestyle='-' , color='k')\n",
    "ax1.scatter(E.sigma, E.ER, marker='o', color='r'     , label='$E$'  , s=210)\n",
    "ax1.scatter(B.sigma, B.ER, marker='o', color='g'     , label='$B$'  , s=210)\n",
    "ax1.scatter(0        , RF, marker='o', color='b'     , label='$r_f$', s=210)\n",
    "\n",
    "\n",
    "ax1.legend(loc=2)\n",
    "\n",
    "_ = ax1.set_xlim([   0, np.max(X) + 0.02 ])\n",
    "_ = ax1.set_ylim([   0, np.max(Y) + 0.1 ])\n",
    "\n",
    "plt.tight_layout()\n",
    "\n",
    "plt.savefig('Capital_0.pdf')"
   ]
  },
  {
   "cell_type": "markdown",
   "metadata": {},
   "source": [
    "# Exercise 2"
   ]
  },
  {
   "cell_type": "code",
   "execution_count": 138,
   "metadata": {
    "collapsed": false
   },
   "outputs": [],
   "source": [
    "def min_var(A , B, rho): \n",
    "    return ( B.sigma**2 - rho * A.sigma * B.sigma ) / ( A.sigma**2 + B.sigma**2 - 2* rho * A.sigma * B.sigma )"
   ]
  },
  {
   "cell_type": "code",
   "execution_count": 137,
   "metadata": {
    "collapsed": false
   },
   "outputs": [
    {
     "name": "stdout",
     "output_type": "stream",
     "text": [
      "w_A = 0.39\n",
      "w_A = 0.61\n"
     ]
    }
   ],
   "source": [
    "RHO = 0.1\n",
    "A = Asset( 'A', 0.10, 0.22 )\n",
    "B = Asset( 'B', 0.07, 0.18 )\n",
    "\n",
    "w_A = min_var(A,B,RHO)\n",
    "w_B = 1 - w_A\n",
    "print( 'w_A = {0:1.2f}'.format(w_A) )\n",
    "print( 'w_A = {0:1.2f}'.format(w_B) )"
   ]
  },
  {
   "cell_type": "markdown",
   "metadata": {},
   "source": [
    "# Exercise 3"
   ]
  },
  {
   "cell_type": "code",
   "execution_count": 154,
   "metadata": {
    "collapsed": true
   },
   "outputs": [],
   "source": [
    "def risk_free(A, B): \n",
    "    return B.sigma / (A.sigma+B.sigma) * A.ER + A.sigma / (A.sigma+B.sigma) * B.ER"
   ]
  },
  {
   "cell_type": "code",
   "execution_count": 160,
   "metadata": {
    "collapsed": false
   },
   "outputs": [
    {
     "data": {
      "text/plain": [
       "0.034"
      ]
     },
     "execution_count": 160,
     "metadata": {},
     "output_type": "execute_result"
    }
   ],
   "source": [
    "A = Asset( 'A', 0.03, 0.10 )\n",
    "B = Asset( 'B', 0.04, 0.15 )\n",
    "\n",
    "risk_free(A,B)"
   ]
  },
  {
   "cell_type": "code",
   "execution_count": null,
   "metadata": {
    "collapsed": true
   },
   "outputs": [],
   "source": []
  }
 ],
 "metadata": {
  "kernelspec": {
   "display_name": "Python 3",
   "language": "python",
   "name": "python3"
  },
  "language_info": {
   "codemirror_mode": {
    "name": "ipython",
    "version": 3
   },
   "file_extension": ".py",
   "mimetype": "text/x-python",
   "name": "python",
   "nbconvert_exporter": "python",
   "pygments_lexer": "ipython3",
   "version": "3.5.1"
  }
 },
 "nbformat": 4,
 "nbformat_minor": 0
}
